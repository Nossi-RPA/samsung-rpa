{
 "cells": [
  {
   "cell_type": "code",
   "execution_count": null,
   "metadata": {},
   "outputs": [],
   "source": [
    "pip install opencv-python\n",
    "pip install pillow"
   ]
  },
  {
   "cell_type": "code",
   "execution_count": 17,
   "metadata": {},
   "outputs": [],
   "source": [
    "import pyautogui\n",
    "\n",
    "x, y = pyautogui.locateCenterOnScreen('kakao_icon.png', confidence=0.8)\n",
    "pyautogui.moveTo(x, y)\n",
    "\n",
    "# 맥북의 경우 아래 코드 적용\n",
    "# x, y = pyautogui.locateCenterOnScreen('kakao_icon.png', confidence=0.8)\n",
    "# pyautogui.moveTo(int(x/2), int(y/2))"
   ]
  }
 ],
 "metadata": {
  "kernelspec": {
   "display_name": "Python 3",
   "language": "python",
   "name": "python3"
  },
  "language_info": {
   "codemirror_mode": {
    "name": "ipython",
    "version": 3
   },
   "file_extension": ".py",
   "mimetype": "text/x-python",
   "name": "python",
   "nbconvert_exporter": "python",
   "pygments_lexer": "ipython3",
   "version": "3.9.6"
  },
  "orig_nbformat": 4
 },
 "nbformat": 4,
 "nbformat_minor": 2
}
