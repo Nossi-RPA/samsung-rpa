{
 "cells": [
  {
   "cell_type": "code",
   "execution_count": null,
   "metadata": {},
   "outputs": [],
   "source": [
    "pip install opencv-python"
   ]
  },
  {
   "cell_type": "code",
   "execution_count": 11,
   "metadata": {},
   "outputs": [
    {
     "name": "stdout",
     "output_type": "stream",
     "text": [
      "Point(x=1462, y=2138)\n"
     ]
    }
   ],
   "source": [
    "import pyautogui\n",
    "import pyscreeze\n",
    "import PIL\n",
    "\n",
    "__PIL_TUPLE_VERSION = tuple(int(x) for x in PIL.__version__.split(\".\"))\n",
    "pyscreeze.PIL__version__ = __PIL_TUPLE_VERSION\n",
    "\n",
    "x, y = pyautogui.locateCenterOnScreen('kakao_icon.png', confidence=0.8)\n",
    "print(pos)\n",
    "pyautogui.moveTo(int(x/2), int(y/2))"
   ]
  }
 ],
 "metadata": {
  "kernelspec": {
   "display_name": "Python 3",
   "language": "python",
   "name": "python3"
  },
  "language_info": {
   "codemirror_mode": {
    "name": "ipython",
    "version": 3
   },
   "file_extension": ".py",
   "mimetype": "text/x-python",
   "name": "python",
   "nbconvert_exporter": "python",
   "pygments_lexer": "ipython3",
   "version": "3.9.6"
  },
  "orig_nbformat": 4
 },
 "nbformat": 4,
 "nbformat_minor": 2
}
