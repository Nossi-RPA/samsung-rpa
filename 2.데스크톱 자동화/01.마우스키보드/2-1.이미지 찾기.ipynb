{
 "cells": [
  {
   "cell_type": "code",
   "execution_count": 20,
   "metadata": {},
   "outputs": [],
   "source": [
    "!pip install pillow\n",
    "!pip install opencv-python\n",
    "!pip install pyscreeze"
   ]
  },
  {
   "cell_type": "code",
   "execution_count": 28,
   "metadata": {},
   "outputs": [
    {
     "name": "stdout",
     "output_type": "stream",
     "text": [
      "1598\n",
      "2138\n"
     ]
    }
   ],
   "source": [
    "import pyautogui\n",
    "# import PIL, pyscreeze\n",
    "# __PIL_TUPLE_VERSION = tuple(int(x) for x in PIL.__version__.split(\".\"))\n",
    "# pyscreeze.PIL__version__ = __PIL_TUPLE_VERSION\n",
    "\n",
    "position = pyautogui.locateCenterOnScreen('kakao_icon.png', confidence=0.8)\n",
    "print(position)\n",
    "\n",
    "# pyautogui.moveTo(x, y)\n",
    "\n",
    "# 맥북의 경우 아래 코드 적용\n",
    "# x, y = pyautogui.locateCenterOnScreen('kakao_icon.png', confidence=0.8)\n",
    "# pyautogui.moveTo(int(x/2), int(y/2))"
   ]
  }
 ],
 "metadata": {
  "kernelspec": {
   "display_name": "Python 3",
   "language": "python",
   "name": "python3"
  },
  "language_info": {
   "codemirror_mode": {
    "name": "ipython",
    "version": 3
   },
   "file_extension": ".py",
   "mimetype": "text/x-python",
   "name": "python",
   "nbconvert_exporter": "python",
   "pygments_lexer": "ipython3",
   "version": "3.9.6"
  },
  "orig_nbformat": 4
 },
 "nbformat": 4,
 "nbformat_minor": 2
}
