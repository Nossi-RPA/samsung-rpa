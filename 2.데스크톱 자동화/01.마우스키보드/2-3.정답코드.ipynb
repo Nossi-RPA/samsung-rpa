{
 "cells": [
  {
   "attachments": {},
   "cell_type": "markdown",
   "metadata": {},
   "source": [
    "목표: 카카오톡 자동 로그인\n",
    "1. 카카오톡 아이콘을 더블클릭해서 연다.\n",
    "2. '카카오계정'의 좌표를 찾아서 클릭한다.\n",
    "(이미지를 이용해서 카카오톡 아이디를 찾는다.)\n",
    "3. 키보드로 나의 ID를 입력한다.\n",
    "4. 'tab'버튼을 눌러서 비밀번호 칸으로 간다.\n",
    "5. 키보드로 나의 PW 입력한다.\n",
    "6. 키보드로 'enter'버튼을 누른다."
   ]
  },
  {
   "cell_type": "code",
   "execution_count": null,
   "metadata": {},
   "outputs": [],
   "source": [
    "import pyautogui\n",
    "import pyscreeze\n",
    "import PIL\n",
    "import time \n",
    "# 1 카카오톡 열기\n",
    "__PIL_TUPLE_VERSION = tuple(int(x) for x in PIL.__version__.split(\".\"))\n",
    "pyscreeze.PIL__version__ = __PIL_TUPLE_VERSION\n",
    "\n",
    "x, y = pyautogui.locateCenterOnScreen('kakao_icon.png', confidence=0.8)\n",
    "pyautogui.moveTo(int(x/2), int(y/2))\n",
    "pyautogui.click()\n",
    "\n",
    "# 2. 아이디 입력\n",
    "time.sleep(1)\n",
    "pyautogui.write('samsung1234@samsung.net')\n",
    "\n",
    "# 3. 비밀번호 입력\n",
    "pyautogui.press('tab')\n",
    "pyautogui.write('qwer1234!')\n",
    "\n",
    "# 4. enter\n",
    "pyautogui.press('enter')"
   ]
  },
  {
   "cell_type": "code",
   "execution_count": 7,
   "metadata": {},
   "outputs": [],
   "source": [
    "import pyautogui\n",
    "import time\n",
    "import pyscreeze\n",
    "import PIL\n",
    "\n",
    "__PIL_TUPLE_VERSION = tuple(int(x) for x in PIL.__version__.split(\".\"))\n",
    "pyscreeze.PIL__version__ = __PIL_TUPLE_VERSION\n",
    "\n",
    "# 카카오톡 아이콘 이미지를 사용하여 카카오톡 아이콘의 위치를 찾아 더블클릭해서 연다\n",
    "kakao_icon_location = pyautogui.locateCenterOnScreen('kakao_icon.png', confidence=0.8)\n",
    "print(kakao_icon_location)\n",
    "x, y = kakao_icon_location\n",
    "pyautogui.moveTo(int(x/2), int(y/2))\n",
    "\n",
    "\n",
    "if kakao_icon_location is not None:\n",
    "    pyautogui.doubleClick(kakao_icon_location)\n",
    "    time.sleep(5)  # 카카오톡이 열릴 시간을 기다립니다.\n",
    "else:\n",
    "    print(\"카카오톡 아이콘을 찾을 수 없습니다.\")\n",
    "\n",
    "# '카카오계정'의 좌표를 이미지 인식으로 찾아 클릭\n",
    "kakao_account_location = pyautogui.locateCenterOnScreen('kakao_account.png', confidence=0.8)\n",
    "if kakao_account_location is not None:\n",
    "    pyautogui.click(kakao_account_location)\n",
    "\n",
    "    # 나의 ID 입력\n",
    "    pyautogui.write('your_id_here')\n",
    "    pyautogui.press('tab')  # 비밀번호 칸으로 이동\n",
    "\n",
    "    # 나의 PW 입력\n",
    "    pyautogui.write('your_password_here')\n",
    "    pyautogui.press('enter')  # 로그인\n",
    "    \n",
    "else:\n",
    "    print(\"카카오계정 입력 필드를 찾을 수 없습니다.\")\n",
    "\n"
   ]
  },
  {
   "attachments": {},
   "cell_type": "markdown",
   "metadata": {},
   "source": [
    "confidence 매개변수는 PyAutoGUI의 locateOnScreen 함수에서 이미지를 찾을 때 사용되는 이미지 매칭 알고리즘의 정확도를 결정합니다. 이 값은 0에서 1 사이의 값을 가지며, 1에 가까울수록 매우 정확한 이미지 매칭을 요구합니다. 예를 들어, confidence=0.9는 90% 일치하는 이미지만을 찾습니다."
   ]
  }
 ],
 "metadata": {
  "kernelspec": {
   "display_name": "Python 3",
   "language": "python",
   "name": "python3"
  },
  "language_info": {
   "codemirror_mode": {
    "name": "ipython",
    "version": 3
   },
   "file_extension": ".py",
   "mimetype": "text/x-python",
   "name": "python",
   "nbconvert_exporter": "python",
   "pygments_lexer": "ipython3",
   "version": "3.9.6"
  },
  "orig_nbformat": 4
 },
 "nbformat": 4,
 "nbformat_minor": 2
}
