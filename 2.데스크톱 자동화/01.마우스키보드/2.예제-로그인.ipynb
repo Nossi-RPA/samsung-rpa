{
 "cells": [
  {
   "cell_type": "code",
   "execution_count": null,
   "metadata": {},
   "outputs": [],
   "source": [
    "import pyautogui\n",
    "\n",
    "pyautogui.alert(text='run', title='알림', button='확인')\n",
    "\n",
    "# 줌 아이콘으로 마우스 이동\n",
    "pyautogui.moveTo(51, 643, 2)\n",
    "pyautogui.doubleClick() # 더블 클릭 해서 실행\n",
    "\n",
    "# 로그인 버튼으로 이동\n",
    "pyautogui.moveTo(x=1314, y=858, duration=2)\n",
    "pyautogui.click()\n",
    "\n",
    "# 아이디/비밀번호 입력\n",
    "pyautogui.write('test@naver.com', interval=0.15)\n",
    "pyautogui.press('down')\n",
    "pyautogui.write('12345', interval=0.15)\n",
    "pyautogui.press('enter')\n"
   ]
  }
 ],
 "metadata": {
  "kernelspec": {
   "display_name": "Python 3",
   "language": "python",
   "name": "python3"
  },
  "language_info": {
   "codemirror_mode": {
    "name": "ipython",
    "version": 3
   },
   "file_extension": ".py",
   "mimetype": "text/x-python",
   "name": "python",
   "nbconvert_exporter": "python",
   "pygments_lexer": "ipython3",
   "version": "3.9.6"
  },
  "orig_nbformat": 4,
  "vscode": {
   "interpreter": {
    "hash": "200fa5d0b2981d58b1f27a61a10a35692b9d56d91ef977d0357ac52583da061d"
   }
  }
 },
 "nbformat": 4,
 "nbformat_minor": 2
}
