{
 "cells": [
  {
   "attachments": {},
   "cell_type": "markdown",
   "metadata": {},
   "source": [
    "목표: 카카오톡 자동 로그인\n",
    "1. 카카오톡 아이콘을 더블클릭해서 연다.\n",
    "2. '카카오계정'의 좌표를 찾아서 클릭한다.\n",
    "(이미지를 이용해서 카카오톡 아이디를 찾는다.)\n",
    "3. 키보드로 나의 ID를 입력한다.\n",
    "4. 'tab'버튼을 눌러서 비밀번호 칸으로 간다.\n",
    "5. 키보드로 나의 PW 입력한다.\n",
    "6. 키보드로 'enter'버튼을 누른다."
   ]
  },
  {
   "cell_type": "code",
   "execution_count": 9,
   "metadata": {},
   "outputs": [],
   "source": [
    "import pyautogui\n",
    "import pyscreeze\n",
    "import PIL\n",
    "import time \n",
    "# 1 카카오톡 열기\n",
    "__PIL_TUPLE_VERSION = tuple(int(x) for x in PIL.__version__.split(\".\"))\n",
    "pyscreeze.PIL__version__ = __PIL_TUPLE_VERSION\n",
    "\n",
    "x, y = pyautogui.locateCenterOnScreen('kakao_icon.png', confidence=0.8)\n",
    "pyautogui.moveTo(int(x/2), int(y/2))\n",
    "pyautogui.click()\n",
    "\n",
    "# 2. 아이디 입력\n",
    "time.sleep(1)\n",
    "pyautogui.write('samsung1234@samsung.net')\n",
    "\n",
    "# 3. 비밀번호 입력\n",
    "pyautogui.press('tab')\n",
    "pyautogui.write('qwer1234!')\n",
    "\n",
    "# 4. enter\n",
    "pyautogui.press('enter')\n"
   ]
  }
 ],
 "metadata": {
  "kernelspec": {
   "display_name": "Python 3",
   "language": "python",
   "name": "python3"
  },
  "language_info": {
   "codemirror_mode": {
    "name": "ipython",
    "version": 3
   },
   "file_extension": ".py",
   "mimetype": "text/x-python",
   "name": "python",
   "nbconvert_exporter": "python",
   "pygments_lexer": "ipython3",
   "version": "3.9.6"
  },
  "orig_nbformat": 4,
  "vscode": {
   "interpreter": {
    "hash": "200fa5d0b2981d58b1f27a61a10a35692b9d56d91ef977d0357ac52583da061d"
   }
  }
 },
 "nbformat": 4,
 "nbformat_minor": 2
}
