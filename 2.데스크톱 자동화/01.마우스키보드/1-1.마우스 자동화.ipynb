{
 "cells": [
  {
   "cell_type": "code",
   "execution_count": null,
   "metadata": {},
   "outputs": [],
   "source": [
    "pip install pyautogui"
   ]
  },
  {
   "cell_type": "code",
   "execution_count": 2,
   "metadata": {},
   "outputs": [
    {
     "data": {
      "text/plain": [
       "Size(width=1728, height=1117)"
      ]
     },
     "execution_count": 2,
     "metadata": {},
     "output_type": "execute_result"
    }
   ],
   "source": [
    "import pyautogui\n",
    "\n",
    "pyautogui.size() # Get the size of the primary monitor.\n",
    "\n",
    "\n",
    "currentMouseX, currentMouseY = pyautogui.position() # Get the XY position of the mouse.\n",
    "currentMouseX, currentMouseY\n",
    "(1314, 345)\n",
    "\n",
    "pyautogui.moveTo(100, 150) # Move the mouse to XY coordinates.\n",
    "\n",
    "pyautogui.click()          # Click the mouse.\n",
    "pyautogui.click(100, 200)  # Move the mouse to XY coordinates and click it.\n",
    "pyautogui.click('button.png') # Find where button.png appears on the screen and click it.\n",
    "\n",
    "pyautogui.move(400, 0)      # Move the mouse 400 pixels to the right of its current position.\n",
    "pyautogui.doubleClick()     # Double click the mouse.\n",
    "pyautogui.moveTo(500, 500, duration=2, tween=pyautogui.easeInOutQuad)  # Use tweening/easing function to move mouse over 2 seconds.\n",
    "\n",
    "pyautogui.write('Hello world!', interval=0.25)  # type with quarter-second pause in between each key\n",
    "pyautogui.press('esc') # Press the Esc key. All key names are in pyautogui.KEY_NAMES\n",
    "\n",
    "with pyautogui.hold('shift'):  # Press the Shift key down and hold it.\n",
    "        pyautogui.press(['left', 'left', 'left', 'left'])  # Press the left arrow key 4 times.\n",
    "# Shift key is released automatically.\n",
    "\n",
    "pyautogui.hotkey('ctrl', 'c') # Press the Ctrl-C hotkey combination.\n",
    "\n",
    "pyautogui.alert('This is the message to display.') # Make an alert box appear and pause the program until OK is clicked."
   ]
  },
  {
   "cell_type": "code",
   "execution_count": null,
   "metadata": {},
   "outputs": [],
   "source": [
    "import time\n",
    "\n",
    "pyautogui.click(100, 200)\n",
    "time.sleep(2)\n",
    "pyautogui.write('Hello world!')"
   ]
  },
  {
   "cell_type": "code",
   "execution_count": null,
   "metadata": {},
   "outputs": [],
   "source": [
    "# 한글 입력 방법\n",
    "import pyperclip\n",
    "\n",
    "pyperclip.copy(\"꿀렁꿀렁\")\n",
    "pyautogui.hotkey('ctrl', 'v')"
   ]
  }
 ],
 "metadata": {
  "kernelspec": {
   "display_name": "Python 3",
   "language": "python",
   "name": "python3"
  },
  "language_info": {
   "codemirror_mode": {
    "name": "ipython",
    "version": 3
   },
   "file_extension": ".py",
   "mimetype": "text/x-python",
   "name": "python",
   "nbconvert_exporter": "python",
   "pygments_lexer": "ipython3",
   "version": "3.9.6"
  },
  "orig_nbformat": 4,
  "vscode": {
   "interpreter": {
    "hash": "200fa5d0b2981d58b1f27a61a10a35692b9d56d91ef977d0357ac52583da061d"
   }
  }
 },
 "nbformat": 4,
 "nbformat_minor": 2
}
