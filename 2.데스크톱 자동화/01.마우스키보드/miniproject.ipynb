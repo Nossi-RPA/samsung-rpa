{
 "cells": [
  {
   "attachments": {},
   "cell_type": "markdown",
   "metadata": {},
   "source": [
    "목표: 카카오톡 자동 로그인\n",
    "1. 카카오톡 아이콘을 더블클릭해서 연다.\n",
    "(이미지를 이용해서 카카오톡 아이디를 찾는다.)\n",
    "2. '카카오계정'의 좌표를 찾아서 클릭한다.\n",
    "3. 키보드로 나의 ID를 입력한다.\n",
    "4. 'tab'버튼을 눌러서 비밀번호 칸으로 간다.\n",
    "5. 키보드로 나의 PW 입력한다.\n",
    "6. 키보드로 'enter'버튼을 누른다."
   ]
  },
  {
   "cell_type": "code",
   "execution_count": null,
   "metadata": {},
   "outputs": [],
   "source": []
  }
 ],
 "metadata": {
  "language_info": {
   "name": "python"
  },
  "orig_nbformat": 4
 },
 "nbformat": 4,
 "nbformat_minor": 2
}
