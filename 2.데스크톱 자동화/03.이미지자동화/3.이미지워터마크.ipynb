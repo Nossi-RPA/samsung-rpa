{
 "cells": [
  {
   "cell_type": "code",
   "execution_count": 6,
   "metadata": {},
   "outputs": [],
   "source": [
    "from PIL import Image, ImageDraw, ImageFont\n",
    "\n",
    "# 1. 왼쪽 위에 워터마크 넣기\n",
    "\n",
    "# 이미지 \n",
    "img = Image.open('teemo.jpg')\n",
    "\n",
    "# 문자의 폰트 (구글웹폰트 다운로드)\n",
    "font = ImageFont.truetype('NotoSansKR-Regular.otf', 20)\n",
    "\n",
    "# 그리기 객체\n",
    "draw = ImageDraw.Draw(img)\n",
    "\n",
    "# 80, 80 위치에 작성\n",
    "draw.text((80, 80), \"samsung\", font=font, fill=\"#f13\")\n",
    "\n",
    "# 저장\n",
    "img.save(\"teemo_watermark.jpg\")\n",
    "img.show()"
   ]
  },
  {
   "cell_type": "code",
   "execution_count": 4,
   "metadata": {},
   "outputs": [],
   "source": [
    "# 2. 오른쪽 아래 워터마크 넣기\n",
    "\n",
    "# 이미지 \n",
    "img = Image.open('people.jpg')\n",
    "font = ImageFont.truetype('NotoSansKR-Regular.otf', 20)\n",
    "draw = ImageDraw.Draw(img)\n",
    "txt_width, txt_height = draw.textsize(\"samsung\", font)\n",
    "\n",
    "# 텍스트 좌표 위치\n",
    "x = img.width - txt_width - 80\n",
    "y = img.height - txt_height - 80\n",
    "\n",
    "# x , y 위치에 작성\n",
    "draw.text((x, y), \"samsung\", font=font, fill=\"#ff3\")\n",
    "\n",
    "# 저장\n",
    "img.save(\"teemo_watermark2.jpg\")"
   ]
  }
 ],
 "metadata": {
  "kernelspec": {
   "display_name": "Python 3",
   "language": "python",
   "name": "python3"
  },
  "language_info": {
   "codemirror_mode": {
    "name": "ipython",
    "version": 3
   },
   "file_extension": ".py",
   "mimetype": "text/x-python",
   "name": "python",
   "nbconvert_exporter": "python",
   "pygments_lexer": "ipython3",
   "version": "3.9.6"
  },
  "orig_nbformat": 4,
  "vscode": {
   "interpreter": {
    "hash": "200fa5d0b2981d58b1f27a61a10a35692b9d56d91ef977d0357ac52583da061d"
   }
  }
 },
 "nbformat": 4,
 "nbformat_minor": 2
}
