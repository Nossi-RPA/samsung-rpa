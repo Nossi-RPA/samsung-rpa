{
 "cells": [
  {
   "cell_type": "code",
   "execution_count": 1,
   "metadata": {},
   "outputs": [],
   "source": [
    "pip install pillow"
   ]
  },
  {
   "cell_type": "code",
   "execution_count": null,
   "metadata": {},
   "outputs": [],
   "source": [
    "from PIL import Image\n",
    "\n",
    "img = Image.open(\"teemo.jpg\")\n",
    "\n",
    "img.format\n",
    "img.size\n",
    "img.height\n",
    "img.width"
   ]
  },
  {
   "cell_type": "code",
   "execution_count": null,
   "metadata": {},
   "outputs": [],
   "source": [
    "# 이미지 크기 변경\n",
    "img_resized = img.resize((320, 200))\n",
    "img_resized.save('teemo_resized.jpg')"
   ]
  },
  {
   "cell_type": "code",
   "execution_count": 27,
   "metadata": {},
   "outputs": [],
   "source": [
    "\n",
    "# 목표 teemo.jpg resize() => 절반크기 만큼 resize\n",
    "im = Image.open('teemo.jpg')\n",
    "type(im.width/2)\n",
    "half_width = im.width/2\n",
    "half_height = im.height/2\n",
    "half_im = im.resize((int(half_width),int(half_height)))\n",
    "half_im.save('teemo_half.jpg')\n"
   ]
  },
  {
   "cell_type": "code",
   "execution_count": null,
   "metadata": {},
   "outputs": [],
   "source": [
    "# 이미지 자르기\n",
    "img.crop((200,100,400,200))"
   ]
  },
  {
   "cell_type": "code",
   "execution_count": null,
   "metadata": {},
   "outputs": [],
   "source": [
    "# 이미지 회전\n",
    "img.rotate(90)"
   ]
  },
  {
   "cell_type": "code",
   "execution_count": null,
   "metadata": {},
   "outputs": [],
   "source": [
    "# 이미지 대칭\n",
    "img.transpose(method=Image.Transpose.FLIP_LEFT_RIGHT) # 좌우대칭\n",
    "img.transpose(method=Image.Transpose.FLIP_TOP_BOTTOM) # 상하대칭\n"
   ]
  },
  {
   "cell_type": "code",
   "execution_count": null,
   "metadata": {},
   "outputs": [],
   "source": [
    "from PIL import Image, ImageFilter\n",
    "img = Image.open('teemo.jpg')\n",
    "filtered_img = img.filter(ImageFilter.GaussianBlur(radius=10))"
   ]
  },
  {
   "attachments": {},
   "cell_type": "markdown",
   "metadata": {},
   "source": [
    "목표: 모든 사진파일의 1/3~2/3 영역을 BLUR처리 하자 => blurred 디렉토리에 저장하자."
   ]
  },
  {
   "cell_type": "code",
   "execution_count": 28,
   "metadata": {},
   "outputs": [],
   "source": [
    "# 특정 부분만 블러 처리 하기\n",
    "from PIL import Image, ImageFilter\n",
    "import glob, os\n",
    "\n",
    "os.mkdir('blurred')\n",
    "jpg_files = glob.glob('*.jpg')\n",
    "\n",
    "for file_name in jpg_files:\n",
    "    img = Image.open(file_name)\n",
    "    # 1. 이미지 자르기\n",
    "    width, height = img.size\n",
    "    left = int(width/3)\n",
    "    upper = int(height/3)\n",
    "    right = int((width*2)/3)\n",
    "    lower = int((height*2)/3)\n",
    "    cropped_img = img.crop((left, upper, right, lower))\n",
    "    # 2. 자른 이미지를 블러처리\n",
    "    filtered_img = cropped_img.filter(ImageFilter.GaussianBlur(10))\n",
    "    # 3. 원본에 블러처리한 이미지를 붙여넣기\n",
    "    img.paste(filtered_img, (left, upper, right, lower))\n",
    "    img.save(f'blurred/{file_name}')\n"
   ]
  }
 ],
 "metadata": {
  "kernelspec": {
   "display_name": "Python 3",
   "language": "python",
   "name": "python3"
  },
  "language_info": {
   "codemirror_mode": {
    "name": "ipython",
    "version": 3
   },
   "file_extension": ".py",
   "mimetype": "text/x-python",
   "name": "python",
   "nbconvert_exporter": "python",
   "pygments_lexer": "ipython3",
   "version": "3.9.6"
  },
  "orig_nbformat": 4,
  "vscode": {
   "interpreter": {
    "hash": "200fa5d0b2981d58b1f27a61a10a35692b9d56d91ef977d0357ac52583da061d"
   }
  }
 },
 "nbformat": 4,
 "nbformat_minor": 2
}
