{
 "cells": [
  {
   "cell_type": "code",
   "execution_count": null,
   "metadata": {},
   "outputs": [],
   "source": [
    "pip install opencv-python"
   ]
  },
  {
   "cell_type": "code",
   "execution_count": 5,
   "metadata": {},
   "outputs": [],
   "source": [
    "from PIL import Image, ImageFilter\n",
    "import cv2\n",
    "\n",
    "# 얼굴 인식을 위한 Haar Cascade 파일 경로\n",
    "face_cascade_path = cv2.data.haarcascades + 'haarcascade_frontalface_default.xml'\n",
    "\n",
    "# 얼굴 인식 분류기 생성\n",
    "face_cascade = cv2.CascadeClassifier(face_cascade_path)\n",
    "\n",
    "\n",
    "# 이미지를 불러옴\n",
    "img = Image.open('two_people.png')\n",
    "\n",
    "# OpenCV에서 사용할 수 있도록 이미지를 그레이스케일로 변환\n",
    "gray_img = cv2.cvtColor(cv2.imread('two_people.png'), cv2.COLOR_BGR2GRAY)\n",
    "\n",
    "# 얼굴 인식\n",
    "faces = face_cascade.detectMultiScale(gray_img, scaleFactor=1.1, minNeighbors=5, minSize=(30, 30))\n",
    "\n",
    "for (x, y, w, h) in faces:\n",
    "    # 얼굴 부분을 PIL 이미지로 변환\n",
    "    face = img.crop((x, y, x+w, y+h))\n",
    "    \n",
    "    # 얼굴 부분에 블러 효과 적용\n",
    "    blur_face = face.filter(ImageFilter.GaussianBlur(radius=15))  # 블러 정도 조절\n",
    "    \n",
    "    # 원본 이미지에 블러 처리된 얼굴을 다시 붙임\n",
    "    img.paste(blur_face, (x, y, x+w, y+h))\n",
    "\n",
    "# 결과 이미지 저장\n",
    "img.save(f'blurred_face.png')"
   ]
  }
 ],
 "metadata": {
  "kernelspec": {
   "display_name": "Python 3",
   "language": "python",
   "name": "python3"
  },
  "language_info": {
   "codemirror_mode": {
    "name": "ipython",
    "version": 3
   },
   "file_extension": ".py",
   "mimetype": "text/x-python",
   "name": "python",
   "nbconvert_exporter": "python",
   "pygments_lexer": "ipython3",
   "version": "3.9.6"
  },
  "orig_nbformat": 4
 },
 "nbformat": 4,
 "nbformat_minor": 2
}
