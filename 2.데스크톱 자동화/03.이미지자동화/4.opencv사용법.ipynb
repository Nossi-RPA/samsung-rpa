{
 "cells": [
  {
   "cell_type": "code",
   "execution_count": null,
   "metadata": {},
   "outputs": [],
   "source": [
    "pip install opencv-python"
   ]
  },
  {
   "attachments": {},
   "cell_type": "markdown",
   "metadata": {},
   "source": [
    "목표: 얼굴 부분을 디텍팅 해서 블러 처리한다."
   ]
  },
  {
   "cell_type": "code",
   "execution_count": null,
   "metadata": {},
   "outputs": [],
   "source": [
    "from PIL import Image, ImageFilter\n",
    "import cv2\n",
    "# 얼굴 인식을 위한 Haar Cascade 파일 경로\n",
    "face_cascade_path = cv2.data.haarcascades + 'haarcascade_frontalface_default.xml'\n",
    "# 얼굴 인식 분류기 생성\n",
    "face_cascade = cv2.CascadeClassifier(face_cascade_path)\n",
    "img = Image.open('two_people.png')\n",
    "# OpenCV에서 사용할 수 있도록 이미지를 그레이스케일로 변환\n",
    "gray_img = cv2.cvtColor(cv2.imread('two_people.png'), cv2.COLOR_BGR2GRAY)\n",
    "\n",
    "# 얼굴 인식\n",
    "faces = face_cascade.detectMultiScale(gray_img, scaleFactor=1.1, minNeighbors=5, minSize=(30, 30))\n",
    "print(faces)\n",
    "\n",
    "for i in range(len(faces)):\n",
    "    left = faces[i][0]\n",
    "    upper = faces[i][1]\n",
    "    right = left + faces[i][2]\n",
    "    lower = upper + faces[i][3]\n",
    "\n",
    "    cropped_img = img.crop((left, upper, right, lower))\n",
    "    blurred_img = cropped_img.filter(ImageFilter.GaussianBlur(radius=8))\n",
    "    img.paste(blurred_img, (left, upper, right, lower))\n",
    "\n",
    "\n",
    "img.save(f'blurred.png')"
   ]
  }
 ],
 "metadata": {
  "kernelspec": {
   "display_name": "Python 3",
   "language": "python",
   "name": "python3"
  },
  "language_info": {
   "codemirror_mode": {
    "name": "ipython",
    "version": 3
   },
   "file_extension": ".py",
   "mimetype": "text/x-python",
   "name": "python",
   "nbconvert_exporter": "python",
   "pygments_lexer": "ipython3",
   "version": "3.9.6"
  },
  "orig_nbformat": 4
 },
 "nbformat": 4,
 "nbformat_minor": 2
}
