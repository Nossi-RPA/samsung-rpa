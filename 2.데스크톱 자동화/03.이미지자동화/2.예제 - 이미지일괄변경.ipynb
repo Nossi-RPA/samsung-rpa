{
 "cells": [
  {
   "cell_type": "code",
   "execution_count": null,
   "metadata": {},
   "outputs": [],
   "source": [
    "# 목표: 티모 사진에서 얼굴부분만 crop한다.\n",
    "1. 사진을 읽어온다. (open())\n",
    "2. 얼굴부분을 선택한다.\n",
    "3. 원본사진에서 얼굴부분을 자른다.(crop())\n",
    "# 추가 목표\n",
    "4. 자른 부분을 블러처리 한다.(filter())\n",
    "5. 블러처리한 부분을 원본 사진에 붙여넣기 한다.(paste())"
   ]
  },
  {
   "cell_type": "code",
   "execution_count": 32,
   "metadata": {},
   "outputs": [],
   "source": [
    "from PIL import Image, ImageFilter\n",
    "import glob\n",
    "\n",
    "files = glob.glob('teemo*.jpg')\n",
    "for file in files:\n",
    "    img = Image.open(file)\n",
    "    img.width\n",
    "    img.height\n",
    "\n",
    "    left = img.width/3\n",
    "    right = img.width*2/3\n",
    "    upper = img.height/5\n",
    "    lower = img.height*3/5\n",
    "\n",
    "    cropped_img = img.crop((left, upper, right, lower))\n",
    "    blurred_img = cropped_img.filter(ImageFilter.GaussianBlur(radius=7))\n",
    "    img.paste(blurred_img, box=(int(left), int(upper)), mask=None)\n",
    "    \n",
    "    img.save(f'blurred_{file}')\n"
   ]
  },
  {
   "cell_type": "code",
   "execution_count": null,
   "metadata": {},
   "outputs": [],
   "source": [
    "# 목표: 모든 .jpg 사진파일의 1/3~2/3 영역을 BLUR처리 하자 => blurred 디렉토리에 저장하자.\n",
    "from PIL import Image, ImageFilter\n",
    "import glob, os \n",
    "\n",
    "if not os.path.exists('blurred'):\n",
    "    os.mkdir('blurred')\n",
    "\n",
    "# 모든 사진 불러오기\n",
    "image_files = glob.glob('티모대위*.jpg')\n",
    "\n",
    "for img_file in image_files:\n",
    "    img = Image.open(img_file)\n",
    "    width, height = img.size\n",
    "    \n",
    "    # 1. 이미지 자르기\n",
    "    left = int(width/3)\n",
    "    right = int(width*2/3)\n",
    "    upper = int(height/3)\n",
    "    lower = int(height*2/3)\n",
    "    img_cropped = img.crop((left, upper, right, lower))\n",
    "\n",
    "    # 2. 자른 이미지를 블러처리\n",
    "    img_blurred = img_cropped.filter(ImageFilter.GaussianBlur(radius=10))\n",
    "\n",
    "    # # 3. 원본에 블러처리한 이미지를 붙여넣기\n",
    "    img.paste(img_blurred, (left, upper, right, lower))\n",
    "\n",
    "    # 4. 저장하기\n",
    "    # img.save(f'./blurred/{img_file}')\n",
    "    file_name = img_file.split('.')[0]\n",
    "    extension = img_file.split('.')[1]\n",
    "    img.save(f'./blurred/{file_name}_edited.{extension}')\n",
    "\n",
    "\n",
    " "
   ]
  },
  {
   "cell_type": "code",
   "execution_count": null,
   "metadata": {},
   "outputs": [],
   "source": [
    "# 특정 부분만 블러 처리 하기\n",
    "from PIL import Image, ImageFilter\n",
    "import glob, os\n",
    "\n",
    "os.mkdir('blurred')\n",
    "jpg_files = glob.glob('*.jpg')\n",
    "\n",
    "for file_name in jpg_files:\n",
    "    img = Image.open(file_name)\n",
    "    # 1. 이미지 자르기\n",
    "    width, height = img.size\n",
    "    left = int(width/3)\n",
    "    upper = int(height/3)\n",
    "    right = int((width*2)/3)\n",
    "    lower = int((height*2)/3)\n",
    "    cropped_img = img.crop((left, upper, right, lower))\n",
    "    # 2. 자른 이미지를 블러처리\n",
    "    filtered_img = cropped_img.filter(ImageFilter.GaussianBlur(10))\n",
    "    # 3. 원본에 블러처리한 이미지를 붙여넣기\n",
    "    img.paste(filtered_img, (left, upper, right, lower))\n",
    "    img.save(f'blurred/{file_name}')\n"
   ]
  },
  {
   "attachments": {},
   "cell_type": "markdown",
   "metadata": {},
   "source": [
    "목표: JPG파일들의 크기를 25% (width/2, height/2)으로 줄여서 ./resized 디렉토리에 저장한다.\n",
    "\n",
    "먼저 [v]\n",
    "0. from PIL import Image\n",
    "1. JPG 파일 하나를 읽어들인다. img = Image.open()\n",
    "2. img.resize((100,100))\n",
    "3. resized 디렉토리에 저장한다. img.save() (os.mkdir(resized), os.path.exists())\n",
    "\n",
    "그 다음\n",
    "0. jpg 파일들을 모두 읽어들인다.(os.listdir(), glob.glob())\n",
    "1. 반복문으로 위의 과정을 반복한다.\n",
    "\n",
    "그 다음\n",
    "각각의 이미지의 사이즈에 따라서 width/2 , height/2으로 25%크기를 줄인다.\n",
    "0. size를 알아낸다.\n",
    "1. width/2, height/2\n",
    "2. resize((int(width/2), int(height/2)))"
   ]
  },
  {
   "cell_type": "code",
   "execution_count": null,
   "metadata": {},
   "outputs": [],
   "source": [
    "from PIL import Image\n",
    "import os, glob\n",
    "\n",
    "if not os.path.exists('resized'):\n",
    "    os.mkdir('resized')\n",
    "\n",
    "jpg_files = glob.glob('*.jpg')\n",
    "\n",
    "for file_name in jpg_files:\n",
    "    img = Image.open(file_name)\n",
    "    width, height = img.size # 952, 672\n",
    "    resized_img = img.resize((int(width/2), int(height/2)))\n",
    "    resized_img.save(f'resized/{file_name}')"
   ]
  },
  {
   "cell_type": "code",
   "execution_count": null,
   "metadata": {},
   "outputs": [],
   "source": [
    "from PIL import Image\n",
    "import os, glob\n",
    "\n",
    "if not os.path.exists('resized'):\n",
    "    os.mkdir('resized')\n",
    "\n",
    "jpg_files = glob.glob('*.jpg')\n",
    "for file_name in jpg_files:\n",
    "    img = Image.open(file_name) # 1개의 이미지 파일 => .jpg파일 전체 로 확장 \n",
    "    width, height = img.size\n",
    "    resized_img = img.resize((int(width/2),int(height/2)))\n",
    "    name = file_name.split('.')[0]\n",
    "    resized_img.save(f'resized/{name}_half.jpg')"
   ]
  }
 ],
 "metadata": {
  "kernelspec": {
   "display_name": "Python 3",
   "language": "python",
   "name": "python3"
  },
  "language_info": {
   "codemirror_mode": {
    "name": "ipython",
    "version": 3
   },
   "file_extension": ".py",
   "mimetype": "text/x-python",
   "name": "python",
   "nbconvert_exporter": "python",
   "pygments_lexer": "ipython3",
   "version": "3.9.6"
  },
  "orig_nbformat": 4
 },
 "nbformat": 4,
 "nbformat_minor": 2
}
