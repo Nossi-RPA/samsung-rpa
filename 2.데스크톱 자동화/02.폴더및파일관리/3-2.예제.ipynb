{
 "cells": [
  {
   "attachments": {},
   "cell_type": "markdown",
   "metadata": {},
   "source": [
    "문제 1. glob_test 내부에 모든 이미지 파일명을 출력하세요\n",
    "(이미지의 확장자는 png, jpg, jpeg 3가지가 존재한다.)"
   ]
  },
  {
   "cell_type": "code",
   "execution_count": 19,
   "metadata": {},
   "outputs": [
    {
     "name": "stdout",
     "output_type": "stream",
     "text": [
      "/Users/nossi/Desktop/citizen developers/samsung-rpa/2.데스크톱 자동화/02.폴더및파일관리\n",
      "['samsung copy 2.png', 'samsung.png', 'samsung copy.png', 'samsung.jpg', 'samsung copy 2.jpeg', 'samsung copy 3.jpeg', 'samsung.jpeg', 'samsung copy.jpeg']\n"
     ]
    }
   ],
   "source": [
    "import glob, os\n",
    "print(os.getcwd())\n",
    "img_exts = ['png', 'jpg', 'jpeg']\n",
    "result_list = []\n",
    "for ext in img_exts:\n",
    "    files = glob.glob(f'glob_test/*.{ext}')\n",
    "    for file in files:\n",
    "        result_list.append(file.split('/')[-1])\n",
    "print(result_list)\n",
    "\n",
    "\n",
    "# exts = ['png', 'jpg', 'jpeg']\n",
    "\n",
    "# files = glob.glob('*.png')\n",
    "# print(files)\n",
    "\n",
    "# files = glob.glob('*.jpg')\n",
    "# print(files)\n",
    "\n",
    "# files = glob.glob('*.jpeg')\n",
    "# print(files)\n"
   ]
  },
  {
   "attachments": {},
   "cell_type": "markdown",
   "metadata": {},
   "source": [
    "문제2. glob_test의 jpg, png 파일만 출력하시오 \n",
    "<!-- 단, 반복문을 사용하지 말고 한줄로 작성하세요 -->"
   ]
  },
  {
   "cell_type": "code",
   "execution_count": null,
   "metadata": {},
   "outputs": [],
   "source": []
  }
 ],
 "metadata": {
  "kernelspec": {
   "display_name": "Python 3",
   "language": "python",
   "name": "python3"
  },
  "language_info": {
   "codemirror_mode": {
    "name": "ipython",
    "version": 3
   },
   "file_extension": ".py",
   "mimetype": "text/x-python",
   "name": "python",
   "nbconvert_exporter": "python",
   "pygments_lexer": "ipython3",
   "version": "3.9.6"
  },
  "orig_nbformat": 4
 },
 "nbformat": 4,
 "nbformat_minor": 2
}
