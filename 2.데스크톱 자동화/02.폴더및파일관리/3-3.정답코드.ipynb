{
 "cells": [
  {
   "cell_type": "markdown",
   "metadata": {},
   "source": [
    "문제 1. glob_test, glob_test/sub_dir 내부에 모든 이미지 파일을 출력하세요 \n",
    "\n",
    "(이미지의 확장자는 png, jpg, jpeg 3가지가 존재한다.)\n"
   ]
  },
  {
   "cell_type": "code",
   "execution_count": null,
   "metadata": {},
   "outputs": [],
   "source": [
    "import glob\n",
    "\n",
    "exts = ['png', 'jpg', 'jpeg']\n",
    "\n",
    "image_files = []\n",
    "for ext in exts:\n",
    "    image_files += glob.glob(f'glob_test/**/*.{ext}', recursive=True)\n",
    "print(image_files)"
   ]
  },
  {
   "cell_type": "markdown",
   "metadata": {},
   "source": [
    "문제2. glob_test의 jpg, png 파일만 출력하시오 단, 반복문을 사용하지 말고 한줄로 작성하세요"
   ]
  },
  {
   "cell_type": "code",
   "execution_count": 3,
   "metadata": {},
   "outputs": [
    {
     "data": {
      "text/plain": [
       "['./glob_test/samsung.png',\n",
       " './glob_test/samsung.jpg',\n",
       " './glob_test/sam.txtsung.jpeg']"
      ]
     },
     "execution_count": 3,
     "metadata": {},
     "output_type": "execute_result"
    }
   ],
   "source": [
    "import glob\n",
    "import glob\n",
    "\n",
    "glob.glob('glob_test/**/*.??g', recursive=True)\n",
    "glob.glob(\"./glob_test/*.[jpg|png]\") "
   ]
  }
 ],
 "metadata": {
  "kernelspec": {
   "display_name": "Python 3",
   "language": "python",
   "name": "python3"
  },
  "language_info": {
   "codemirror_mode": {
    "name": "ipython",
    "version": 3
   },
   "file_extension": ".py",
   "mimetype": "text/x-python",
   "name": "python",
   "nbconvert_exporter": "python",
   "pygments_lexer": "ipython3",
   "version": "3.9.6"
  },
  "orig_nbformat": 4
 },
 "nbformat": 4,
 "nbformat_minor": 2
}
