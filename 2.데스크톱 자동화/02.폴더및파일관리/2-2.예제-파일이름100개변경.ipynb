{
 "cells": [
  {
   "attachments": {},
   "cell_type": "markdown",
   "metadata": {},
   "source": [
    "# 목표: 파일 이름 100개 일괄 변경\n",
    "1. 테스트1 폴더에 하나의 2023-11-01 data1.txt 를 만든다.\n",
    "2. 테스트1 폴더에 1~100까지 만든다.\n",
    "3. 테스트1 폴더에서 이름 변경 데이터2.txt\n",
    "4. 짝수 폴더, 홀수 폴더 만들어서 파일 옮기기 -> 제거\n",
    "\n",
    "# 개선\n",
    "1. 중간에 번호가 누락되어 있더라도 정상적으로 작동하게 (직접 제거)\n",
    "=> listdir()\n",
    "2. 테스트2 폴더로 이동 //rename\n",
    "3. 이름을 변경한다. data1_modified.txt"
   ]
  },
  {
   "cell_type": "code",
   "execution_count": 3,
   "metadata": {},
   "outputs": [],
   "source": [
    "# 파일 입출력\n",
    "f = open('test.txt', 'w')\n",
    "f.write('hi')\n",
    "f.close()"
   ]
  },
  {
   "cell_type": "code",
   "execution_count": 4,
   "metadata": {},
   "outputs": [],
   "source": [
    "# 파일 100개 만들기\n",
    "for i in range(1, 101):\n",
    "    f = open(f'2023-11-01 데이터{i}.txt', 'w')\n",
    "    f.write(f'data{i}')\n",
    "    f.close()"
   ]
  },
  {
   "cell_type": "code",
   "execution_count": 5,
   "metadata": {},
   "outputs": [],
   "source": [
    "# 파일 이름 변경\n",
    "# 폴더도 변경\n",
    "import os\n",
    "\n",
    "# os.rename('수정전 경로', '수정후 경로')\n",
    "# 2023-02-06 데이터1.txt -> 2023-02-06 data1.txt 수정\n",
    "\n",
    "for i in range(1, 101):\n",
    "    path1 = f'2023-02-06 데이터{i}.txt'\n",
    "    path2 = f'2023-02-06 data{i}.txt'\n",
    "    os.rename(path1, path2)\n"
   ]
  },
  {
   "cell_type": "markdown",
   "metadata": {},
   "source": [
    "# 위의 내용 코드 적용"
   ]
  },
  {
   "cell_type": "code",
   "execution_count": 2,
   "metadata": {},
   "outputs": [],
   "source": [
    "# 1. 테스트1 폴더에 하나의 2023-11-01 data1.txt 를 만든다.\n",
    "import os \n",
    "\n",
    "if not os.path.exists('./테스트1'):\n",
    "    os.mkdir('./테스트1')\n"
   ]
  },
  {
   "cell_type": "code",
   "execution_count": 3,
   "metadata": {},
   "outputs": [],
   "source": [
    "# 2. 테스트1 폴더에 1~100까지 만든다.\n",
    "\n",
    "# 파일 100개 만들기\n",
    "for i in range(1, 101):\n",
    "    f = open(f'테스트1/data{i}.txt', 'w')\n",
    "    f.write(f'data{i}')\n",
    "    f.close()\n",
    "     "
   ]
  },
  {
   "cell_type": "code",
   "execution_count": 8,
   "metadata": {},
   "outputs": [],
   "source": [
    "for i in range(1, 101):\n",
    "    path1 = f'테스트1/data{i}.txt'\n",
    "    path2 = f'테스트1/데이터{i}.txt'\n",
    "    os.rename(path1, path2)"
   ]
  },
  {
   "cell_type": "code",
   "execution_count": 9,
   "metadata": {},
   "outputs": [],
   "source": [
    "# if not os.path.exists('./테스트1/짝수'):\n",
    "#     os.mkdir('./테스트1/짝수')\n",
    "# if not os.path.exists('./테스트1/홀수'):\n",
    "#     os.mkdir('./테스트1/홀수')\n"
   ]
  },
  {
   "cell_type": "code",
   "execution_count": 11,
   "metadata": {},
   "outputs": [],
   "source": [
    "# for i in range(1, 101):\n",
    "#     path1 = f'테스트1/데이터{i}.txt'\n",
    "#     if i % 2 == 0:\n",
    "#         path2 = f'테스트1/짝수/데이터{i}.txt'\n",
    "#     else:\n",
    "#         path2 = f'테스트1/홀수/데이터{i}.txt'\n",
    "#     os.rename(path1, path2)"
   ]
  },
  {
   "cell_type": "code",
   "execution_count": 12,
   "metadata": {},
   "outputs": [],
   "source": [
    "# 기존 폴더 초기화\n",
    "# import shutil\n",
    "# shutil.rmtree('./테스트1')\n",
    "\n",
    "# if not os.path.exists('./테스트1'):\n",
    "#     os.mkdir('./테스트1')"
   ]
  },
  {
   "cell_type": "code",
   "execution_count": 13,
   "metadata": {},
   "outputs": [],
   "source": [
    "# 특정 숫자 랜덤하게 제거 \n",
    "# import random\n",
    "# for i in range(1, 101):\n",
    "#     if random.randint(1, 10) > 3:\n",
    "#         f = open(f'테스트1/data{i}.txt', 'w')\n",
    "#         f.write(f'data{i}')\n",
    "#         f.close()"
   ]
  },
  {
   "cell_type": "code",
   "execution_count": 4,
   "metadata": {},
   "outputs": [],
   "source": [
    "# 3. 테스트1 폴더에서 이름 변경 데이터2.txt\n",
    "if not os.path.exists('./테스트2'):\n",
    "    os.mkdir('./테스트2')"
   ]
  },
  {
   "cell_type": "code",
   "execution_count": 18,
   "metadata": {},
   "outputs": [],
   "source": [
    "# 3. 테스트1 폴더에서 이름 변경 데이터2.txt\n",
    "# print(os.listdir(\"./테스트1\"))\n",
    "origin_path = \"./테스트1\"\n",
    "new_path = \"./테스트2\"\n",
    "data_list = os.listdir(\"origin_path\")\n",
    "\n",
    "for data in data_list:\n",
    "    path1 = os.path.join(origin_path, data)\n",
    "    path2 = os.path.join(new_path, data)\n",
    "    os.rename(path1, path2)\n",
    "    "
   ]
  },
  {
   "cell_type": "code",
   "execution_count": 25,
   "metadata": {},
   "outputs": [],
   "source": [
    "path = \"./테스트2\"\n",
    "data_list = os.listdir(path)\n",
    "for data in data_list:\n",
    "    name, ext = data.split('.')\n",
    "    new_name = name + '_modified'+ '.' + ext\n",
    "    path1 = os.path.join(path, data)\n",
    "    path2 = os.path.join(path, new_name)\n",
    "    os.rename(path1, path2)\n",
    "    \n",
    "    "
   ]
  }
 ],
 "metadata": {
  "kernelspec": {
   "display_name": "Python 3",
   "language": "python",
   "name": "python3"
  },
  "language_info": {
   "codemirror_mode": {
    "name": "ipython",
    "version": 3
   },
   "file_extension": ".py",
   "mimetype": "text/x-python",
   "name": "python",
   "nbconvert_exporter": "python",
   "pygments_lexer": "ipython3",
   "version": "3.9.18"
  },
  "orig_nbformat": 4,
  "vscode": {
   "interpreter": {
    "hash": "200fa5d0b2981d58b1f27a61a10a35692b9d56d91ef977d0357ac52583da061d"
   }
  }
 },
 "nbformat": 4,
 "nbformat_minor": 2
}
