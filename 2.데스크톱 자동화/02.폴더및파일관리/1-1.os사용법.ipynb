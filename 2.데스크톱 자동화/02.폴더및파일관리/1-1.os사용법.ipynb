{
 "cells": [
  {
   "cell_type": "code",
   "execution_count": null,
   "metadata": {},
   "outputs": [],
   "source": [
    "import os\n",
    "os.getcwd()\n",
    "os.chdir(path)\n",
    "os.mkdir(path)\n",
    "os.rmdir(path)\n",
    "os.rename(old_path, new_path)\n",
    "os.listdir(path)"
   ]
  },
  {
   "cell_type": "code",
   "execution_count": null,
   "metadata": {},
   "outputs": [],
   "source": [
    "\n",
    "os.chdir('/Users/nossi/Desktop/samsung-rpa/2.데스크톱 자동화/03.이미지자동화')\n",
    "'/Users/nossi/Desktop/samsung-rpa/2.데스크톱 자동화/01.마우스키보드/카카오아이디.png'\n",
    "print(os.getcwd()) # get current work directory\n",
    "\n",
    "# 상대경로\n",
    "# cwd 기준으로 어느 곳에 저장되어 있는지를 명시\n",
    "\n",
    "os.mkdir('new_dir')\n",
    "os.mkdir('../glob_test/new_dir')\n",
    "\n",
    "# 절대경로\n",
    "# '/Users/nossi/Desktop/samsung-rpa/2.데스크톱 자동화/02.폴더및파일관리/1-1.os사용법.ipynb'\n",
    "\n",
    "os.rmdir('\\\\Users\\\\nossi\\\\Desktopsamsung-rpa\\\\2.데스크톱 자동화\\\\new_dir')\n",
    "os.rmdir('/Users/nossi/Desktopsamsung-rpa/2.데스크톱 자동화/new_dir')"
   ]
  },
  {
   "cell_type": "code",
   "execution_count": null,
   "metadata": {},
   "outputs": [],
   "source": [
    "os.chdir('/Users/nossi/Desktop/samsung-rpa/2.데스크톱 자동화/02.폴더및파일관리')\n",
    "os.rename('old_dir', '../04.이동실습/old_dir')\n",
    "\n",
    "files = os.listdir()\n",
    "\n",
    "for file in files:\n",
    "    os.rename(file, f'../04.이동실습/{file}')"
   ]
  },
  {
   "cell_type": "code",
   "execution_count": 2,
   "metadata": {},
   "outputs": [],
   "source": [
    "# 상대 경로 이용\n",
    "os.mkdir('테스트1/테스트2')\n",
    "os.mkdir('../테스트3')"
   ]
  },
  {
   "cell_type": "code",
   "execution_count": null,
   "metadata": {},
   "outputs": [],
   "source": [
    "# 절대 경로 이용\n",
    "os.mkdir('C:/samsung_auto2/01.데스크톱자동화/테스트4')"
   ]
  },
  {
   "cell_type": "code",
   "execution_count": null,
   "metadata": {},
   "outputs": [],
   "source": [
    "# 폴더나 파일이 있는 확인\n",
    "os.path.exists('C:/samsung_auto2/01.데스크톱자동화/테스트4')"
   ]
  },
  {
   "cell_type": "code",
   "execution_count": 33,
   "metadata": {},
   "outputs": [],
   "source": [
    "if not os.path.exists('/Users/nossi/Desktop/samsung-rpa/2.데스크톱 자동화/03.이미지자동화/new_dir'):\n",
    "    os.mkdir('/Users/nossi/Desktop/samsung-rpa/2.데스크톱 자동화/03.이미지자동화/new_dir')"
   ]
  }
 ],
 "metadata": {
  "kernelspec": {
   "display_name": "Python 3",
   "language": "python",
   "name": "python3"
  },
  "language_info": {
   "codemirror_mode": {
    "name": "ipython",
    "version": 3
   },
   "file_extension": ".py",
   "mimetype": "text/x-python",
   "name": "python",
   "nbconvert_exporter": "python",
   "pygments_lexer": "ipython3",
   "version": "3.9.6"
  },
  "orig_nbformat": 4,
  "vscode": {
   "interpreter": {
    "hash": "200fa5d0b2981d58b1f27a61a10a35692b9d56d91ef977d0357ac52583da061d"
   }
  }
 },
 "nbformat": 4,
 "nbformat_minor": 2
}
