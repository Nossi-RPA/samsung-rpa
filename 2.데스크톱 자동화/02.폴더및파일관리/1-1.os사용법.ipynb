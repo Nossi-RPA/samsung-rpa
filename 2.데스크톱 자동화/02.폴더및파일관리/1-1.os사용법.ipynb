{
 "cells": [
  {
   "cell_type": "code",
   "execution_count": 23,
   "metadata": {},
   "outputs": [
    {
     "name": "stdout",
     "output_type": "stream",
     "text": [
      "/Users/nossi/Desktop/samsung-rpa/2.데스크톱 자동화/03.이미지자동화\n"
     ]
    }
   ],
   "source": [
    "import os\n",
    "os.getcwd()\n",
    "os.chdir(path)\n",
    "os.mkdir(path)\n",
    "os.rmdir(path)\n",
    "os.rename(old_path, new_path)\n",
    "os.listdir(path)\n",
    "\n",
    "\n",
    "\n",
    "for file_name in files:\n",
    "    os.rename(file_name, f'../03.이미지자동화/{file_name}')"
   ]
  },
  {
   "cell_type": "code",
   "execution_count": 2,
   "metadata": {},
   "outputs": [],
   "source": [
    "# 상대 경로 이용\n",
    "os.mkdir('테스트1/테스트2')\n",
    "os.mkdir('../테스트3')"
   ]
  },
  {
   "cell_type": "code",
   "execution_count": null,
   "metadata": {},
   "outputs": [],
   "source": [
    "# 절대 경로 이용\n",
    "os.mkdir('C:/samsung_auto2/01.데스크톱자동화/테스트4')"
   ]
  },
  {
   "cell_type": "code",
   "execution_count": null,
   "metadata": {},
   "outputs": [],
   "source": [
    "# 폴더나 파일이 있는 확인\n",
    "os.path.exists('C:/samsung_auto2/01.데스크톱자동화/테스트4')"
   ]
  },
  {
   "cell_type": "code",
   "execution_count": 12,
   "metadata": {},
   "outputs": [],
   "source": [
    "# 폴더가 없을 때만 만들기\n",
    "if not os.path.exists('C:/samsung_auto2/01.데스크톱자동화/테스트4'):\n",
    "    os.mkdir('C:/samsung_auto2/01.데스크톱자동화/테스트4')"
   ]
  }
 ],
 "metadata": {
  "kernelspec": {
   "display_name": "Python 3",
   "language": "python",
   "name": "python3"
  },
  "language_info": {
   "codemirror_mode": {
    "name": "ipython",
    "version": 3
   },
   "file_extension": ".py",
   "mimetype": "text/x-python",
   "name": "python",
   "nbconvert_exporter": "python",
   "pygments_lexer": "ipython3",
   "version": "3.9.6"
  },
  "orig_nbformat": 4,
  "vscode": {
   "interpreter": {
    "hash": "200fa5d0b2981d58b1f27a61a10a35692b9d56d91ef977d0357ac52583da061d"
   }
  }
 },
 "nbformat": 4,
 "nbformat_minor": 2
}
