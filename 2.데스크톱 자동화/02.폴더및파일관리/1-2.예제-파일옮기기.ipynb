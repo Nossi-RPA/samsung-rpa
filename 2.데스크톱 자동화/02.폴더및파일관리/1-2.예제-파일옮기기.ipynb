{
 "cells": [
  {
   "cell_type": "markdown",
   "metadata": {},
   "source": [
    "목표: 03.이미지자동화 폴더에 있는 모든 파일들을 04.새강의 폴더로 옮기기"
   ]
  },
  {
   "cell_type": "code",
   "execution_count": null,
   "metadata": {},
   "outputs": [],
   "source": []
  }
 ],
 "metadata": {
  "language_info": {
   "name": "python"
  },
  "orig_nbformat": 4
 },
 "nbformat": 4,
 "nbformat_minor": 2
}
