{
 "cells": [
  {
   "attachments": {},
   "cell_type": "markdown",
   "metadata": {},
   "source": [
    "목표: 03.이미지자동화 폴더에 있는 모든 파일들을 04.이동실습 폴더로 옮기기\n",
    "1. 03.이미지자동화 폴더에 어떤 파일명들이 있는지 확인\n",
    "2. 004.이동실습 폴더 생성하기 \n",
    "2-1. 04.이동실습 폴더 존재여부 확인\n",
    "2-2. 04.이동실습 폴더가 없으면 생성\n",
    "3. rename 함수를 이용해서 '04.이동실습'로 옮기기"
   ]
  },
  {
   "cell_type": "code",
   "execution_count": null,
   "metadata": {},
   "outputs": [],
   "source": [
    "import os\n",
    "os.chdir('/Users/nossi/Desktop/samsung-rpa/2.데스크톱 자동화/03.이미지자동화')\n",
    "\n",
    "files = os.listdir()\n",
    "print(files)\n",
    "\n",
    "if not os.path.exists('../04.이동실습'):\n",
    "    os.mkdir('../04.이동실습')\n",
    "\n",
    "for file_name in files:\n",
    "    os.rename(file_name, f'../04.이동실습/{file_name}')\n"
   ]
  }
 ],
 "metadata": {
  "kernelspec": {
   "display_name": "Python 3",
   "language": "python",
   "name": "python3"
  },
  "language_info": {
   "codemirror_mode": {
    "name": "ipython",
    "version": 3
   },
   "file_extension": ".py",
   "mimetype": "text/x-python",
   "name": "python",
   "nbconvert_exporter": "python",
   "pygments_lexer": "ipython3",
   "version": "3.9.6"
  },
  "orig_nbformat": 4
 },
 "nbformat": 4,
 "nbformat_minor": 2
}
