{
 "cells": [
  {
   "attachments": {},
   "cell_type": "markdown",
   "metadata": {},
   "source": [
    "목표: 03.이미지자동화 폴더에 있는 모든 파일들을 04.이동실습 폴더로 옮기기\n",
    "\n",
    "1. 03.이미지자동화 폴더에 어떤 파일명들이 있는지 확인 => files = os.listdir()\n",
    "2. 04.이동실습 폴더 생성하기 \n",
    "2-1. 04.이동실습 폴더 존재여부 확인 os.path.exists()\n",
    "2-2. 04.이동실습 폴더가 없으면 생성\n",
    "3. rename 함수를 이용해서 '04.이동실습'로 옮기기 => for in files:"
   ]
  },
  {
   "cell_type": "code",
   "execution_count": 8,
   "metadata": {},
   "outputs": [
    {
     "name": "stdout",
     "output_type": "stream",
     "text": [
      "/Users/nossi/Desktop/citizen developers/samsung-rpa/2.데스크톱 자동화/02.폴더및파일관리\n",
      "['1.pillow사용법.ipynb', 'teemo.jpg', '3.이미지워터마크.ipynb', '2.예제 - 이미지일괄변경.ipynb', 'teemo_half.jpg', 'people', 'two_people.png', 'profile.png', 'teemo_quarter.jpg', '4.opencv사용법.ipynb', 'NotoSansKR-Regular.otf']\n"
     ]
    }
   ],
   "source": [
    "import os\n",
    "\n",
    "print(os.getcwd())\n",
    "files = os.listdir('../03.이미지자동화/')\n",
    "print(files)\n",
    "\n",
    "if not os.path.exists('../04.이동실습'):\n",
    "    os.mkdir('../04.이동실습')\n",
    "\n",
    "for file in files:\n",
    "    src_path = f'/Users/nossi/Desktop/citizen developers/samsung-rpa/2.데스크톱 자동화/03.이미지자동화/{file}'\n",
    "    dst_path = f'/Users/nossi/Desktop/citizen developers/samsung-rpa/2.데스크톱 자동화/04.이동실습/{file}'\n",
    "    os.rename(src_path, dst_path)\n",
    "\n",
    "\n",
    "# os.rename('../03.이미지자동화/teemo.jpg', '../04.이동실습/teemo.jpg')\n",
    "# os.rename('../03.이미지자동화/3.이미지워터마크.ipynb', '../04.이동실습/3.이미지워터마크.ipynb')\n",
    "\n"
   ]
  }
 ],
 "metadata": {
  "kernelspec": {
   "display_name": "Python 3",
   "language": "python",
   "name": "python3"
  },
  "language_info": {
   "codemirror_mode": {
    "name": "ipython",
    "version": 3
   },
   "file_extension": ".py",
   "mimetype": "text/x-python",
   "name": "python",
   "nbconvert_exporter": "python",
   "pygments_lexer": "ipython3",
   "version": "3.9.6"
  },
  "orig_nbformat": 4
 },
 "nbformat": 4,
 "nbformat_minor": 2
}
