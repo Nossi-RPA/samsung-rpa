{
 "cells": [
  {
   "cell_type": "code",
   "execution_count": null,
   "metadata": {},
   "outputs": [],
   "source": [
    "# 파일 입출력\n",
    "f = open('test.txt', 'w')\n",
    "f.write('hi')\n",
    "f.close()"
   ]
  },
  {
   "cell_type": "code",
   "execution_count": null,
   "metadata": {},
   "outputs": [],
   "source": [
    "# 파일 100개 만들기\n",
    "for i in range(1, 101):\n",
    "    f = open(f'2023-11-01 데이터{i}.txt', 'w')\n",
    "    f.write(f'data{i}')\n",
    "    f.close()"
   ]
  },
  {
   "cell_type": "code",
   "execution_count": null,
   "metadata": {},
   "outputs": [],
   "source": [
    "# 파일 이름 변경\n",
    "# 폴더도 변경\n",
    "import os\n",
    "\n",
    "# os.rename('수정전 경로', '수정후 경로')\n",
    "# 2023-02-06 데이터1.txt -> 2023-02-06 data1.txt 수정\n",
    "\n",
    "for i in range(1, 101):\n",
    "    path1 = f'2023-02-06 데이터{i}.txt'\n",
    "    path2 = f'2023-02-06 data{i}.txt'\n",
    "    os.rename(path1, path2)\n"
   ]
  }
 ],
 "metadata": {
  "language_info": {
   "name": "python"
  },
  "orig_nbformat": 4
 },
 "nbformat": 4,
 "nbformat_minor": 2
}
