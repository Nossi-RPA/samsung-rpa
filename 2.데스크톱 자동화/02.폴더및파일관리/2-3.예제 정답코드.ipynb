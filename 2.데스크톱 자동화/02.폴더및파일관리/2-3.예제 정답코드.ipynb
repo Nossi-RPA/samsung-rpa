{
 "cells": [
  {
   "cell_type": "code",
   "execution_count": null,
   "metadata": {},
   "outputs": [],
   "source": [
    "import os\n",
    "# 1. 테스트1 폴더를 만든다. (기존에 해당 폴더가 존재하는지 체크)\n",
    "if not os.path.exists('테스트1'):\n",
    "    os.mkdir('테스트1')\n",
    "# 2. 테스트1 폴더에 하나의 '2023-11-01 data1.txt' 를 만든다.\n",
    "# 3. 테스트1 폴더에 1~100까지 만든다.\n",
    "for i in range(1,101):\n",
    "    f = open(f'테스트1/2023-11-01 data{i}.txt','w')\n",
    "    f.close()\n",
    "\n",
    "# 4. 테스트1 폴더에서 '2023-11-01 data1.txt' -> '2023-11-01 데이터1.txt'\n",
    "for i in range(1,101):\n",
    "    os.rename(f'테스트1/2023-11-01 data{i}.txt', f'테스트1/2023-11-01 데이터{i}.txt')"
   ]
  },
  {
   "cell_type": "code",
   "execution_count": null,
   "metadata": {},
   "outputs": [],
   "source": [
    "files = os.listdir('테스트2')\n",
    "if not os.path.exists('테스트2'):\n",
    "    os.mkdir('테스트2')\n",
    "for file in files:\n",
    "    filename = file.split('.')\n",
    "    os.rename(f'테스트2/{file}', f'테스트2/{filename[0]}_modified.{filename[1]}')"
   ]
  },
  {
   "cell_type": "code",
   "execution_count": null,
   "metadata": {},
   "outputs": [],
   "source": [
    "path = \"./테스트2\"\n",
    "data_list = os.listdir(path)\n",
    "for data in data_list:\n",
    "    name, ext = data.split('.')\n",
    "    new_name = name + '_modified'+ '.' + ext\n",
    "    path1 = os.path.join(path, data)\n",
    "    path2 = os.path.join(path, new_name)\n",
    "    os.rename(path1, path2)"
   ]
  }
 ],
 "metadata": {
  "language_info": {
   "name": "python"
  },
  "orig_nbformat": 4
 },
 "nbformat": 4,
 "nbformat_minor": 2
}
