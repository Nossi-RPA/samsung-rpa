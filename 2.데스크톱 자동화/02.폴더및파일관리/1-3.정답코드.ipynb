{
 "cells": [
  {
   "cell_type": "code",
   "execution_count": null,
   "metadata": {},
   "outputs": [],
   "source": [
    "import os\n",
    "os.chdir('/Users/nossi/Desktop/samsung-rpa/2.데스크톱 자동화/03.이미지자동화')\n",
    "\n",
    "files = os.listdir()\n",
    "print(files)\n",
    "\n",
    "if not os.path.exists('../04.이동실습'):\n",
    "    os.mkdir('../04.이동실습')\n",
    "\n",
    "for file_name in files:\n",
    "    os.rename(file_name, f'../04.이동실습/{file_name}')"
   ]
  }
 ],
 "metadata": {
  "language_info": {
   "name": "python"
  },
  "orig_nbformat": 4
 },
 "nbformat": 4,
 "nbformat_minor": 2
}
