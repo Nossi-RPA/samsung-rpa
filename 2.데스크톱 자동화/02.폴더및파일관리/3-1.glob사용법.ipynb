{
 "cells": [
  {
   "cell_type": "code",
   "execution_count": 14,
   "metadata": {},
   "outputs": [
    {
     "name": "stdout",
     "output_type": "stream",
     "text": [
      "['data9.txt', 'data8.txt', 'data17.txt', 'data16.txt', 'data14.txt', 'data15.txt', 'data11.txt', 'data10.txt', 'data12.txt', 'data13.txt', 'data18.txt', 'data19.txt', 'data1.txt', 'data3.txt', 'data2.txt', 'data6.txt', 'data7.txt', 'data5.txt', 'data4.txt']\n"
     ]
    }
   ],
   "source": [
    "import glob\n",
    "import os\n",
    "# *\n",
    "# ?\n",
    "# !\n",
    "\n",
    "os.getcwd()\n",
    "os.chdir('/Users/nossi/Desktop/citizen developers/samsung-rpa/2.데스크톱 자동화/02.폴더및파일관리/glob_test')\n",
    "# files = os.listdir()\n",
    "files = glob.glob('[!~]*.txt')\n",
    "print(files)"
   ]
  },
  {
   "cell_type": "code",
   "execution_count": null,
   "metadata": {},
   "outputs": [],
   "source": [
    "# * 기호 활용 \n",
    "# 텍스트 파일만 출력하기 -> 확장자 활용\n",
    "glob.glob('glob_test/*.txt')"
   ]
  },
  {
   "cell_type": "code",
   "execution_count": null,
   "metadata": {},
   "outputs": [],
   "source": [
    "# * 기호 활용\n",
    "# 이미지가 png, jpg, jpeg로 다양하게 존재한다면?\n",
    "\n",
    "exts = ['.png', '.jpg', '.jpeg']\n",
    "files = []\n",
    "for ext in exts:\n",
    "    sub_files = glob.glob(\"./glob_test/*\" + ext)\n",
    "    files += sub_files\n",
    "print(files) \n",
    "    "
   ]
  },
  {
   "cell_type": "code",
   "execution_count": 17,
   "metadata": {},
   "outputs": [
    {
     "data": {
      "text/plain": [
       "['./glob_test/data1']"
      ]
     },
     "execution_count": 17,
     "metadata": {},
     "output_type": "execute_result"
    }
   ],
   "source": [
    "# ?기호 \n",
    "# 문자의 종류와 상관없이 정확히 한글자와 매칭\n",
    "# 빈 배열 출력 -> txt 확장자고 꼭 입력해여한다.\n",
    "glob.glob(\"./glob_test/data?\")"
   ]
  },
  {
   "cell_type": "code",
   "execution_count": 18,
   "metadata": {},
   "outputs": [
    {
     "data": {
      "text/plain": [
       "['./glob_test/data9.txt',\n",
       " './glob_test/data8.txt',\n",
       " './glob_test/data3.txt',\n",
       " './glob_test/data2.txt',\n",
       " './glob_test/data6.txt',\n",
       " './glob_test/data7.txt',\n",
       " './glob_test/data5.txt',\n",
       " './glob_test/data4.txt']"
      ]
     },
     "execution_count": 18,
     "metadata": {},
     "output_type": "execute_result"
    }
   ],
   "source": [
    "# ?기호 \n",
    "# 확장자 입력 \n",
    "glob.glob(\"./glob_test/data?.txt\")"
   ]
  },
  {
   "cell_type": "code",
   "execution_count": 19,
   "metadata": {},
   "outputs": [
    {
     "data": {
      "text/plain": [
       "['./glob_test/data17.txt',\n",
       " './glob_test/data16.txt',\n",
       " './glob_test/data14.txt',\n",
       " './glob_test/data15.txt',\n",
       " './glob_test/data11.txt',\n",
       " './glob_test/data10.txt',\n",
       " './glob_test/data12.txt',\n",
       " './glob_test/data13.txt',\n",
       " './glob_test/data18.txt',\n",
       " './glob_test/data19.txt']"
      ]
     },
     "execution_count": 19,
     "metadata": {},
     "output_type": "execute_result"
    }
   ],
   "source": [
    "# ?기호 \n",
    "# 숫자가 두자리인 파일 출력\n",
    "glob.glob(\"./glob_test/data??.txt\")"
   ]
  },
  {
   "cell_type": "code",
   "execution_count": null,
   "metadata": {},
   "outputs": [],
   "source": [
    "# ** 기호\n",
    "# 현재 디렉토리 뿐만 아니라 하위 디렉토리 모두 탐색\n",
    "# recursive = True 옵션을 줘야 함\n",
    "glob.glob('glob_test/**/*.txt', recursive=True)"
   ]
  },
  {
   "cell_type": "code",
   "execution_count": 22,
   "metadata": {},
   "outputs": [
    {
     "data": {
      "text/plain": [
       "['glob_test/data9.txt',\n",
       " 'glob_test/data17.txt',\n",
       " 'glob_test/data16.txt',\n",
       " 'glob_test/data14.txt',\n",
       " 'glob_test/data15.txt',\n",
       " 'glob_test/data11.txt',\n",
       " 'glob_test/data10.txt',\n",
       " 'glob_test/data12.txt',\n",
       " 'glob_test/data13.txt',\n",
       " 'glob_test/data18.txt',\n",
       " 'glob_test/data19.txt',\n",
       " 'glob_test/data2.txt',\n",
       " 'glob_test/data6.txt',\n",
       " 'glob_test/data7.txt',\n",
       " 'glob_test/data5.txt',\n",
       " 'glob_test/data4.txt']"
      ]
     },
     "execution_count": 22,
     "metadata": {},
     "output_type": "execute_result"
    }
   ],
   "source": [
    "# ! or ^\n",
    "glob.glob('glob_test/[!~]*.txt')"
   ]
  },
  {
   "cell_type": "code",
   "execution_count": null,
   "metadata": {},
   "outputs": [],
   "source": [
    "\n"
   ]
  }
 ],
 "metadata": {
  "kernelspec": {
   "display_name": "Python 3",
   "language": "python",
   "name": "python3"
  },
  "language_info": {
   "codemirror_mode": {
    "name": "ipython",
    "version": 3
   },
   "file_extension": ".py",
   "mimetype": "text/x-python",
   "name": "python",
   "nbconvert_exporter": "python",
   "pygments_lexer": "ipython3",
   "version": "3.9.6"
  },
  "orig_nbformat": 4,
  "vscode": {
   "interpreter": {
    "hash": "200fa5d0b2981d58b1f27a61a10a35692b9d56d91ef977d0357ac52583da061d"
   }
  }
 },
 "nbformat": 4,
 "nbformat_minor": 2
}
