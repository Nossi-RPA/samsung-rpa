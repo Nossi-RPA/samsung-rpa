{
 "cells": [
  {
   "cell_type": "code",
   "execution_count": 13,
   "metadata": {},
   "outputs": [],
   "source": [
    "import glob\n",
    "import os\n",
    "# 하위 모든 파일/폴더 확인 \n",
    "# * 기호\n",
    "# 길이와 상관없이 모든 문자열과 매칭\n",
    "\n",
    "files = os.listdir('glob_test')\n",
    "\n",
    "print(files)\n",
    "if not os.path.exists('glob_test/txt'):\n",
    "    os.mkdir('glob_test/txt')\n",
    "\n",
    "# for file in files:\n",
    "#     if '.txt' in file:\n",
    "#         os.rename(f'glob_test/{file}', f'glob_test/txt/{file}')\n",
    "\n",
    "txt_files = glob.glob('glob_test/*.txt')\n",
    "for txt_file in txt_files:\n",
    "    file = txt_file.split('/')[1]\n",
    "    os.rename(txt_file, f'glob_test/txt/{file}')"
   ]
  },
  {
   "cell_type": "code",
   "execution_count": null,
   "metadata": {},
   "outputs": [],
   "source": [
    "# * 기호 활용 \n",
    "# 텍스트 파일만 출력하기 -> 확장자 활용\n",
    "glob.glob('glob_test/*.txt')"
   ]
  },
  {
   "cell_type": "code",
   "execution_count": null,
   "metadata": {},
   "outputs": [],
   "source": [
    "# * 기호 활용\n",
    "# 이미지가 png, jpg, jpeg로 다양하게 존재한다면?\n",
    "\n",
    "exts = ['.png', '.jpg', '.jpeg']\n",
    "files = []\n",
    "for ext in exts:\n",
    "    sub_files = glob.glob(\"./glob_test/*\" + ext)\n",
    "    files += sub_files\n",
    "print(files) \n",
    "    "
   ]
  },
  {
   "cell_type": "code",
   "execution_count": 17,
   "metadata": {},
   "outputs": [
    {
     "data": {
      "text/plain": [
       "['./glob_test/data1']"
      ]
     },
     "execution_count": 17,
     "metadata": {},
     "output_type": "execute_result"
    }
   ],
   "source": [
    "# ?기호 \n",
    "# 문자의 종류와 상관없이 정확히 한글자와 매칭\n",
    "# 빈 배열 출력 -> txt 확장자고 꼭 입력해여한다.\n",
    "glob.glob(\"./glob_test/data?\")"
   ]
  },
  {
   "cell_type": "code",
   "execution_count": 18,
   "metadata": {},
   "outputs": [
    {
     "data": {
      "text/plain": [
       "['./glob_test/data9.txt',\n",
       " './glob_test/data8.txt',\n",
       " './glob_test/data3.txt',\n",
       " './glob_test/data2.txt',\n",
       " './glob_test/data6.txt',\n",
       " './glob_test/data7.txt',\n",
       " './glob_test/data5.txt',\n",
       " './glob_test/data4.txt']"
      ]
     },
     "execution_count": 18,
     "metadata": {},
     "output_type": "execute_result"
    }
   ],
   "source": [
    "# ?기호 \n",
    "# 확장자 입력 \n",
    "glob.glob(\"./glob_test/data?.txt\")"
   ]
  },
  {
   "cell_type": "code",
   "execution_count": 19,
   "metadata": {},
   "outputs": [
    {
     "data": {
      "text/plain": [
       "['./glob_test/data17.txt',\n",
       " './glob_test/data16.txt',\n",
       " './glob_test/data14.txt',\n",
       " './glob_test/data15.txt',\n",
       " './glob_test/data11.txt',\n",
       " './glob_test/data10.txt',\n",
       " './glob_test/data12.txt',\n",
       " './glob_test/data13.txt',\n",
       " './glob_test/data18.txt',\n",
       " './glob_test/data19.txt']"
      ]
     },
     "execution_count": 19,
     "metadata": {},
     "output_type": "execute_result"
    }
   ],
   "source": [
    "# ?기호 \n",
    "# 숫자가 두자리인 파일 출력\n",
    "glob.glob(\"./glob_test/data??.txt\")"
   ]
  },
  {
   "cell_type": "code",
   "execution_count": null,
   "metadata": {},
   "outputs": [],
   "source": [
    "# ** 기호\n",
    "# 현재 디렉토리 뿐만 아니라 하위 디렉토리 모두 탐색\n",
    "# recursive = True 옵션을 줘야 함\n",
    "glob.glob('glob_test/**/*.txt', recursive=True)"
   ]
  },
  {
   "cell_type": "code",
   "execution_count": 22,
   "metadata": {},
   "outputs": [
    {
     "data": {
      "text/plain": [
       "['glob_test/data9.txt',\n",
       " 'glob_test/data17.txt',\n",
       " 'glob_test/data16.txt',\n",
       " 'glob_test/data14.txt',\n",
       " 'glob_test/data15.txt',\n",
       " 'glob_test/data11.txt',\n",
       " 'glob_test/data10.txt',\n",
       " 'glob_test/data12.txt',\n",
       " 'glob_test/data13.txt',\n",
       " 'glob_test/data18.txt',\n",
       " 'glob_test/data19.txt',\n",
       " 'glob_test/data2.txt',\n",
       " 'glob_test/data6.txt',\n",
       " 'glob_test/data7.txt',\n",
       " 'glob_test/data5.txt',\n",
       " 'glob_test/data4.txt']"
      ]
     },
     "execution_count": 22,
     "metadata": {},
     "output_type": "execute_result"
    }
   ],
   "source": [
    "# ! or ^\n",
    "glob.glob('glob_test/[!~]*.txt')"
   ]
  },
  {
   "cell_type": "code",
   "execution_count": null,
   "metadata": {},
   "outputs": [],
   "source": [
    "\n"
   ]
  }
 ],
 "metadata": {
  "kernelspec": {
   "display_name": "Python 3",
   "language": "python",
   "name": "python3"
  },
  "language_info": {
   "codemirror_mode": {
    "name": "ipython",
    "version": 3
   },
   "file_extension": ".py",
   "mimetype": "text/x-python",
   "name": "python",
   "nbconvert_exporter": "python",
   "pygments_lexer": "ipython3",
   "version": "3.9.6"
  },
  "orig_nbformat": 4,
  "vscode": {
   "interpreter": {
    "hash": "200fa5d0b2981d58b1f27a61a10a35692b9d56d91ef977d0357ac52583da061d"
   }
  }
 },
 "nbformat": 4,
 "nbformat_minor": 2
}
