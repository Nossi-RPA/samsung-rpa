{
 "cells": [
  {
   "cell_type": "code",
   "execution_count": 16,
   "metadata": {},
   "outputs": [
    {
     "name": "stdout",
     "output_type": "stream",
     "text": [
      "Point(x=2353, y=208)\n",
      "Size(width=1728, height=1117)\n"
     ]
    }
   ],
   "source": [
    "import pyautogui\n",
    "# 튜플\n",
    "\n",
    "\n",
    "# 리스트 : [1, 2, 3, 4, 5]\n",
    "# 튜플 : (1, 2, 3, 4, 5)\n",
    "\n",
    "\n",
    "\n",
    "print(pyautogui.position()) # 현재 커서 위치\n",
    "print(pyautogui.size()) # 현재 커서 위치\n",
    "\n",
    "# pyautogui.moveTo(1000, 500) # (1000, 500)\n",
    "\n",
    "# pyautogui.click(button='right') # 오른쪽 마우스 클릭\n",
    "# pyautogui.click(button='left') # 왼쪽 마우스 클릭\n",
    "\n",
    "# pyautogui.write('python') # write English\n",
    "# pyautogui.write('파이썬') # write Korean [x]"
   ]
  },
  {
   "cell_type": "code",
   "execution_count": 24,
   "metadata": {},
   "outputs": [
    {
     "data": {
      "text/plain": [
       "'text'"
      ]
     },
     "execution_count": 24,
     "metadata": {},
     "output_type": "execute_result"
    }
   ],
   "source": [
    "import pyperclip\n",
    "\n",
    "pyperclip.copy('qwer1234') # 클립보드에 'text' 를 복사\n",
    "pyautogui.hotkey('command', 'v') # 클립보드에 저장되어 있는 텍스트를 붙여넣기"
   ]
  },
  {
   "cell_type": "code",
   "execution_count": 10,
   "metadata": {},
   "outputs": [
    {
     "name": "stdout",
     "output_type": "stream",
     "text": [
      "/Users/nossi/project/samsung-lecture-rpa/review/code\n",
      "True\n"
     ]
    }
   ],
   "source": [
    "import os\n",
    "import glob\n",
    "# import shutil # \n",
    "\n",
    "print(os.getcwd()) # 현재 작업 디렉토리\n",
    "# # os.chdir()\n",
    "# os.mkdir('directory2')\n",
    "# os.mkdir(r'\\Users\\nossi\\project\\samsung-lecture-rpa\\review\\code')\n",
    "\n",
    "\n",
    "# os.listdir()\n",
    "# os.remove()\n",
    "# os.rmdir()\n",
    "\n",
    "print(os.path.exists('../directory1'))"
   ]
  },
  {
   "cell_type": "code",
   "execution_count": 3,
   "metadata": {},
   "outputs": [
    {
     "name": "stdout",
     "output_type": "stream",
     "text": [
      "/Users/nossi/project/samsung-lecture-rpa/review/code\n"
     ]
    }
   ],
   "source": [
    "\n",
    "# 1. shutil은 파이썬의 표준 라이브러리로 파일 및 디렉토리 작업을 수행할 수 있는 라이브러리입니다.\n",
    "# 2. shutil은 파일 복사, 이동, 삭제 등의 기능을 제공합니다.\n",
    "# 3. shutil은 압축된 파일 및 디렉토리를 생성하거나 압축 해제할 수 있는 기능을 제공합니다.\n",
    "\n",
    "\n",
    "# 파일의 내용, 메타데이터\n",
    "# shutil.copy() 메타데이터 x\n",
    "# shutil.copy2() 메타데이터 o\n",
    "\n",
    "# 파일 복사\n",
    "# 이동\n",
    "# 삭제\n",
    "# shutil.move()\n",
    "\n",
    "\n",
    "os.mkdir('../directory1/new_dir') # path에 폴더를 만드는 함수.\n",
    "\n",
    "os.chdir('new_dir') # 작업 디렉토리 변경\n",
    "print(os.getcwd()) # 현재 디렉토리\n",
    "\n",
    "os.chdir('../') # 작업 디렉토리 변경\n",
    "print(os.getcwd()) # 현재 디렉토리"
   ]
  },
  {
   "cell_type": "code",
   "execution_count": 3,
   "metadata": {},
   "outputs": [
    {
     "name": "stdout",
     "output_type": "stream",
     "text": [
      "['inner_directory', 'test1.txt', 'test2.txt', '1.test.txt', '2.test.txt']\n"
     ]
    }
   ],
   "source": [
    "print(os.listdir(\"../directory1\")) # directory1에 있는 모든 폴더 및 파일 리스트"
   ]
  },
  {
   "cell_type": "code",
   "execution_count": 23,
   "metadata": {},
   "outputs": [
    {
     "data": {
      "text/plain": [
       "'../directory1/inner_directory/1.test.txt'"
      ]
     },
     "execution_count": 23,
     "metadata": {},
     "output_type": "execute_result"
    }
   ],
   "source": [
    "shutil.move('../directory1/1.test.txt', '../directory1/inner_directory')"
   ]
  },
  {
   "cell_type": "code",
   "execution_count": null,
   "metadata": {},
   "outputs": [],
   "source": [
    "os.listdir()\n",
    "glob.glob()\n",
    "\n",
    "glob.glob('*') # 길이와 상관없이 모든 문자열과 매칭\n",
    "glob.glob('*.txt') # 확장자가 .txt인 모든 파일을 검색하기 위한 명령어\n",
    "glob.glob('?') # 임의의 문자 하나와 매칭\n",
    "glob.glob('[0-9]') # 대괄호 안에 있는 문자 중 하나와 정확히 한 글자와 매칭\n",
    "glob.glob('**') # 현재 디렉토리를 포함하여 모든 하위 디렉토리를 매칭"
   ]
  },
  {
   "cell_type": "code",
   "execution_count": 19,
   "metadata": {},
   "outputs": [
    {
     "data": {
      "image/png": "[encoded data removed]",
      "text/plain": [
       "<PIL.Image.Image image mode=RGBA size=50x50>"
      ]
     },
     "execution_count": 19,
     "metadata": {},
     "output_type": "execute_result"
    }
   ],
   "source": [
    "from PIL import Image\n",
    "\n",
    "img = Image.open('samsung.png') # 이미지를 불러오는 함수(메서드) open()\n",
    "img\n",
    "# print(img.format, img.mode, img.size)\n",
    "img.resize((50,50))\n",
    "\n",
    "resized_img = img.resize((500,300)) # 이미지 크기 변경 (width = 500, height = 300)\n",
    "img.crop((100,100,300,300)) # 이미지 자르기\n",
    "img.rotate(45) # 45도 시계 반대방향 회전\n",
    "img.transpose(Image.Transpose.FLIP_LEFT_RIGHT) # 이미지 상하좌우 반전 \n",
    "\n",
    "# resized_img.save()"
   ]
  },
  {
   "cell_type": "code",
   "execution_count": 21,
   "metadata": {},
   "outputs": [
    {
     "data": {
      "text/html": [
       "<div>\n",
       "<style scoped>\n",
       "    .dataframe tbody tr th:only-of-type {\n",
       "        vertical-align: middle;\n",
       "    }\n",
       "\n",
       "    .dataframe tbody tr th {\n",
       "        vertical-align: top;\n",
       "    }\n",
       "\n",
       "    .dataframe thead th {\n",
       "        text-align: right;\n",
       "    }\n",
       "</style>\n",
       "<table border=\"1\" class=\"dataframe\">\n",
       "  <thead>\n",
       "    <tr style=\"text-align: right;\">\n",
       "      <th></th>\n",
       "      <th>이름</th>\n",
       "      <th>나이</th>\n",
       "      <th>전공</th>\n",
       "    </tr>\n",
       "  </thead>\n",
       "  <tbody>\n",
       "    <tr>\n",
       "      <th>1번</th>\n",
       "      <td>김준형</td>\n",
       "      <td>15</td>\n",
       "      <td>컴공</td>\n",
       "    </tr>\n",
       "    <tr>\n",
       "      <th>2번</th>\n",
       "      <td>이지원</td>\n",
       "      <td>25</td>\n",
       "      <td>기계</td>\n",
       "    </tr>\n",
       "    <tr>\n",
       "      <th>3번</th>\n",
       "      <td>김민지</td>\n",
       "      <td>36</td>\n",
       "      <td>화학</td>\n",
       "    </tr>\n",
       "    <tr>\n",
       "      <th>4번</th>\n",
       "      <td>이은호</td>\n",
       "      <td>34</td>\n",
       "      <td>물리</td>\n",
       "    </tr>\n",
       "    <tr>\n",
       "      <th>5번</th>\n",
       "      <td>박지호</td>\n",
       "      <td>23</td>\n",
       "      <td>기계</td>\n",
       "    </tr>\n",
       "    <tr>\n",
       "      <th>6번</th>\n",
       "      <td>김민지</td>\n",
       "      <td>23</td>\n",
       "      <td>기계</td>\n",
       "    </tr>\n",
       "  </tbody>\n",
       "</table>\n",
       "</div>"
      ],
      "text/plain": [
       "     이름  나이  전공\n",
       "1번  김준형  15  컴공\n",
       "2번  이지원  25  기계\n",
       "3번  김민지  36  화학\n",
       "4번  이은호  34  물리\n",
       "5번  박지호  23  기계\n",
       "6번  김민지  23  기계"
      ]
     },
     "execution_count": 21,
     "metadata": {},
     "output_type": "execute_result"
    }
   ],
   "source": [
    "import pandas as pd\n",
    "data = {\n",
    "    '이름': ['김준형', '이지원', '김민지', '이은호', '박지호', '김민지'],\n",
    "    '나이': [15, 25, 36, 34, 23, 23],\n",
    "    '전공': ['컴공', '기계', '화학', '물리', '기계', '기계']\n",
    "}\n",
    "df = pd.DataFrame(data, index=['1번', '2번', '3번', '4번', '5번', '6번'])\n",
    "df"
   ]
  },
  {
   "cell_type": "code",
   "execution_count": 38,
   "metadata": {},
   "outputs": [
    {
     "data": {
      "text/plain": [
       "1번    15\n",
       "2번    25\n",
       "3번    36\n",
       "4번    34\n",
       "5번    23\n",
       "6번    23\n",
       "Name: 나이, dtype: int64"
      ]
     },
     "execution_count": 38,
     "metadata": {},
     "output_type": "execute_result"
    }
   ],
   "source": [
    "df['나이'][4]\n",
    "\n",
    ".iloc[]\n",
    ".loc[]"
   ]
  },
  {
   "cell_type": "code",
   "execution_count": 42,
   "metadata": {},
   "outputs": [
    {
     "data": {
      "text/plain": [
       "'5번'"
      ]
     },
     "execution_count": 42,
     "metadata": {},
     "output_type": "execute_result"
    }
   ],
   "source": []
  },
  {
   "cell_type": "code",
   "execution_count": 36,
   "metadata": {},
   "outputs": [
    {
     "data": {
      "text/html": [
       "<div>\n",
       "<style scoped>\n",
       "    .dataframe tbody tr th:only-of-type {\n",
       "        vertical-align: middle;\n",
       "    }\n",
       "\n",
       "    .dataframe tbody tr th {\n",
       "        vertical-align: top;\n",
       "    }\n",
       "\n",
       "    .dataframe thead th {\n",
       "        text-align: right;\n",
       "    }\n",
       "</style>\n",
       "<table border=\"1\" class=\"dataframe\">\n",
       "  <thead>\n",
       "    <tr style=\"text-align: right;\">\n",
       "      <th></th>\n",
       "      <th>이름</th>\n",
       "      <th>전공</th>\n",
       "    </tr>\n",
       "  </thead>\n",
       "  <tbody>\n",
       "    <tr>\n",
       "      <th>2번</th>\n",
       "      <td>이지원</td>\n",
       "      <td>기계</td>\n",
       "    </tr>\n",
       "    <tr>\n",
       "      <th>3번</th>\n",
       "      <td>김민지</td>\n",
       "      <td>화학</td>\n",
       "    </tr>\n",
       "    <tr>\n",
       "      <th>4번</th>\n",
       "      <td>이은호</td>\n",
       "      <td>물리</td>\n",
       "    </tr>\n",
       "  </tbody>\n",
       "</table>\n",
       "</div>"
      ],
      "text/plain": [
       "     이름  전공\n",
       "2번  이지원  기계\n",
       "3번  김민지  화학\n",
       "4번  이은호  물리"
      ]
     },
     "execution_count": 36,
     "metadata": {},
     "output_type": "execute_result"
    }
   ],
   "source": [
    "df.iloc[1:4 , [0, 2]]"
   ]
  },
  {
   "cell_type": "code",
   "execution_count": 34,
   "metadata": {},
   "outputs": [
    {
     "data": {
      "text/html": [
       "<div>\n",
       "<style scoped>\n",
       "    .dataframe tbody tr th:only-of-type {\n",
       "        vertical-align: middle;\n",
       "    }\n",
       "\n",
       "    .dataframe tbody tr th {\n",
       "        vertical-align: top;\n",
       "    }\n",
       "\n",
       "    .dataframe thead th {\n",
       "        text-align: right;\n",
       "    }\n",
       "</style>\n",
       "<table border=\"1\" class=\"dataframe\">\n",
       "  <thead>\n",
       "    <tr style=\"text-align: right;\">\n",
       "      <th></th>\n",
       "      <th>이름</th>\n",
       "      <th>전공</th>\n",
       "    </tr>\n",
       "  </thead>\n",
       "  <tbody>\n",
       "    <tr>\n",
       "      <th>2번</th>\n",
       "      <td>이지원</td>\n",
       "      <td>기계</td>\n",
       "    </tr>\n",
       "    <tr>\n",
       "      <th>3번</th>\n",
       "      <td>김민지</td>\n",
       "      <td>화학</td>\n",
       "    </tr>\n",
       "    <tr>\n",
       "      <th>4번</th>\n",
       "      <td>이은호</td>\n",
       "      <td>물리</td>\n",
       "    </tr>\n",
       "  </tbody>\n",
       "</table>\n",
       "</div>"
      ],
      "text/plain": [
       "     이름  전공\n",
       "2번  이지원  기계\n",
       "3번  김민지  화학\n",
       "4번  이은호  물리"
      ]
     },
     "execution_count": 34,
     "metadata": {},
     "output_type": "execute_result"
    }
   ],
   "source": [
    "df.loc['2번':'4번', ['이름','전공']]"
   ]
  },
  {
   "cell_type": "code",
   "execution_count": null,
   "metadata": {},
   "outputs": [],
   "source": []
  },
  {
   "cell_type": "code",
   "execution_count": 32,
   "metadata": {},
   "outputs": [
    {
     "data": {
      "text/html": [
       "<div>\n",
       "<style scoped>\n",
       "    .dataframe tbody tr th:only-of-type {\n",
       "        vertical-align: middle;\n",
       "    }\n",
       "\n",
       "    .dataframe tbody tr th {\n",
       "        vertical-align: top;\n",
       "    }\n",
       "\n",
       "    .dataframe thead th {\n",
       "        text-align: right;\n",
       "    }\n",
       "</style>\n",
       "<table border=\"1\" class=\"dataframe\">\n",
       "  <thead>\n",
       "    <tr style=\"text-align: right;\">\n",
       "      <th></th>\n",
       "      <th>이름</th>\n",
       "      <th>전공</th>\n",
       "    </tr>\n",
       "  </thead>\n",
       "  <tbody>\n",
       "    <tr>\n",
       "      <th>1번</th>\n",
       "      <td>김준형</td>\n",
       "      <td>컴공</td>\n",
       "    </tr>\n",
       "    <tr>\n",
       "      <th>2번</th>\n",
       "      <td>이지원</td>\n",
       "      <td>기계</td>\n",
       "    </tr>\n",
       "    <tr>\n",
       "      <th>3번</th>\n",
       "      <td>김민지</td>\n",
       "      <td>화학</td>\n",
       "    </tr>\n",
       "    <tr>\n",
       "      <th>4번</th>\n",
       "      <td>이은호</td>\n",
       "      <td>물리</td>\n",
       "    </tr>\n",
       "    <tr>\n",
       "      <th>5번</th>\n",
       "      <td>박지호</td>\n",
       "      <td>기계</td>\n",
       "    </tr>\n",
       "    <tr>\n",
       "      <th>6번</th>\n",
       "      <td>박지호</td>\n",
       "      <td>기계</td>\n",
       "    </tr>\n",
       "  </tbody>\n",
       "</table>\n",
       "</div>"
      ],
      "text/plain": [
       "     이름  전공\n",
       "1번  김준형  컴공\n",
       "2번  이지원  기계\n",
       "3번  김민지  화학\n",
       "4번  이은호  물리\n",
       "5번  박지호  기계\n",
       "6번  박지호  기계"
      ]
     },
     "execution_count": 32,
     "metadata": {},
     "output_type": "execute_result"
    }
   ],
   "source": [
    "df.iloc[ : , ['이름','전공']]"
   ]
  },
  {
   "cell_type": "code",
   "execution_count": 25,
   "metadata": {},
   "outputs": [
    {
     "data": {
      "text/plain": [
       "4번    이은호\n",
       "5번    박지호\n",
       "6번    박지호\n",
       "Name: 이름, dtype: object"
      ]
     },
     "execution_count": 25,
     "metadata": {},
     "output_type": "execute_result"
    }
   ],
   "source": [
    "df['이름'].tail(3)"
   ]
  },
  {
   "cell_type": "code",
   "execution_count": 15,
   "metadata": {},
   "outputs": [
    {
     "data": {
      "text/plain": [
       "'기계'"
      ]
     },
     "execution_count": 15,
     "metadata": {},
     "output_type": "execute_result"
    }
   ],
   "source": [
    "df.loc[ : , ['이름', '전공']].iloc[1,1]"
   ]
  },
  {
   "cell_type": "code",
   "execution_count": 54,
   "metadata": {},
   "outputs": [
    {
     "data": {
      "text/html": [
       "<div>\n",
       "<style scoped>\n",
       "    .dataframe tbody tr th:only-of-type {\n",
       "        vertical-align: middle;\n",
       "    }\n",
       "\n",
       "    .dataframe tbody tr th {\n",
       "        vertical-align: top;\n",
       "    }\n",
       "\n",
       "    .dataframe thead th {\n",
       "        text-align: right;\n",
       "    }\n",
       "</style>\n",
       "<table border=\"1\" class=\"dataframe\">\n",
       "  <thead>\n",
       "    <tr style=\"text-align: right;\">\n",
       "      <th></th>\n",
       "      <th>이름</th>\n",
       "      <th>나이</th>\n",
       "      <th>전공</th>\n",
       "      <th>점수</th>\n",
       "    </tr>\n",
       "  </thead>\n",
       "  <tbody>\n",
       "    <tr>\n",
       "      <th>1번</th>\n",
       "      <td>김준형</td>\n",
       "      <td>15</td>\n",
       "      <td>컴공</td>\n",
       "      <td>97</td>\n",
       "    </tr>\n",
       "    <tr>\n",
       "      <th>6번</th>\n",
       "      <td>박지호</td>\n",
       "      <td>23</td>\n",
       "      <td>기계</td>\n",
       "      <td>87</td>\n",
       "    </tr>\n",
       "    <tr>\n",
       "      <th>3번</th>\n",
       "      <td>김민지</td>\n",
       "      <td>36</td>\n",
       "      <td>화학</td>\n",
       "      <td>67</td>\n",
       "    </tr>\n",
       "    <tr>\n",
       "      <th>5번</th>\n",
       "      <td>박지호</td>\n",
       "      <td>23</td>\n",
       "      <td>기계</td>\n",
       "      <td>47</td>\n",
       "    </tr>\n",
       "    <tr>\n",
       "      <th>4번</th>\n",
       "      <td>이은호</td>\n",
       "      <td>34</td>\n",
       "      <td>물리</td>\n",
       "      <td>45</td>\n",
       "    </tr>\n",
       "    <tr>\n",
       "      <th>2번</th>\n",
       "      <td>이지원</td>\n",
       "      <td>25</td>\n",
       "      <td>기계</td>\n",
       "      <td>34</td>\n",
       "    </tr>\n",
       "  </tbody>\n",
       "</table>\n",
       "</div>"
      ],
      "text/plain": [
       "     이름  나이  전공  점수\n",
       "1번  김준형  15  컴공  97\n",
       "6번  박지호  23  기계  87\n",
       "3번  김민지  36  화학  67\n",
       "5번  박지호  23  기계  47\n",
       "4번  이은호  34  물리  45\n",
       "2번  이지원  25  기계  34"
      ]
     },
     "execution_count": 54,
     "metadata": {},
     "output_type": "execute_result"
    }
   ],
   "source": [
    "import pandas as pd\n",
    "\n",
    "list = {\n",
    "    '이름': ['김준형', '이지원', '김민지', '이은호', '박지호', '박지호'],\n",
    "    '나이': [15, 25, 36, 34, 23, 23],\n",
    "    '전공': ['컴공', '기계', '화학', '물리', '기계', '기계'],\n",
    "    '점수': [97, 34, 67, 45, 47, 87]\n",
    "}\n",
    "df = pd.DataFrame(list, index=['1번', '2번', '3번', '4번', '5번', '6번'])\n",
    "df.sort_values(by='점수', inplace=True, ascending=False)\n",
    "df\n"
   ]
  },
  {
   "cell_type": "code",
   "execution_count": 9,
   "metadata": {},
   "outputs": [
    {
     "name": "stdout",
     "output_type": "stream",
     "text": [
      "     이름  나이  전공\n",
      "1번  김준형  15  컴공\n",
      "2번  이지원  25  기계\n",
      "3번  김민지  36  화학\n",
      "4번  이은호  34  물리\n",
      "5번  박지호  23  기계\n",
      "6번  박지호  23  기계\n",
      "기계\n",
      "     이름  나이  전공\n",
      "2번  이지원  25  기계\n",
      "5번  박지호  23  기계\n",
      "6번  박지호  23  기계\n",
      "5번\n",
      "23\n",
      "1번    김준형\n",
      "2번    이지원\n",
      "Name: 이름, dtype: object\n",
      "3번    김민지\n",
      "4번    이은호\n",
      "5번    박지호\n",
      "6번    박지호\n",
      "Name: 이름, dtype: object\n",
      "이지원\n",
      "    나이  전공\n",
      "1번  15  컴공\n",
      "2번  25  기계\n",
      "3번  36  화학\n",
      "4번  34  물리\n",
      "화학\n",
      "     이름  나이  전공\n",
      "1번  김준형  15  컴공\n",
      "5번  박지호  23  기계\n",
      "6번  박지호  23  기계\n",
      "2번  이지원  25  기계\n",
      "4번  이은호  34  물리\n",
      "3번  김민지  36  화학\n",
      "     이름  나이  전공\n",
      "1번  김준형  15  컴공\n",
      "2번  이지원  25  기계\n",
      "3번  김민지  36  화학\n",
      "4번  이은호  34  물리\n",
      "5번  박지호  23  기계\n",
      "6번  박지호  23  기계\n",
      "     이름  나이  전공\n",
      "1번  김준형  15  컴공\n",
      "2번  이지원  25  기계\n",
      "3번  김민지  36  화학\n",
      "4번  이은호  34  물리\n",
      "5번  박지호  23  기계\n"
     ]
    },
    {
     "data": {
      "text/html": [
       "<div>\n",
       "<style scoped>\n",
       "    .dataframe tbody tr th:only-of-type {\n",
       "        vertical-align: middle;\n",
       "    }\n",
       "\n",
       "    .dataframe tbody tr th {\n",
       "        vertical-align: top;\n",
       "    }\n",
       "\n",
       "    .dataframe thead th {\n",
       "        text-align: right;\n",
       "    }\n",
       "</style>\n",
       "<table border=\"1\" class=\"dataframe\">\n",
       "  <thead>\n",
       "    <tr style=\"text-align: right;\">\n",
       "      <th></th>\n",
       "      <th>이름</th>\n",
       "      <th>나이</th>\n",
       "      <th>전공</th>\n",
       "    </tr>\n",
       "  </thead>\n",
       "  <tbody>\n",
       "    <tr>\n",
       "      <th>1번</th>\n",
       "      <td>김준형</td>\n",
       "      <td>15</td>\n",
       "      <td>컴공</td>\n",
       "    </tr>\n",
       "    <tr>\n",
       "      <th>2번</th>\n",
       "      <td>이지원</td>\n",
       "      <td>25</td>\n",
       "      <td>기계</td>\n",
       "    </tr>\n",
       "    <tr>\n",
       "      <th>3번</th>\n",
       "      <td>김민지</td>\n",
       "      <td>36</td>\n",
       "      <td>화학</td>\n",
       "    </tr>\n",
       "    <tr>\n",
       "      <th>4번</th>\n",
       "      <td>이은호</td>\n",
       "      <td>34</td>\n",
       "      <td>물리</td>\n",
       "    </tr>\n",
       "    <tr>\n",
       "      <th>5번</th>\n",
       "      <td>박지호</td>\n",
       "      <td>23</td>\n",
       "      <td>기계</td>\n",
       "    </tr>\n",
       "    <tr>\n",
       "      <th>6번</th>\n",
       "      <td>박지호</td>\n",
       "      <td>23</td>\n",
       "      <td>기계</td>\n",
       "    </tr>\n",
       "  </tbody>\n",
       "</table>\n",
       "</div>"
      ],
      "text/plain": [
       "     이름  나이  전공\n",
       "1번  김준형  15  컴공\n",
       "2번  이지원  25  기계\n",
       "3번  김민지  36  화학\n",
       "4번  이은호  34  물리\n",
       "5번  박지호  23  기계\n",
       "6번  박지호  23  기계"
      ]
     },
     "execution_count": 9,
     "metadata": {},
     "output_type": "execute_result"
    }
   ],
   "source": [
    "import pandas as pd\n",
    "\n",
    "list = {\n",
    "    '이름': ['김준형', '이지원', '김민지', '이은호', '박지호', '박지호'],\n",
    "    '나이': [15, 25, 36, 34, 23, 23],\n",
    "    '전공': ['컴공', '기계', '화학', '물리', '기계', '기계'],\n",
    "    '점수': [97, 34, 67, 45, 47, 87]\n",
    "}\n",
    "df = pd.DataFrame(list, index=['1번', '2번', '3번', '4번', '5번', '6번'])\n",
    "\n",
    "print(df)\n",
    "print(df.iloc[1,2]) # 1,2 의 데이터를가져온다.\n",
    "\n",
    "print(df[df['전공'] == '기계'])\n",
    "print(df[df['전공'] == '기계'].index[1])\n",
    "print(df[df['전공'] == '기계'].iloc[1,1])\n",
    "\n",
    "print(df['이름'].head(2))\n",
    "print(df['이름'].tail(4))\n",
    "print(df['이름'].head(4)[1])\n",
    "\n",
    "print(df.loc['1번':'4번', '나이':'전공'])\n",
    "print(df.loc['1번':'4번', '나이':'전공'].iloc[2,1])\n",
    "\n",
    "print(df.sort_values(by='나이')) # '나이' column열을 기준으로 정렬\n",
    "\n",
    "print(df)\n",
    "print(df.drop_duplicates()) # 모든 열에대해 값이 중복인 행을 제거\n",
    "\n",
    "df.fillna(0) # 결측값을 다른 값으로 채움"
   ]
  },
  {
   "cell_type": "code",
   "execution_count": 7,
   "metadata": {},
   "outputs": [
    {
     "data": {
      "text/html": [
       "<div>\n",
       "<style scoped>\n",
       "    .dataframe tbody tr th:only-of-type {\n",
       "        vertical-align: middle;\n",
       "    }\n",
       "\n",
       "    .dataframe tbody tr th {\n",
       "        vertical-align: top;\n",
       "    }\n",
       "\n",
       "    .dataframe thead th {\n",
       "        text-align: right;\n",
       "    }\n",
       "</style>\n",
       "<table border=\"1\" class=\"dataframe\">\n",
       "  <thead>\n",
       "    <tr style=\"text-align: right;\">\n",
       "      <th></th>\n",
       "      <th>1</th>\n",
       "      <th>2</th>\n",
       "      <th>3</th>\n",
       "      <th>4</th>\n",
       "      <th>5</th>\n",
       "      <th>6</th>\n",
       "    </tr>\n",
       "  </thead>\n",
       "  <tbody>\n",
       "    <tr>\n",
       "      <th>0</th>\n",
       "      <td>7</td>\n",
       "      <td>8</td>\n",
       "      <td>9</td>\n",
       "      <td>10</td>\n",
       "      <td>NaN</td>\n",
       "      <td>NaN</td>\n",
       "    </tr>\n",
       "  </tbody>\n",
       "</table>\n",
       "</div>"
      ],
      "text/plain": [
       "   1   2   3   4   5   6\n",
       "0  7   8   9  10 NaN NaN"
      ]
     },
     "execution_count": 7,
     "metadata": {},
     "output_type": "execute_result"
    }
   ],
   "source": [
    "pd.read_csv('example.csv') # csv 파일 읽기"
   ]
  },
  {
   "cell_type": "code",
   "execution_count": 29,
   "metadata": {},
   "outputs": [],
   "source": [
    "import xlwings as xw \n",
    "\n",
    "wb = xw.Book()\n",
    "\n",
    "wb.sheets.add()\n",
    "\n",
    "ws = wb.sheets['sheet1'] # 기존에 있던 'sheet1'이라는 시트에 접근\n",
    "wb.sheets['sheet1'].range('A1').value\n",
    "\n",
    "wb.save()\n",
    "wb.close()\n",
    "\n",
    "# print(sheet1.name) # sheet1 변수에 저장된 시트의 이름\n",
    "# sheet1.name = 'changed_sheet' # sheet 이름 변경"
   ]
  },
  {
   "cell_type": "code",
   "execution_count": 30,
   "metadata": {},
   "outputs": [],
   "source": [
    "ws.range('A1:B1').value = ['제품명', '가격']\n",
    "ws.range('A2:B3').value = [['아이스크림', 1000], ['사과', 2000]]\n",
    "ws.range('B4').value = '=SUM(B2:B3)'\n",
    "\n",
    "max_row = ws.range('A1').end('down').row\n",
    "max_row == 4\n"
   ]
  },
  {
   "cell_type": "code",
   "execution_count": 31,
   "metadata": {},
   "outputs": [
    {
     "data": {
      "text/plain": [
       "40.0"
      ]
     },
     "execution_count": 31,
     "metadata": {},
     "output_type": "execute_result"
    }
   ],
   "source": [
    "ws.range('B4').value"
   ]
  },
  {
   "cell_type": "code",
   "execution_count": 11,
   "metadata": {},
   "outputs": [
    {
     "name": "stdout",
     "output_type": "stream",
     "text": [
      "524.0\n",
      "97.0\n",
      "2\n",
      "7\n",
      "-4108\n"
     ]
    }
   ],
   "source": [
    "ws.range('A1:B1').value = ['과목', '점수']\n",
    "ws.range('A2:B4').value = [['수학', 97], ['과학', 86], ['영어', 80]]\n",
    "\n",
    "ws.range('A5').value = \"미술\"\n",
    "ws.range('B5').value = 99\n",
    "\n",
    "ws.range('A6').options(transpose=True).value = ['사회', '음악']\n",
    "ws.range('B6').options(transpose=True).value = [84, 78]\n",
    "\n",
    "\n",
    "ws.range('B8').value = '=SUM(B2:B7)'\n",
    "ws.range('B9').value = '=AVERAGE(B2:B7)'\n",
    "\n",
    "print(ws.range('B8').value) # B5셀 가져오기\n",
    "print(ws.range('B2').value) # B2셀 가져오기\n",
    "\n",
    "print(ws.range('A1').end('right').column)\n",
    "print(ws.range('A1').end('down').row)\n",
    "\n"
   ]
  },
  {
   "cell_type": "code",
   "execution_count": 4,
   "metadata": {},
   "outputs": [
    {
     "data": {
      "text/plain": [
       "<Sheet [통합 문서4]sheet3>"
      ]
     },
     "execution_count": 4,
     "metadata": {},
     "output_type": "execute_result"
    }
   ],
   "source": [
    "\n",
    "wb.sheets.add('sheet2') # 새로운 시트 'new_sheet1'생성\n",
    "wb.sheets.add('sheet3') # 새로운 시트 'new_sheet2'생성\n"
   ]
  },
  {
   "cell_type": "code",
   "execution_count": 5,
   "metadata": {},
   "outputs": [
    {
     "name": "stdout",
     "output_type": "stream",
     "text": [
      "sheet3\n",
      "sheet2\n",
      "Sheet1\n"
     ]
    }
   ],
   "source": [
    "sheets_list = wb.sheets\n",
    "for sheet in sheets_list:\n",
    "    print(sheet.name) # sheet의 이름 가져오기\n"
   ]
  },
  {
   "cell_type": "code",
   "execution_count": 43,
   "metadata": {},
   "outputs": [],
   "source": [
    "import xlwings as xw\n",
    "\n",
    "wb = xw.Book()"
   ]
  },
  {
   "cell_type": "code",
   "execution_count": 44,
   "metadata": {},
   "outputs": [
    {
     "data": {
      "text/plain": [
       "<Sheet [통합 문서5]new_sheet>"
      ]
     },
     "execution_count": 44,
     "metadata": {},
     "output_type": "execute_result"
    }
   ],
   "source": [
    "wb.sheets.add('new_sheet')"
   ]
  },
  {
   "cell_type": "code",
   "execution_count": 45,
   "metadata": {},
   "outputs": [
    {
     "data": {
      "text/plain": [
       "<Sheet [통합 문서5]old_sheet>"
      ]
     },
     "execution_count": 45,
     "metadata": {},
     "output_type": "execute_result"
    }
   ],
   "source": [
    "wb.sheets.add('old_sheet')"
   ]
  },
  {
   "cell_type": "code",
   "execution_count": 47,
   "metadata": {},
   "outputs": [
    {
     "name": "stdout",
     "output_type": "stream",
     "text": [
      "old_sheet\n",
      "new_sheet\n",
      "Sheet1\n"
     ]
    }
   ],
   "source": [
    "for ws in wb.sheets:\n",
    "    print(ws.name)"
   ]
  }
 ],
 "metadata": {
  "kernelspec": {
   "display_name": "Python 3",
   "language": "python",
   "name": "python3"
  },
  "language_info": {
   "codemirror_mode": {
    "name": "ipython",
    "version": 3
   },
   "file_extension": ".py",
   "mimetype": "text/x-python",
   "name": "python",
   "nbconvert_exporter": "python",
   "pygments_lexer": "ipython3",
   "version": "3.9.6"
  },
  "orig_nbformat": 4
 },
 "nbformat": 4,
 "nbformat_minor": 2
}
