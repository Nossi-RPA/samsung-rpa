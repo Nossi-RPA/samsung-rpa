{
 "cells": [
  {
   "cell_type": "code",
   "execution_count": null,
   "metadata": {},
   "outputs": [],
   "source": [
    "# 참고문서 - 나도코딩 유튜브"
   ]
  },
  {
   "cell_type": "code",
   "execution_count": 1,
   "metadata": {},
   "outputs": [
    {
     "name": "stdout",
     "output_type": "stream",
     "text": [
      "Defaulting to user installation because normal site-packages is not writeable\n",
      "Requirement already satisfied: pandas in /Users/nossi/Library/Python/3.9/lib/python/site-packages (2.0.2)\n",
      "Requirement already satisfied: python-dateutil>=2.8.2 in /Users/nossi/Library/Python/3.9/lib/python/site-packages (from pandas) (2.8.2)\n",
      "Requirement already satisfied: pytz>=2020.1 in /Users/nossi/Library/Python/3.9/lib/python/site-packages (from pandas) (2023.3)\n",
      "Requirement already satisfied: tzdata>=2022.1 in /Users/nossi/Library/Python/3.9/lib/python/site-packages (from pandas) (2023.3)\n",
      "Requirement already satisfied: numpy>=1.20.3 in /Users/nossi/Library/Python/3.9/lib/python/site-packages (from pandas) (1.24.3)\n",
      "Requirement already satisfied: six>=1.5 in /Library/Developer/CommandLineTools/Library/Frameworks/Python3.framework/Versions/3.9/lib/python3.9/site-packages (from python-dateutil>=2.8.2->pandas) (1.15.0)\n",
      "Note: you may need to restart the kernel to use updated packages.\n"
     ]
    }
   ],
   "source": [
    "pip install pandas"
   ]
  },
  {
   "cell_type": "code",
   "execution_count": 13,
   "metadata": {},
   "outputs": [
    {
     "name": "stdout",
     "output_type": "stream",
     "text": [
      "17.4\n"
     ]
    }
   ],
   "source": [
    "import pandas as pd\n",
    "# 런닝 기록\n",
    "# 얼마나 뛰었는지  \n",
    "distance = [3.2, 2.7, 2.2, 3.7, 5.6]\n",
    "print(distance)\n",
    "\n",
    "distance_s = pd.Series(data=distance )\n",
    "distance_s.sum()\n",
    "distance_s.max()\n",
    "distance_s.mean()\n",
    "distance_s.nlargest(2)\n",
    "distance_s.nsmallest(2)"
   ]
  },
  {
   "cell_type": "code",
   "execution_count": null,
   "metadata": {},
   "outputs": [],
   "source": [
    "import pandas as pd\n",
    "\n",
    "distances = [3.2, 1.6, 2.5, 3, 2.7]\n",
    "distances_s = pd.Series(data=distances, index=['MON', 'TUE', 'WED', 'THU', 'FRI'])\n",
    "distances_s\n",
    "distances_s.min()\n",
    "distances_s.mean()\n",
    "distances_s.sum()\n",
    "distances_s.nlargest(2)\n",
    "distances_s.nsmallest(2)"
   ]
  },
  {
   "cell_type": "code",
   "execution_count": 54,
   "metadata": {},
   "outputs": [
    {
     "data": {
      "text/html": [
       "<div>\n",
       "<style scoped>\n",
       "    .dataframe tbody tr th:only-of-type {\n",
       "        vertical-align: middle;\n",
       "    }\n",
       "\n",
       "    .dataframe tbody tr th {\n",
       "        vertical-align: top;\n",
       "    }\n",
       "\n",
       "    .dataframe thead th {\n",
       "        text-align: right;\n",
       "    }\n",
       "</style>\n",
       "<table border=\"1\" class=\"dataframe\">\n",
       "  <thead>\n",
       "    <tr style=\"text-align: right;\">\n",
       "      <th></th>\n",
       "      <th>1주차</th>\n",
       "      <th>2주차</th>\n",
       "      <th>3주차</th>\n",
       "    </tr>\n",
       "    <tr>\n",
       "      <th>요일</th>\n",
       "      <th></th>\n",
       "      <th></th>\n",
       "      <th></th>\n",
       "    </tr>\n",
       "  </thead>\n",
       "  <tbody>\n",
       "    <tr>\n",
       "      <th>Mon</th>\n",
       "      <td>3.2</td>\n",
       "      <td>2.2</td>\n",
       "      <td>1.4</td>\n",
       "    </tr>\n",
       "    <tr>\n",
       "      <th>Tue</th>\n",
       "      <td>1.6</td>\n",
       "      <td>1.1</td>\n",
       "      <td>1.5</td>\n",
       "    </tr>\n",
       "    <tr>\n",
       "      <th>Wed</th>\n",
       "      <td>2.5</td>\n",
       "      <td>3.5</td>\n",
       "      <td>2.1</td>\n",
       "    </tr>\n",
       "    <tr>\n",
       "      <th>Thu</th>\n",
       "      <td>3.0</td>\n",
       "      <td>1.0</td>\n",
       "      <td>1.5</td>\n",
       "    </tr>\n",
       "    <tr>\n",
       "      <th>Fri</th>\n",
       "      <td>2.7</td>\n",
       "      <td>1.5</td>\n",
       "      <td>3.5</td>\n",
       "    </tr>\n",
       "  </tbody>\n",
       "</table>\n",
       "</div>"
      ],
      "text/plain": [
       "     1주차  2주차  3주차\n",
       "요일                \n",
       "Mon  3.2  2.2  1.4\n",
       "Tue  1.6  1.1  1.5\n",
       "Wed  2.5  3.5  2.1\n",
       "Thu  3.0  1.0  1.5\n",
       "Fri  2.7  1.5  3.5"
      ]
     },
     "execution_count": 54,
     "metadata": {},
     "output_type": "execute_result"
    }
   ],
   "source": [
    "import pandas as pd\n",
    "distances = {\n",
    "    '1주차': [3.2, 1.6, 2.5, 3, 2.7],\n",
    "    '2주차': [2.2, 1.1, 3.5, 1, 1.5],\n",
    "    '3주차': [1.4, 1.5, 2.1, 1.5, 3.5]\n",
    "}\n",
    "index = ['Mon','Tue','Wed','Thu','Fri']\n",
    "df = pd.DataFrame(data=distances, index=index)\n",
    "df.index.name = '요일'\n",
    "df.sort_values(by='1주차', inplace=True)\n",
    "df\n",
    "# df = pd.DataFrame(data=distances)\n",
    "# df.index.name = '요일'\n",
    "# df.reset_index(drop=True, inplace =True)\n",
    "# df.sort_values(by='2주차')\n"
   ]
  },
  {
   "cell_type": "code",
   "execution_count": 46,
   "metadata": {},
   "outputs": [
    {
     "name": "stdout",
     "output_type": "stream",
     "text": [
      "     1주차  2주차  3주차\n",
      "MON  3.2  2.2  1.4\n",
      "TUE  1.6  1.1  1.5\n",
      "WED  2.5  3.5  2.1\n",
      "THU  3.0  1.0  1.5\n",
      "FRI  2.7  1.5  3.5\n",
      "     1주차  2주차  3주차\n",
      "SAT  3.2  2.2  1.4\n",
      "SUN  1.6  1.1  1.5\n"
     ]
    },
    {
     "data": {
      "text/html": [
       "<div>\n",
       "<style scoped>\n",
       "    .dataframe tbody tr th:only-of-type {\n",
       "        vertical-align: middle;\n",
       "    }\n",
       "\n",
       "    .dataframe tbody tr th {\n",
       "        vertical-align: top;\n",
       "    }\n",
       "\n",
       "    .dataframe thead th {\n",
       "        text-align: right;\n",
       "    }\n",
       "</style>\n",
       "<table border=\"1\" class=\"dataframe\">\n",
       "  <thead>\n",
       "    <tr style=\"text-align: right;\">\n",
       "      <th></th>\n",
       "      <th>1주차</th>\n",
       "      <th>2주차</th>\n",
       "      <th>3주차</th>\n",
       "    </tr>\n",
       "  </thead>\n",
       "  <tbody>\n",
       "    <tr>\n",
       "      <th>MON</th>\n",
       "      <td>3.2</td>\n",
       "      <td>2.2</td>\n",
       "      <td>1.4</td>\n",
       "    </tr>\n",
       "    <tr>\n",
       "      <th>TUE</th>\n",
       "      <td>1.6</td>\n",
       "      <td>1.1</td>\n",
       "      <td>1.5</td>\n",
       "    </tr>\n",
       "    <tr>\n",
       "      <th>WED</th>\n",
       "      <td>2.5</td>\n",
       "      <td>3.5</td>\n",
       "      <td>2.1</td>\n",
       "    </tr>\n",
       "    <tr>\n",
       "      <th>THU</th>\n",
       "      <td>3.0</td>\n",
       "      <td>1.0</td>\n",
       "      <td>1.5</td>\n",
       "    </tr>\n",
       "    <tr>\n",
       "      <th>FRI</th>\n",
       "      <td>2.7</td>\n",
       "      <td>1.5</td>\n",
       "      <td>3.5</td>\n",
       "    </tr>\n",
       "    <tr>\n",
       "      <th>SAT</th>\n",
       "      <td>3.2</td>\n",
       "      <td>2.2</td>\n",
       "      <td>1.4</td>\n",
       "    </tr>\n",
       "    <tr>\n",
       "      <th>SUN</th>\n",
       "      <td>1.6</td>\n",
       "      <td>1.1</td>\n",
       "      <td>1.5</td>\n",
       "    </tr>\n",
       "  </tbody>\n",
       "</table>\n",
       "</div>"
      ],
      "text/plain": [
       "     1주차  2주차  3주차\n",
       "MON  3.2  2.2  1.4\n",
       "TUE  1.6  1.1  1.5\n",
       "WED  2.5  3.5  2.1\n",
       "THU  3.0  1.0  1.5\n",
       "FRI  2.7  1.5  3.5\n",
       "SAT  3.2  2.2  1.4\n",
       "SUN  1.6  1.1  1.5"
      ]
     },
     "execution_count": 46,
     "metadata": {},
     "output_type": "execute_result"
    }
   ],
   "source": [
    "import pandas as pd\n",
    "distances1 = {\n",
    "    '1주차': [3.2, 1.6, 2.5, 3, 2.7],\n",
    "    '2주차': [2.2, 1.1, 3.5, 1, 1.5],\n",
    "    '3주차': [1.4, 1.5, 2.1, 1.5, 3.5]\n",
    "}\n",
    "distances2 = {\n",
    "    '1주차': [3.2, 1.6],\n",
    "    '2주차': [2.2, 1.1],\n",
    "    '3주차': [1.4, 1.5]\n",
    "}\n",
    "\n",
    "df1 = pd.DataFrame(data=distances1, index=['MON', 'TUE', 'WED', 'THU', 'FRI'])\n",
    "df2 = pd.DataFrame(data=distances2, index=['SAT', 'SUN'])\n",
    "print(df1)\n",
    "print(df2)\n",
    "\n",
    "concated_df = pd.concat([df1,df2])\n",
    "concated_df\n",
    "# # 칼럼 선택\n",
    "# df['3주차'] \n",
    "# # index\n",
    "# df.index\n",
    "# df.index.name = '요일'\n",
    "# # df.reset_index(drop=True, inplace=True)\n",
    "# df.sort_values(by='3주차', ascending=False)"
   ]
  },
  {
   "cell_type": "code",
   "execution_count": null,
   "metadata": {},
   "outputs": [],
   "source": [
    "import xlwings as xw\n",
    "# 데이터 프레임을 엑셀에 넣기\n",
    "wb = xw.Book('test.xlsx')\n",
    "wb.sheets[0].range('A1').options(index=False).value = df\n",
    "\n",
    "# 엑셀에서 데이터 프레임으로 가지고 오기\n",
    "wb = xw.Book('test.xlsx')\n",
    "df = wb.sheets[0].range('A1').expand('table').options(pd.DataFrame).value\n",
    "df.reset_index(inplace=True)"
   ]
  }
 ],
 "metadata": {
  "kernelspec": {
   "display_name": "Python 3",
   "language": "python",
   "name": "python3"
  },
  "language_info": {
   "codemirror_mode": {
    "name": "ipython",
    "version": 3
   },
   "file_extension": ".py",
   "mimetype": "text/x-python",
   "name": "python",
   "nbconvert_exporter": "python",
   "pygments_lexer": "ipython3",
   "version": "3.9.6"
  },
  "orig_nbformat": 4,
  "vscode": {
   "interpreter": {
    "hash": "200fa5d0b2981d58b1f27a61a10a35692b9d56d91ef977d0357ac52583da061d"
   }
  }
 },
 "nbformat": 4,
 "nbformat_minor": 2
}
