{
 "cells": [
  {
   "cell_type": "code",
   "execution_count": 1,
   "metadata": {},
   "outputs": [],
   "source": [
    "# 여러 엑셀파일에서 데이터를 dataFrame 형식으로 가지고 오고 \n",
    "# df1, df2, df3, ..., df10\n",
    "import pandas as pd\n",
    "import xlwings as xw\n",
    "import os, glob\n",
    "\n",
    "os.chdir('/Users/nossi/project/samsung-lecture-rpa/3.엑셀자동화/02.xlwings/onlinesale_data')\n",
    "xlsx_files = glob.glob('[!~|total]*.xlsx')\n",
    "\n",
    "df_list = []\n",
    "for file_name in xlsx_files:\n",
    "    wb = xw.Book(file_name)\n",
    "    ws = wb.sheets['data']\n",
    "    df = ws.range('A1').expand('table').options(pd.DataFrame).value\n",
    "    df.reset_index(inplace=True)\n",
    "    df_list.append(df)\n",
    "# 하나로 합치기 \n",
    "df = pd.concat(df_list, ignore_index=True)\n",
    "df\n",
    "# 새로운 엑셀파일에 저장하기\n",
    "wb = xw.Book('total.xlsx')\n",
    "ws = wb.sheets['Sheet2']\n",
    "ws.range('A1').options(index=False).value = df\n",
    "wb.save()"
   ]
  },
  {
   "cell_type": "code",
   "execution_count": 4,
   "metadata": {},
   "outputs": [
    {
     "data": {
      "text/plain": [
       "array(['기계식 키보드', '게이밍 마우스', '마우스 패드', '32인치 모니터'], dtype=object)"
      ]
     },
     "execution_count": 4,
     "metadata": {},
     "output_type": "execute_result"
    }
   ],
   "source": [
    "df['제품명'].unique()"
   ]
  },
  {
   "cell_type": "code",
   "execution_count": 11,
   "metadata": {},
   "outputs": [
    {
     "name": "stdout",
     "output_type": "stream",
     "text": [
      "['기계식 키보드' '게이밍 마우스' '마우스 패드' '32인치 모니터']\n"
     ]
    }
   ],
   "source": [
    "products = df['제품명'].unique()\n",
    "\n",
    "for p_name in products:\n",
    "    wb.sheets.add(p_name)\n",
    "    filtered_df = df[df['제품명'] == p_name]\n",
    "    ws = wb.sheets[p_name]\n",
    "    ws.range('A1').options(index=False).value = filtered_df"
   ]
  },
  {
   "attachments": {},
   "cell_type": "markdown",
   "metadata": {},
   "source": [
    "목표: 제품명 별로 시트를 만들고, 제품명 별로 데이터를 분류한다."
   ]
  }
 ],
 "metadata": {
  "kernelspec": {
   "display_name": "Python 3",
   "language": "python",
   "name": "python3"
  },
  "language_info": {
   "codemirror_mode": {
    "name": "ipython",
    "version": 3
   },
   "file_extension": ".py",
   "mimetype": "text/x-python",
   "name": "python",
   "nbconvert_exporter": "python",
   "pygments_lexer": "ipython3",
   "version": "3.9.6"
  },
  "orig_nbformat": 4
 },
 "nbformat": 4,
 "nbformat_minor": 2
}
