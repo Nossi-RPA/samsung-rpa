{
 "cells": [
  {
   "cell_type": "code",
   "execution_count": null,
   "metadata": {},
   "outputs": [],
   "source": [
    "import pandas as pd\n",
    "\n",
    "running = [2.1, 1.7, 3.1, 2.5, 2.7]\n",
    "index = ['Mon', 'Tue', 'Wed', 'Thu', 'Fri']\n",
    "\n",
    "series = pd.Series(data = running, index = index)\n",
    "round(series.sum(), ndigits=1)\n",
    "series.head(3)\n",
    "series.tail(3)"
   ]
  },
  {
   "cell_type": "code",
   "execution_count": 38,
   "metadata": {},
   "outputs": [],
   "source": [
    "members = {\n",
    "    '이름' : ['진', '뷔', '정국', '슈가', '제이홉', 'RM', '지민'],\n",
    "    '출생연도' : [1992, 1995, 1997, 1993, 1994, 1994, 1995],\n",
    "    '출생지' : ['과천', '대구', '부산', '대구', '광주', '서울', '부산'],\n",
    "    '담당파트' : ['서브보컬', '서브보컬', '메인보컬', '리드래퍼', '메인댄서', '리더', '메인댄서'],\n",
    "    '체중' : [61, 63, 66, 57, 59, 70, 58]\n",
    "}\n",
    "\n",
    "df = pd.DataFrame(data=members, index=['1번','2번','3번','4번','5번','6번','7번'])\n",
    "df.index\n",
    "df.index.name = '번호'\n",
    "df.index.name\n",
    "df.reset_index(drop=True, inplace=True)"
   ]
  },
  {
   "cell_type": "code",
   "execution_count": 70,
   "metadata": {},
   "outputs": [
    {
     "name": "stdout",
     "output_type": "stream",
     "text": [
      "['쿠팡.xlsx', '스마트스토어.xlsx', '11번가.xlsx']\n"
     ]
    }
   ],
   "source": [
    "# 여러 엑셀파일에서 데이터를 dataFrame 형식으로 가지고 오고 \n",
    "# df1, df2, df3, ..., df10\n",
    "import xlwings as xw\n",
    "import os, glob\n",
    "\n",
    "os.chdir('/Users/nossi/project/samsung-lecture-rpa/3.엑셀자동화/02.xlwings/onlinesale_data')\n",
    "xlsx_files = glob.glob('[!~|total]*.xlsx')\n",
    "\n",
    "print(xlsx_files)\n",
    "df_list = []\n",
    "for file_name in xlsx_files:\n",
    "    wb = xw.Book(file_name)\n",
    "    ws = wb.sheets['data']\n",
    "    df = ws.range('A1').expand('table').options(pd.DataFrame).value\n",
    "    df.reset_index(inplace=True)\n",
    "    df_list.append(df)\n",
    "# 하나로 합치기 \n",
    "concated_df = pd.concat(df_list, ignore_index=True)\n",
    "concated_df\n",
    "# 새로운 엑셀파일에 저장하기\n",
    "wb = xw.Book('total.xlsx')\n",
    "ws = wb.sheets['Sheet2']\n",
    "ws.range('A1').options(index=False).value = concated_df\n",
    "wb.save()"
   ]
  }
 ],
 "metadata": {
  "kernelspec": {
   "display_name": "Python 3",
   "language": "python",
   "name": "python3"
  },
  "language_info": {
   "codemirror_mode": {
    "name": "ipython",
    "version": 3
   },
   "file_extension": ".py",
   "mimetype": "text/x-python",
   "name": "python",
   "nbconvert_exporter": "python",
   "pygments_lexer": "ipython3",
   "version": "3.9.6"
  },
  "orig_nbformat": 4
 },
 "nbformat": 4,
 "nbformat_minor": 2
}
