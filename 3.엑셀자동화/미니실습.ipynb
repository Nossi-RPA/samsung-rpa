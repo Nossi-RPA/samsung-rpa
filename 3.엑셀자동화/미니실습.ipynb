{
 "cells": [
  {
   "cell_type": "code",
   "execution_count": 12,
   "metadata": {},
   "outputs": [],
   "source": [
    "import xlwings as xw\n",
    "\n",
    "# 목표: 다양한 부서의 시트를 만들어서 교육 이수시간 적기\n",
    "\n",
    "# 1. workbook 생성, 열기\n",
    "wb = xw.Book()\n",
    "\n",
    "# 2. 부서별 시트 만들기(sheet1은 total)\n",
    "# 3. 교육 시간 데이터 넣기\n",
    "departments = [\"Sales\", \"Tech\", \"HR\", \"Legal\", \"Media\", \"R&D\", \"Admin\", \"Ops\", \"Audit\", \"PR\"]\n",
    "for name in departments:\n",
    "    ws = wb.sheets.add(name)\n",
    "    ws.range('A1').value = '성명'\n",
    "    ws.range('b1').value = '9월'\n",
    "    ws.range('A2').value = '남영욱'\n",
    "    ws.range('B2').value = 7\n",
    "    ws.range('A3').value = ['배준석', 13]\n",
    "    ws.range('A4').value = [['정재헌', 8], ['박다은', 4]]\n",
    "    ws.range('A6').options(transpose=True).value = ['박현지', '이하정', '노정호']\n",
    "    ws.range('B6').options(transpose=True).value = [10, 7, 5]\n",
    "\n",
    "wb.sheets['sheet1'].name = 'total'\n",
    "\n",
    "# 4. 각 부서별 교육시간 총합 구하기\n",
    "for name in departments:\n",
    "    ws = wb.sheets[name]\n",
    "    max_row = ws.range('B2').end('down').row\n",
    "    ws.range(f'B{max_row+1}').value = f'=SUM(B2:B{max_row})'"
   ]
  },
  {
   "cell_type": "code",
   "execution_count": 13,
   "metadata": {},
   "outputs": [],
   "source": []
  },
  {
   "cell_type": "code",
   "execution_count": 1,
   "metadata": {},
   "outputs": [],
   "source": [
    "import xlwings as xw\n",
    "wb = xw.Book()\n",
    "ws = wb.sheets['sheet1']\n",
    "\n",
    "ws.clear()\n",
    "ws.range('A1').value = '성명'\n",
    "ws.range('b1').value = '9월'\n",
    "\n",
    "ws.range('A2').value = '남영욱'\n",
    "ws.range('B2').value = 7\n",
    "ws.range('A3').value = ['배준석', 13]\n",
    "ws.range('A4').value = [['정재헌', 8], ['박다은', 4]]\n",
    "ws.range('A6').options(transpose=True).value = ['박현지', '이하정', '노정호']\n",
    "ws.range('B6').options(transpose=True).value = [10, 7, 5]"
   ]
  }
 ],
 "metadata": {
  "kernelspec": {
   "display_name": "Python 3",
   "language": "python",
   "name": "python3"
  },
  "language_info": {
   "codemirror_mode": {
    "name": "ipython",
    "version": 3
   },
   "file_extension": ".py",
   "mimetype": "text/x-python",
   "name": "python",
   "nbconvert_exporter": "python",
   "pygments_lexer": "ipython3",
   "version": "3.9.6"
  },
  "orig_nbformat": 4
 },
 "nbformat": 4,
 "nbformat_minor": 2
}
