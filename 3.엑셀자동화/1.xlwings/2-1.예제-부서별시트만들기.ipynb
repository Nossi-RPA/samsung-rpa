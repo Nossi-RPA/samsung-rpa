{
 "cells": [
  {
   "attachments": {},
   "cell_type": "markdown",
   "metadata": {},
   "source": [
    "# 목표 : 회사 부서명 별로 시트 만들기\n",
    "departments = [\"Sales\", \"Tech\", \"HR\", \"Legal\", \"Media\", \"R&D\", \"Admin\", \"Ops\", \"Audit\", \"PR\"]\n",
    "* 1: 회사 부서명 별로 시트를 만들기 for in :\n",
    "* 2: Sheet1의 name을 total로 변경하기\n",
    "* 3: 모든 Sheet 이름 출력하기\n",
    "* 4: 'samsung.xlsx' 저장하고 종료하기"
   ]
  },
  {
   "cell_type": "markdown",
   "metadata": {},
   "source": []
  }
 ],
 "metadata": {
  "kernelspec": {
   "display_name": "Python 3",
   "language": "python",
   "name": "python3"
  },
  "language_info": {
   "codemirror_mode": {
    "name": "ipython",
    "version": 3
   },
   "file_extension": ".py",
   "mimetype": "text/x-python",
   "name": "python",
   "nbconvert_exporter": "python",
   "pygments_lexer": "ipython3",
   "version": "3.9.6"
  },
  "orig_nbformat": 4
 },
 "nbformat": 4,
 "nbformat_minor": 2
}
