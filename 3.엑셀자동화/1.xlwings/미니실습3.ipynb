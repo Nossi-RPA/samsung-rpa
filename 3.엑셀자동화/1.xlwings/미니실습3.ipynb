{
 "cells": [
  {
   "cell_type": "code",
   "execution_count": null,
   "metadata": {},
   "outputs": [],
   "source": [
    "# 목표: 온라인 매출 데이터를 통합하기\n",
    "\n",
    "# 1-1. 각 엑셀에 적혀있는 데이터를 python으로 가지고오기 (이중리스트 형식, DataFrame)\n",
    "\n",
    "ws.range('A1:D11').value # 이중 리스트 형식\n",
    "    df1 = ws.range('A1').expand('table').options(pd.DataFrame).value\n",
    "    df2 = ws.range('A1').expand('table').options(pd.DataFrame).value\n",
    "    df3 = ws.range('A1').expand('table').options(pd.DataFrame).value\n",
    "# 1-2. for 반복문으로 코드 개선하기\n",
    "# 2. 통합하기 pd.concat()\n",
    "    df = pd.concat([df1,df2,df3])\n",
    "# 3. total.xlsx 에 저장하기\n",
    "    wb = xw.Book()\n",
    "    ws.range('A1').value = df\n",
    "    wb.save('total.xlsx)"
   ]
  },
  {
   "cell_type": "code",
   "execution_count": 55,
   "metadata": {},
   "outputs": [
    {
     "name": "stdout",
     "output_type": "stream",
     "text": [
      "Defaulting to user installation because normal site-packages is not writeable\n",
      "Collecting openpyxl\n",
      "  Downloading openpyxl-3.1.2-py2.py3-none-any.whl (249 kB)\n",
      "\u001b[2K     \u001b[90m━━━━━━━━━━━━━━━━━━━━━━━━━━━━━━━━━━━━━━\u001b[0m \u001b[32m250.0/250.0 kB\u001b[0m \u001b[31m10.0 MB/s\u001b[0m eta \u001b[36m0:00:00\u001b[0m\n",
      "\u001b[?25hCollecting et-xmlfile (from openpyxl)\n",
      "  Downloading et_xmlfile-1.1.0-py3-none-any.whl (4.7 kB)\n",
      "Installing collected packages: et-xmlfile, openpyxl\n",
      "Successfully installed et-xmlfile-1.1.0 openpyxl-3.1.2\n",
      "\n",
      "\u001b[1m[\u001b[0m\u001b[34;49mnotice\u001b[0m\u001b[1;39;49m]\u001b[0m\u001b[39;49m A new release of pip is available: \u001b[0m\u001b[31;49m23.1.2\u001b[0m\u001b[39;49m -> \u001b[0m\u001b[32;49m23.3.1\u001b[0m\n",
      "\u001b[1m[\u001b[0m\u001b[34;49mnotice\u001b[0m\u001b[1;39;49m]\u001b[0m\u001b[39;49m To update, run: \u001b[0m\u001b[32;49m/Library/Developer/CommandLineTools/usr/bin/python3 -m pip install --upgrade pip\u001b[0m\n",
      "Note: you may need to restart the kernel to use updated packages.\n"
     ]
    }
   ],
   "source": [
    "pip install openpyxl"
   ]
  },
  {
   "cell_type": "markdown",
   "metadata": {},
   "source": []
  },
  {
   "cell_type": "code",
   "execution_count": 57,
   "metadata": {},
   "outputs": [
    {
     "name": "stdout",
     "output_type": "stream",
     "text": [
      "       제품명      가격  수량      합계\n",
      "0  기계식 키보드  120000   2  240000\n",
      "1  게이밍 마우스   40000   4  160000\n",
      "2  게이밍 마우스   40000   4  160000\n",
      "3  기계식 키보드  120000   1  120000\n",
      "4  기계식 키보드  120000   1  120000\n",
      "        제품명      가격  수량       합계\n",
      "0    마우스 패드   20000   3    60000\n",
      "1   기계식 키보드  120000   5   600000\n",
      "2  32인치 모니터  350000   3  1050000\n",
      "3  32인치 모니터  350000   4  1400000\n",
      "4    마우스 패드   20000   3    60000\n",
      "5    마우스 패드   20000   2    40000\n",
      "        제품명      가격  수량       합계\n",
      "0   게이밍 마우스   40000   3   120000\n",
      "1    마우스 패드   20000   2    40000\n",
      "2   기계식 키보드  120000   1   120000\n",
      "3   게이밍 마우스   40000   5   200000\n",
      "4  32인치 모니터  350000   5  1750000\n",
      "5    마우스 패드   20000   1    20000\n",
      "6   게이밍 마우스   40000   1    40000\n",
      "7  32인치 모니터  350000   3  1050000\n",
      "8   게이밍 마우스   40000   1    40000\n",
      "9   게이밍 마우스   40000   4   160000\n"
     ]
    },
    {
     "data": {
      "text/plain": [
       "array(['기계식 키보드', '게이밍 마우스', '마우스 패드', '32인치 모니터'], dtype=object)"
      ]
     },
     "execution_count": 57,
     "metadata": {},
     "output_type": "execute_result"
    }
   ],
   "source": [
    "import xlwings as xw\n",
    "import pandas as pd\n",
    "import glob\n",
    "import os\n",
    "# 엑셀 데이터를 dataframe 형식으로 가지고오기\n",
    "files = glob.glob('onlinesale_data/[!~]*.xlsx')\n",
    "df_list = []\n",
    "for name in files:\n",
    "    if 'total' not in name:\n",
    "        df = pd.read_excel(name)\n",
    "        df_list.append(df)\n",
    "        print(df)\n",
    "        # wb = xw.Book(name)\n",
    "        # ws = wb.sheets['data']\n",
    "        # df = ws.range('A1').expand().options(pd.DataFrame, index=False).value\n",
    "        # df_list.append(df)\n",
    "\n",
    "\n",
    "# 합치기\n",
    "concated_df = pd.concat(df_list)\n",
    "concated_df.reset_index(drop=True, inplace=True)\n",
    "products = concated_df['제품명'].unique()\n",
    "products\n",
    "\n",
    "\n",
    "# total.xlsx에 저장하기\n",
    "if os.path.exists('onlinesale_data/total.xlsx'):\n",
    "    total_wb = xw.Book('onlinesale_data/total.xlsx')\n",
    "else :\n",
    "    total_wb = xw.Book()\n",
    "total_ws = total_wb.sheets[0]\n",
    "total_ws.range('A1').options(index=False).value = concated_df\n",
    "total_wb.save('onlinesale_data/total.xlsx')"
   ]
  },
  {
   "attachments": {},
   "cell_type": "markdown",
   "metadata": {},
   "source": [
    "1. 어떤 제품들이 있는지 알아낼 수 있는 방법\n",
    "\n",
    "2. "
   ]
  },
  {
   "cell_type": "code",
   "execution_count": null,
   "metadata": {},
   "outputs": [],
   "source": [
    "import xlwings as xw\n",
    "import pandas as pd\n",
    "import glob\n",
    "import os\n",
    "\n",
    "\n",
    "files = glob.glob('*.xlsx')\n",
    "print(files)\n",
    "df_list= []\n",
    "\n",
    "for file in files:\n",
    "    \n",
    "    wb = xw.Book(file)\n",
    "    print(wb.name)\n",
    "    ws = wb.sheets['data']\n",
    "    df = ws.range('A1').expand().options(pd.DataFrame).value\n",
    "    df_list.append(df)\n",
    "\n"
   ]
  },
  {
   "cell_type": "code",
   "execution_count": 41,
   "metadata": {},
   "outputs": [],
   "source": [
    "import xlwings as xw\n",
    "\n",
    "wb = xw.Book('onlinesale_data/11번가.xlsx')\n",
    "# wb.sheets.add()\n",
    "ws = wb.sheets['data']\n",
    "df = ws.range('D2').value\n",
    "ws.range('A1').expand()\n",
    "ws.range('A1').end('down').row\n",
    "ws.range('A1').end('down').column\n",
    "ws.range('A1').end('down').address\n",
    "\n",
    "rng = ws.range('D2').expand('down')\n",
    "\n",
    "for cell in rng:\n",
    "    if cell.value < 100000:\n",
    "        cell.color = (255, 0, 0)\n",
    "\n",
    "\n",
    "max_row = ws.range('D1').end('down').row\n",
    "ws.range(f'D{max_row+1}').value = f'=SUM(D2:D{max_row})'\n",
    "\n",
    "# 하나하나의 셀을 선택해서 금액이 10만원 미만이면 빨간색을 칠한다.\n",
    "\n"
   ]
  },
  {
   "attachments": {},
   "cell_type": "markdown",
   "metadata": {},
   "source": [
    "코드를 여러번 실행하다가 보면 excel 창은 닫혔는데 작업관리창에는 남아있는 경우가 있더라구요. \n",
    "(app,active.quit())을 사용했는데두요. \n",
    "이런경우에는 어떻게 해야하나요?? \n",
    "수업 막바지에 렉이 엄청걸렸었습니다."
   ]
  },
  {
   "cell_type": "code",
   "execution_count": 40,
   "metadata": {},
   "outputs": [
    {
     "name": "stdout",
     "output_type": "stream",
     "text": [
      "Defaulting to user installation because normal site-packages is not writeable\n",
      "Requirement already satisfied: xlwings in /Users/nossi/Library/Python/3.9/lib/python/site-packages (0.30.8)\n",
      "Requirement already satisfied: psutil>=2.0.0 in /Users/nossi/Library/Python/3.9/lib/python/site-packages (from xlwings) (5.9.5)\n",
      "Requirement already satisfied: appscript>=1.0.1 in /Users/nossi/Library/Python/3.9/lib/python/site-packages (from xlwings) (1.2.2)\n",
      "Requirement already satisfied: lxml>=4.7.1 in /Users/nossi/Library/Python/3.9/lib/python/site-packages (from appscript>=1.0.1->xlwings) (4.9.2)\n",
      "\n",
      "\u001b[1m[\u001b[0m\u001b[34;49mnotice\u001b[0m\u001b[1;39;49m]\u001b[0m\u001b[39;49m A new release of pip is available: \u001b[0m\u001b[31;49m23.1.2\u001b[0m\u001b[39;49m -> \u001b[0m\u001b[32;49m23.3.1\u001b[0m\n",
      "\u001b[1m[\u001b[0m\u001b[34;49mnotice\u001b[0m\u001b[1;39;49m]\u001b[0m\u001b[39;49m To update, run: \u001b[0m\u001b[32;49m/Library/Developer/CommandLineTools/usr/bin/python3 -m pip install --upgrade pip\u001b[0m\n",
      "Note: you may need to restart the kernel to use updated packages.\n"
     ]
    }
   ],
   "source": [
    "pip install xlwings"
   ]
  }
 ],
 "metadata": {
  "kernelspec": {
   "display_name": "Python 3",
   "language": "python",
   "name": "python3"
  },
  "language_info": {
   "codemirror_mode": {
    "name": "ipython",
    "version": 3
   },
   "file_extension": ".py",
   "mimetype": "text/x-python",
   "name": "python",
   "nbconvert_exporter": "python",
   "pygments_lexer": "ipython3",
   "version": "3.9.6"
  },
  "orig_nbformat": 4
 },
 "nbformat": 4,
 "nbformat_minor": 2
}
