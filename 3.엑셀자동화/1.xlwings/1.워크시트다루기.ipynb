{
 "cells": [
  {
   "cell_type": "code",
   "execution_count": 12,
   "metadata": {},
   "outputs": [
    {
     "name": "stdout",
     "output_type": "stream",
     "text": [
      "Requirement already satisfied: xlwings in /opt/homebrew/lib/python3.11/site-packages (0.30.12)\n",
      "Requirement already satisfied: psutil>=2.0.0 in /opt/homebrew/lib/python3.11/site-packages (from xlwings) (5.9.5)\n",
      "Requirement already satisfied: appscript>=1.0.1 in /opt/homebrew/lib/python3.11/site-packages (from xlwings) (1.2.2)\n",
      "Requirement already satisfied: lxml>=4.7.1 in /opt/homebrew/lib/python3.11/site-packages (from appscript>=1.0.1->xlwings) (4.9.3)\n",
      "Note: you may need to restart the kernel to use updated packages.\n"
     ]
    }
   ],
   "source": [
    "pip install xlwings"
   ]
  },
  {
   "cell_type": "code",
   "execution_count": 14,
   "metadata": {},
   "outputs": [],
   "source": [
    "import xlwings as xw\n",
    "wb = xw.Book()  # this will open a new workbook\n",
    "# wb = xw.Book('FileName.xlsx')  # connect to a file that is open or in the current working directory\n",
    "# wb = xw.Book(r'C:\\path\\to\\file.xlsx')  # on Windows: use raw strings to escape backslashes"
   ]
  },
  {
   "attachments": {},
   "cell_type": "markdown",
   "metadata": {},
   "source": [
    "#### Book"
   ]
  },
  {
   "cell_type": "code",
   "execution_count": 21,
   "metadata": {},
   "outputs": [
    {
     "name": "stdout",
     "output_type": "stream",
     "text": [
      "test.xlsx\n",
      "Sheets([<Sheet [test.xlsx]Sheet4>, <Sheet [test.xlsx]Sheet3>, <Sheet [test.xlsx]Sheet1>])\n"
     ]
    }
   ],
   "source": [
    "print(wb.name)\n",
    "print(wb.sheets)\n",
    "wb.save('test.xlsx')\n",
    "wb.close()\n",
    "xw.apps.active.quit()"
   ]
  },
  {
   "attachments": {},
   "cell_type": "markdown",
   "metadata": {},
   "source": [
    "#### Sheets"
   ]
  },
  {
   "cell_type": "code",
   "execution_count": 18,
   "metadata": {},
   "outputs": [
    {
     "data": {
      "text/plain": [
       "<Sheet [test.xlsx]Sheet4>"
      ]
     },
     "execution_count": 18,
     "metadata": {},
     "output_type": "execute_result"
    }
   ],
   "source": [
    "wb.sheets.add()"
   ]
  },
  {
   "attachments": {},
   "cell_type": "markdown",
   "metadata": {},
   "source": [
    "#### Sheet"
   ]
  },
  {
   "cell_type": "code",
   "execution_count": 20,
   "metadata": {},
   "outputs": [],
   "source": [
    "ws = wb.sheets[2]\n",
    "ws.name\n",
    "ws.delete()"
   ]
  }
 ],
 "metadata": {
  "kernelspec": {
   "display_name": "Python 3",
   "language": "python",
   "name": "python3"
  },
  "language_info": {
   "codemirror_mode": {
    "name": "ipython",
    "version": 3
   },
   "file_extension": ".py",
   "mimetype": "text/x-python",
   "name": "python",
   "nbconvert_exporter": "python",
   "pygments_lexer": "ipython3",
   "version": "3.11.3"
  },
  "orig_nbformat": 4,
  "vscode": {
   "interpreter": {
    "hash": "200fa5d0b2981d58b1f27a61a10a35692b9d56d91ef977d0357ac52583da061d"
   }
  }
 },
 "nbformat": 4,
 "nbformat_minor": 2
}
