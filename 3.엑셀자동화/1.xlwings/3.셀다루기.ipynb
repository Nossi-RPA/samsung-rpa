{
 "cells": [
  {
   "cell_type": "markdown",
   "metadata": {},
   "source": [
    "# 셀에 값 넣어주기"
   ]
  },
  {
   "cell_type": "code",
   "execution_count": 121,
   "metadata": {},
   "outputs": [
    {
     "name": "stdout",
     "output_type": "stream",
     "text": [
      "정재헌\n",
      "['정재헌', 8.0]\n",
      "[['정재헌', 8.0, 12.0], ['박다은', 4.0, 9.0]]\n"
     ]
    }
   ],
   "source": [
    "import xlwings as xw\n",
    "\n",
    "wb = xw.Book('samsung_교육이수시간.xlsx')       # wb : 현재 디렉토리에 있는 samsung_교육이수시간 엑셀 파일\n",
    "ws = wb.sheets['PR']                        # ws : 현재 엑셀 파일의 'PR' 시트\n",
    "ws.range('A1:Z20').clear()                  # A1:Z20 범위의 셀을 모두 초기화 (내용 및 포맷 모두 제거)\n",
    "\n",
    "# Range (서로 같은 셀 지칭)\n",
    "ws.range('B3')\n",
    "ws.cells(3,2)\n",
    "\n",
    "# Range.value\n",
    "ws.range('A1').value = '성명'\n",
    "ws.range('B1').value = '10월'\n",
    "ws.range('C1').value = '9월'\n",
    "ws.range('D1').value = '8월'\n",
    "\n",
    "# 한 줄 정보 각각 입력하기\n",
    "ws.cells(2,1).value = '남영욱'    # '성명'\n",
    "ws.cells(2,2).value = 7         # '10월'   \n",
    "ws.cells(2,3).value = 15        # '9월'\n",
    "ws.cells(2,4).value = 12        # '8월'\n",
    "\n",
    "# 한번에 한 줄 정보 입력하기 (가로)\n",
    "ws.range('A3').value = ['배준석', 13, 10, 5]\n",
    "# 한번에 여러 줄 정보 입력하기 (가로)\n",
    "ws.range('A4').value = [['정재헌', 8, 12, 11], ['박다은', 4, 9, 1]]                 # A4:D4와 A5:D5\n",
    "# 한번에 여러 정보 입력하기 (세로)\n",
    "ws.range('A6').options(transpose=True).value = ['박현지', '정해영','노정호']          # A6에서부터 세로로 3개 입력\n",
    "ws.range('B6').options(transpose=True).value = [10, 7, 5]                        # B6에서부터 세로로 3개 입력\n",
    "ws.range('C6').options(transpose=True).value = [7, 1, 2]                         # C6에서부터 세로로 3개 입력\n",
    "ws.range('D6').options(transpose=True).value = [2, 9, 6]                         # D6에서부터 세로로 3개 입력\n",
    "\n",
    "# 원하는 범위에 동일한 값 입력하기\n",
    "ws.range('A9').value = '박범순'\n",
    "ws.range('B9:D9').value = 2         # B9, C9, D9에 2 입력\n",
    "\n",
    "# 원하는 범위의 값을 출력하기\n",
    "print(ws.range('A4').value)         # A4 값 출력\n",
    "print(ws.range('A4:B4').value)      # A4, B4 값 출력\n",
    "print(ws.range('A4:C5').value)      # A4, B4, C4, A5, B5, C5 값 출력"
   ]
  },
  {
   "cell_type": "markdown",
   "metadata": {},
   "source": [
    "# 셀 정보 얻기"
   ]
  },
  {
   "cell_type": "code",
   "execution_count": 99,
   "metadata": {},
   "outputs": [
    {
     "name": "stdout",
     "output_type": "stream",
     "text": [
      "$A$4\n",
      "4\n",
      "1\n"
     ]
    }
   ],
   "source": [
    "# Range.address : 지정 셀 주소(위치)값\n",
    "print(ws.range('A4').address)\n",
    "\n",
    "# Range.row / Range.column : 행(row)과 열(column) 번호\n",
    "row_A4 = ws.range('A4').row\n",
    "print(row_A4)\n",
    "column_A4 = ws.range('A4').column\n",
    "print(column_A4)"
   ]
  },
  {
   "cell_type": "markdown",
   "metadata": {},
   "source": [
    "# 셀 구성 변화주기"
   ]
  },
  {
   "cell_type": "code",
   "execution_count": 94,
   "metadata": {},
   "outputs": [],
   "source": [
    "# 1행에 빈 행 삽입\n",
    "ws.range('2:3').insert(shift='down')\n",
    "\n",
    "# A열에 빈 열 삽입\n",
    "ws.range('A:A').insert(shift='right')\n",
    "\n",
    "# 셀 병합\n",
    "ws.range('A1:B1').merge()"
   ]
  },
  {
   "cell_type": "markdown",
   "metadata": {},
   "source": [
    "# 셀 색칠하기 및 폰트 다루기"
   ]
  },
  {
   "cell_type": "code",
   "execution_count": 119,
   "metadata": {},
   "outputs": [],
   "source": [
    "row_A4 = ws.range('A4').row\n",
    "column_A4 = ws.range('A4').column\n",
    "\n",
    "# cells.color / Range.color : 지정 셀 색 칠하기\n",
    "# cells(행 번호, 열 번호).color\n",
    "ws.cells(row_A4, column_A4).color = (255, 0, 0)               # A4 셀을 빨간색으로 칠한다.\n",
    "\n",
    "# offset(a, b) : \"현재 셀\"로부터 \"a번째 행, b번째 열에 해당하는 셀\"로 지정\n",
    "# Range.color / Range.offset(0, 0).color : \"현재 셀\" 색깔 지정\n",
    "ws.range(f'A{row_A4}').offset(1, 0).color = (255, 255, 0)      # A5 셀을 노란색으로 칠한다.\n",
    "ws.cells(row_A4+1, column_A4).color = None                     # A5 셀을 무색으로 한다.\n",
    "\n",
    "# 폰트 & 정렬\n",
    "ws.range('J12').value = \"마케팅 팀 교육이수 현황\"\n",
    "\n",
    "ws.range('J12').font.bold = True                # 폰트 볼드체\n",
    "\n",
    "ws.range('J12').font.size = 32                  # 폰트 크기 32로 설정\n",
    "\n",
    "ws.range('J12').font.color = (252, 186, 3)      # 폰트 색 지정\n",
    "\n",
    "ws.range('J12').autofit()                       # 폰트 길이에 대해 셀 크기 맞추기"
   ]
  },
  {
   "cell_type": "markdown",
   "metadata": {},
   "source": [
    "# 셀 범위 설정하기"
   ]
  },
  {
   "cell_type": "code",
   "execution_count": 89,
   "metadata": {},
   "outputs": [
    {
     "name": "stdout",
     "output_type": "stream",
     "text": [
      "<Range [samsung_교육이수시간.xlsx]PR!$A$1:$A$9>\n",
      "['성명', '남영욱', '배준석', '정재헌', '박다은', '박현지', '정해영', '노정호', '박범순']\n",
      "<Range [samsung_교육이수시간.xlsx]PR!$A$1:$D$1>\n",
      "['성명', '10월', '9월', '8월']\n",
      "<Range [samsung_교육이수시간.xlsx]PR!$A$1:$D$9>\n",
      "[['성명', '10월', '9월', '8월'], ['남영욱', 7.0, 15.0, 12.0], ['배준석', 13.0, 10.0, 5.0], ['정재헌', 8.0, 12.0, 11.0], ['박다은', 4.0, 9.0, 1.0], ['박현지', 10.0, 7.0, 2.0], ['정해영', 7.0, 1.0, 9.0], ['노정호', 5.0, 2.0, 6.0], ['박범순', 2.0, 2.0, 2.0]]\n"
     ]
    }
   ],
   "source": [
    "# 지정 셀을 시작으로 값이 존재하는 열 범위 얻기\n",
    "range_col_A = ws.range('A1').expand('down')       # A1 셀을 시작으로 값이 존재하는 A열 범위\n",
    "print(range_col_A)                                # A1:A9 (현재 시트 기준)\n",
    "print(range_col_A.value)                          # A1:A9에 있는 모든 셀 값 출력\n",
    "\n",
    "# 지정 셀을 시작으로 값이 존재하는 행 범위 얻기\n",
    "range_row_1 = ws.range('A1').expand('right')      # A1 셀을 시작으로 값이 존재하는 1행 범위\n",
    "print(range_row_1)                                # A1:D1 (현재 시트 기준)\n",
    "print(range_row_1.value)                          # A1:D1에 있는 모든 셀 값 출력\n",
    "\n",
    "# 지정 셀을 시작으로 값이 존재하는 테이블 범위 얻기\n",
    "range_table_A1 = ws.range('A1').expand('table')   # A1 셀을 시작으로 값이 존재하는 테이블 범위\n",
    "print(range_table_A1)                             # A1:D9 (현재 시트 기준)\n",
    "print(range_table_A1.value)                       # A1:D9에 있는 모든 셀 값 출력"
   ]
  },
  {
   "cell_type": "markdown",
   "metadata": {},
   "source": [
    "# 지정 범위의 셀 복사하기"
   ]
  },
  {
   "cell_type": "code",
   "execution_count": null,
   "metadata": {},
   "outputs": [],
   "source": [
    "# A1:B6의 셀 범위 값을 H1 셀에 복사하기\n",
    "ws.range('A1:B6').copy(ws.range('H1'))\n",
    "\n",
    "# A1 셀을 시작으로 찾은 테이블을 E10 셀에 복사하기\n",
    "ws.range('A1').expand('table').copy(ws.range('E10'))"
   ]
  },
  {
   "cell_type": "markdown",
   "metadata": {},
   "source": [
    "# 셀 선택하기"
   ]
  },
  {
   "cell_type": "code",
   "execution_count": 31,
   "metadata": {},
   "outputs": [
    {
     "name": "stdout",
     "output_type": "stream",
     "text": [
      "<Range [samsung_교육이수시간.xlsx]PR!$B$9>\n",
      "<Range [samsung_교육이수시간.xlsx]PR!$B$1>\n",
      "<Range [samsung_교육이수시간.xlsx]PR!$D$5>\n",
      "<Range [samsung_교육이수시간.xlsx]PR!$A$5>\n",
      "9\n",
      "2\n"
     ]
    }
   ],
   "source": [
    "# Range.end('down') : 해당 셀로부터 가장 밑에 있는 셀 정보 얻기\n",
    "last_row_element = ws.range('B5').end('down')             # B5 셀을 기준으로 가장 밑에 있는 셀\n",
    "print(last_row_element)                                   # B9 (현재 시트 기준)\n",
    "\n",
    "# Range.end('up') : 해당 셀로부터 가장 위에 있는 셀 정보 얻기\n",
    "first_row_element = ws.range('B5').end('up')              # B5 셀을 기준으로 가장 위에 있는 셀\n",
    "print(first_row_element)                                  # B1 (현재 시트 기준)\n",
    "\n",
    "# Range.end('right') : 해당 셀로부터 가장 오른쪽에 있는 셀 정보 얻기\n",
    "last_column_element = ws.range('B5').end('right')         # B5 셀을 기준으로 가장 위에 있는 셀\n",
    "print(last_column_element)                                # D5 (현재 시트 기준)\n",
    "\n",
    "# Range.end('up') : 해당 셀로부터 가장 왼쪽에 있는 셀 정보 얻기\n",
    "first_column_element = ws.range('B5').end('left')         # B5 셀을 기준으로 가장 위에 있는 셀\n",
    "print(first_column_element)                               # A5 (현재 시트 기준)\n",
    "\n",
    "# Range.end().row / Range.end().column : 선택한 셀의 행/열 정보만 얻기\n",
    "last_r = ws.range('B5').end('down').row\n",
    "print(last_r)\n",
    "last_c = ws.range('B5').end('down').column\n",
    "print(last_c)"
   ]
  },
  {
   "cell_type": "markdown",
   "metadata": {},
   "source": [
    "# 셀 정보로 조건문과 반복문 사용하기"
   ]
  },
  {
   "cell_type": "code",
   "execution_count": 41,
   "metadata": {},
   "outputs": [],
   "source": [
    "# 지정 셀 범위에 각각 접근하기 (for in 이용)\n",
    "rng = ws.range('B2').expand('down')\n",
    "\n",
    "for cell in rng:\n",
    "    if cell.value < 7:\n",
    "        cell.color = (255, 255, 0)\n",
    "\n",
    "# 다음과 같이 길어질 수 있는 코드를 한번에 줄여줄 수 있다!\n",
    "#\n",
    "# if ws.range('B2').value < 7:\n",
    "#     ws.range('B2').color = (255, 255, 0)\n",
    "# if ws.range('B3').value < 7:\n",
    "#     ws.range('B3').color = (255, 255, 0)\n",
    "# if ws.range('B4').value < 7:\n",
    "#     ws.range('B4').color = (255, 255, 0)\n",
    "# if ws.range('B5').value < 7:\n",
    "#     ws.range('B5').color = (255, 255, 0)\n",
    "# if ws.range('B6').value < 7:\n",
    "#     ws.range('B6').color = (255, 255, 0)\n",
    "# if ws.range('B7').value < 7:\n",
    "#     ws.range('B7').color = (255, 255, 0)\n",
    "# if ws.range('B8').value < 7:\n",
    "#     ws.range('B8').color = (255, 255, 0)\n",
    "# if ws.range('B9').value < 7:\n",
    "#     ws.range('B9').color = (255, 255, 0)\n",
    "\n",
    "# 셀 색상 없애기\n",
    "#\n",
    "# for cell in rng:\n",
    "#     cell.color = None"
   ]
  },
  {
   "cell_type": "markdown",
   "metadata": {},
   "source": [
    "# 함수식 다루기"
   ]
  },
  {
   "cell_type": "code",
   "execution_count": 38,
   "metadata": {},
   "outputs": [],
   "source": [
    "# 각 셀이 포함된 열의 마지막 행 번호 얻기\n",
    "last_B2_row = ws.range('B2').end('down').row\n",
    "last_C2_row = ws.range('C2').end('down').row\n",
    "\n",
    "# 함수식을 이용하여 값을 입력하기 (현재 예제 : 함수식 결과를 마지막 행의 다음 행에 값을 입력하기)\n",
    "ws.range(f'B{last_B2_row+1}').value = f'=SUM(B2:B{last_B2_row})'        # 현재 모든 인원의 10월 교육이수시간을 모두 더하기 (SUM)\n",
    "ws.range(f'C{last_C2_row+1}').value = f'=AVERAGE(C2:C{last_C2_row})'    # 현재 모든 인원의 9월 교육이수시간을 평균 내기 (AVERAGE)"
   ]
  },
  {
   "cell_type": "markdown",
   "metadata": {},
   "source": [
    "# 모든 시트에 접근하기"
   ]
  },
  {
   "cell_type": "code",
   "execution_count": null,
   "metadata": {},
   "outputs": [],
   "source": [
    "# 반복문 wb.sheets -> 현재 워크북에 있는 모든 시트들에 대해 접근하기\n",
    "\n",
    "for ws in wb.sheets:        # 각 시트별 이름과 A열의 최대 길이 출력하기\n",
    "    print(\"-----------------------\")\n",
    "    print(ws.name)\n",
    "    max_row = ws.range('A1').end('down').row\n",
    "    print(max_row)\n",
    "    print(\"-----------------------\")"
   ]
  },
  {
   "cell_type": "markdown",
   "metadata": {},
   "source": [
    "# 워크북 적용 내용 반영 및 종료"
   ]
  },
  {
   "cell_type": "code",
   "execution_count": 122,
   "metadata": {},
   "outputs": [],
   "source": [
    "# 워크북 종료하기\n",
    "wb.save()\n",
    "xw.apps.active.quit()"
   ]
  },
  {
   "attachments": {},
   "cell_type": "markdown",
   "metadata": {},
   "source": [
    "# 적용해보기\n",
    "\n",
    "> 1. **8시간 미만**인 사람들의 이름이 적힌 셀을 **빨간색**으로 색칠하자.\n",
    "\n",
    "\n",
    "> 2. 월별 교육이수시간 합계 구하기\n",
    "\n",
    "[참고]\n",
    "* 다음 코드 활용하기\n",
    "```\n",
    "if cell.value < 8:\n",
    "    cell.color\n",
    "```\n",
    "* 빨간색 설정값 : (255, 0, 0)"
   ]
  },
  {
   "cell_type": "code",
   "execution_count": 36,
   "metadata": {},
   "outputs": [],
   "source": [
    "# 10월 이수 시간에 대한 조건부 서식 적용\n",
    "rng = ws.range('B2:B9')\n",
    "\n",
    "for cell in rng:\n",
    "    if cell.value < 8:\n",
    "        cell.color = (255,0,0)"
   ]
  },
  {
   "cell_type": "code",
   "execution_count": 5,
   "metadata": {},
   "outputs": [],
   "source": [
    "# 9월 이수 시간에 대한 조건부 서식 적용\n",
    "rng = ws.range('C2:C9')\n",
    "\n",
    "for cell in rng:\n",
    "    if cell.value < 8:\n",
    "        cell.color = (255, 0, 0)"
   ]
  },
  {
   "cell_type": "code",
   "execution_count": 5,
   "metadata": {},
   "outputs": [],
   "source": [
    "# 8월 이수 시간에 대한 조건부 서식 적용\n",
    "rng = ws.range('D2:D9')\n",
    "\n",
    "for cell in rng:\n",
    "    if cell.value < 8:\n",
    "        cell.color = (255, 0, 0)"
   ]
  },
  {
   "cell_type": "code",
   "execution_count": null,
   "metadata": {},
   "outputs": [],
   "source": [
    "# 10, 9, 8월에 대해 한번에 처리하기\n",
    "col_rng = ws.range('B2:D9')\n",
    "for rng in col_rng:\n",
    "    for cell in rng:\n",
    "        if cell.value < 8:\n",
    "            cell.color = (255, 0, 0)"
   ]
  }
 ],
 "metadata": {
  "kernelspec": {
   "display_name": "Python 3",
   "language": "python",
   "name": "python3"
  },
  "language_info": {
   "codemirror_mode": {
    "name": "ipython",
    "version": 3
   },
   "file_extension": ".py",
   "mimetype": "text/x-python",
   "name": "python",
   "nbconvert_exporter": "python",
   "pygments_lexer": "ipython3",
   "version": "3.11.3"
  },
  "orig_nbformat": 4,
  "vscode": {
   "interpreter": {
    "hash": "200fa5d0b2981d58b1f27a61a10a35692b9d56d91ef977d0357ac52583da061d"
   }
  }
 },
 "nbformat": 4,
 "nbformat_minor": 2
}
