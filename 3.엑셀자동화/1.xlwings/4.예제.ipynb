{
 "cells": [
  {
   "attachments": {},
   "cell_type": "markdown",
   "metadata": {},
   "source": [
    "# 목표: 'total' 시트에 접근해서 5월 교육 이수시간 '합계'랑, '평균'을 구한다.\n",
    "1. 'HR'시트의 B1셀에 접근해서, end()써서 마지막 row(max_row) 알아낸다.\n",
    "2. max_row 바로 밑에 '=SUM(B2:max_row)' 값을 넣어준다.\n",
    "3. max_row 2칸 밑에  평균을 구해준다.\n",
    "\n",
    "# 목표: 교육 이수시간이 7시간 이하라면 셀을 빨강색으로 채우자.\n",
    "1. 하나의 시트에서 진행해보자\n",
    "2. B칼럼의 모든 cell에 접근해서 값을 비교한다.\n",
    "3. 7이하라면 빨강색 칠한다. color = (255, 0, 0)\n",
    "4. 1~3을 모든 시트에 대해서 적용한다.\n",
    "\n",
    "ws = wb.sheets['total']\n",
    "for cell in ws.range('B2:B21'):\n",
    "    print(cell.value)"
   ]
  },
  {
   "cell_type": "code",
   "execution_count": 35,
   "metadata": {},
   "outputs": [],
   "source": [
    "import xlwings as xw\n",
    "wb = xw.Book('교육이수시간.xlsx')\n",
    "# ws = wb.sheets['total']\n",
    "\n",
    "\n",
    "# 주의할점: 합계랑 평균은 포함 x\n",
    "# 1. ws.range().expand() => +offset()\n",
    "for ws in wb.sheets:\n",
    "    for a_cell in ws.range('A2').expand('down'):\n",
    "        if a_cell.offset(0,1).value <= 7:\n",
    "            a_cell.offset(0,1).color = (255,0,0)\n",
    "\n",
    "\n",
    "# 2. max_row = ws.range().end()\n",
    "for ws in wb.sheets:\n",
    "    max_row = ws.range('A1').end('down').row\n",
    "    for cell in ws.range(f'B2:B{max_row}'):\n",
    "        if cell.value <= 7:\n",
    "            cell.color = (255,0,0)\n",
    "\n"
   ]
  },
  {
   "cell_type": "code",
   "execution_count": 26,
   "metadata": {},
   "outputs": [],
   "source": [
    "import xlwings as xw\n",
    "wb = xw.Book('교육이수시간.xlsx')\n",
    "# ws = wb.sheets['total']\n",
    "####################################\n",
    "# 목표: 모든 시트에 대해서 합계와 평균을 구한다.\n",
    "# wb.sheets => for 반복문\n",
    "####################################\n",
    "# 1. max_row\n",
    "for ws in wb.sheets:\n",
    "    max_row = ws.range('B1').end('down').row\n",
    "    ws.range(f'B{max_row+1}').value = f'=SUM(B2:B{max_row})'\n",
    "    ws.range(f'B{max_row+2}').value = f'=AVERAGE(B2:B{max_row})'\n",
    "\n",
    "# 2. address\n",
    "for ws in wb.sheets:\n",
    "    b_bottom_cell = ws.range('B1').end('down')\n",
    "    b_bottom_cell.offset(1,0).value = f'=SUM(B2:{b_bottom_cell.address})'\n",
    "    b_bottom_cell.offset(2,0).value = f'=AVERAGE(B2:{b_bottom_cell.address})'\n",
    "\n"
   ]
  },
  {
   "cell_type": "markdown",
   "metadata": {},
   "source": []
  },
  {
   "cell_type": "code",
   "execution_count": 11,
   "metadata": {},
   "outputs": [],
   "source": [
    "import xlwings as xw\n",
    "\n",
    "wb = xw.Book('samsung.xlsx')\n",
    "\n",
    "for ws in wb.sheets:\n",
    "    max_row = ws.range('B1').end('down').row\n",
    "    ws.range(f'B{max_row+1}').value = f'=SUM(B2:B{max_row})'\n",
    "    ws.range(f'B{max_row+2}').value = f'=AVERAGE(B2:B{max_row})'"
   ]
  },
  {
   "cell_type": "code",
   "execution_count": 8,
   "metadata": {},
   "outputs": [],
   "source": [
    "import xlwings as xw\n",
    "\n",
    "wb = xw.Book('samsung.xlsx')\n",
    "\n",
    "for ws in wb.sheets:\n",
    "    b_bottom_cell = ws.range('B1').end('down')\n",
    "    b_bottom_cell.offset(1, 0).value = f'=SUM(B2:{b_bottom_cell.address})'\n",
    "    b_bottom_cell.offset(2, 0).value = f'=AVERAGE(B2:{b_bottom_cell.address})'\n"
   ]
  },
  {
   "cell_type": "code",
   "execution_count": 20,
   "metadata": {},
   "outputs": [],
   "source": [
    "import xlwings as xw\n",
    "wb = xw.Book('samsung.xlsx')\n",
    "for ws in wb.sheets:\n",
    "    a_bottom_cell = ws.range('A1').end('down')\n",
    "    b_bottom_cell = a_bottom_cell.offset(0,1)\n",
    "    cells = ws.range(f'B2:{b_bottom_cell.address}')\n",
    "    for cell in cells:\n",
    "        if cell.value <= 7:\n",
    "            cell.color = (255,0,0)"
   ]
  },
  {
   "cell_type": "code",
   "execution_count": null,
   "metadata": {},
   "outputs": [],
   "source": [
    "wb = xw.Book('samsung.xlsx')\n",
    "for ws in wb.sheets:\n",
    "    for a_cell in ws.range('A2').expand('down'):\n",
    "        b_cell = a_cell.offset(0,1)\n",
    "        if b_cell.value<7:\n",
    "            b_cell.color = (255, 0, 0)"
   ]
  }
 ],
 "metadata": {
  "kernelspec": {
   "display_name": "Python 3",
   "language": "python",
   "name": "python3"
  },
  "language_info": {
   "codemirror_mode": {
    "name": "ipython",
    "version": 3
   },
   "file_extension": ".py",
   "mimetype": "text/x-python",
   "name": "python",
   "nbconvert_exporter": "python",
   "pygments_lexer": "ipython3",
   "version": "3.9.6"
  },
  "orig_nbformat": 4
 },
 "nbformat": 4,
 "nbformat_minor": 2
}
