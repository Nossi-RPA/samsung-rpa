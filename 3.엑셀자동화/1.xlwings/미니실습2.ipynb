{
 "cells": [
  {
   "attachments": {},
   "cell_type": "markdown",
   "metadata": {},
   "source": [
    "# 목표: taxbill_data 디렉토리에 있는 모든 세금계산서 파일의 작성일자(발행)를 오늘 날짜로 '2023-10-25' 기입한다.\n",
    "\n",
    "# 하나의 파일에 대해서 작성일자 수정해보기\n",
    "1. taxbill_data/세금계산서_놀부전자.xlsx 연다.  xw.Book()\n",
    "2. 작성일자(발행) 란에 오늘 날짜 입력하기 : ws.range('A1').value = '2023-10-25'\n",
    "3. 저장/닫기 : wb.save(), wb.close()\n",
    "\n",
    "# 모든 파일에 대해서 작성일자 수정해보기\n",
    "os.listdir()\n",
    "glob.glob()\n",
    "for in 반복문으로 1~3 반복하기\n",
    "\n",
    "# 개선:\n",
    "1. '2023-10-25'대신 오늘날짜를 알려주는 라이브러리 적용하기 datetime, time\n",
    "2. 작성일자(발행)의 셀 위치가 다르다면 어떻게 해결할지 생각해보기"
   ]
  },
  {
   "cell_type": "code",
   "execution_count": null,
   "metadata": {},
   "outputs": [],
   "source": [
    "import xlwings as xw\n",
    "import os, glob\n",
    "from datetime import datetime\n",
    "print(os.getcwd())\n",
    "\n",
    "\n",
    "\n",
    "wb = xw.Book('taxbill_data/세금계산서_놀부전자.xlsx')\n",
    "ws = wb.sheets['자료입력페이지']\n",
    "\n",
    "# 작성일자(발행) 의 위치를 찾아서 그 오른쪽에 값을 넣으면 어떨까?\n",
    "# 1 작성일자(발행)의 위치?? 를 찾자!\n",
    "ws.range('C14').value = '2023-10-25'\n",
    "wb.save()\n",
    "wb.close()"
   ]
  },
  {
   "cell_type": "code",
   "execution_count": 30,
   "metadata": {},
   "outputs": [
    {
     "name": "stdout",
     "output_type": "stream",
     "text": [
      "/Users/nossi/project/samsung-lecture-rpa/3.엑셀자동화/02.xlwings\n",
      "taxbill_data/세금계산서_팥쥐엔지니어링.xlsx\n",
      "<Range [세금계산서_팥쥐엔지니어링.xlsx]자료입력페이지!$A$1:$IW$32>\n",
      "taxbill_data/세금계산서_흥부전자.xlsx\n",
      "<Range [세금계산서_흥부전자.xlsx]자료입력페이지!$A$1:$IW$32>\n",
      "taxbill_data/세금계산서_제비공업.xlsx\n",
      "<Range [세금계산서_제비공업.xlsx]자료입력페이지!$A$1:$IW$32>\n",
      "taxbill_data/세금계산서_놀부전자.xlsx\n",
      "<Range [세금계산서_놀부전자.xlsx]자료입력페이지!$A$1:$IW$32>\n",
      "taxbill_data/세금계산서_콩쥐하이텍.xlsx\n",
      "<Range [세금계산서_콩쥐하이텍.xlsx]자료입력페이지!$A$1:$IW$32>\n",
      "taxbill_data/~$세금계산서_제비공업.xlsx\n"
     ]
    },
    {
     "ename": "FileNotFoundError",
     "evalue": "No such file: 'taxbill_data/~$세금계산서_제비공업.xlsx'",
     "output_type": "error",
     "traceback": [
      "\u001b[0;31m---------------------------------------------------------------------------\u001b[0m",
      "\u001b[0;31mFileNotFoundError\u001b[0m                         Traceback (most recent call last)",
      "Cell \u001b[0;32mIn[30], line 11\u001b[0m\n\u001b[1;32m      9\u001b[0m \u001b[39mfor\u001b[39;00m file \u001b[39min\u001b[39;00m files:\n\u001b[1;32m     10\u001b[0m     \u001b[39mprint\u001b[39m(file)\n\u001b[0;32m---> 11\u001b[0m     wb \u001b[39m=\u001b[39m xw\u001b[39m.\u001b[39;49mBook(file)\n\u001b[1;32m     12\u001b[0m     ws \u001b[39m=\u001b[39m wb\u001b[39m.\u001b[39msheets[\u001b[39m'\u001b[39m\u001b[39m자료입력페이지\u001b[39m\u001b[39m'\u001b[39m]\n\u001b[1;32m     13\u001b[0m     \u001b[39m# rng = ws.range('A1:J33') # \u001b[39;00m\n",
      "File \u001b[0;32m~/Library/Python/3.9/lib/python/site-packages/xlwings/main.py:927\u001b[0m, in \u001b[0;36mBook.__init__\u001b[0;34m(self, fullname, update_links, read_only, format, password, write_res_password, ignore_read_only_recommended, origin, delimiter, editable, notify, converter, add_to_mru, local, corrupt_load, impl, json, mode, engine)\u001b[0m\n\u001b[1;32m    925\u001b[0m     \u001b[39mif\u001b[39;00m \u001b[39mnot\u001b[39;00m app:\n\u001b[1;32m    926\u001b[0m         app \u001b[39m=\u001b[39m App(add_book\u001b[39m=\u001b[39m\u001b[39mFalse\u001b[39;00m)\n\u001b[0;32m--> 927\u001b[0m     impl \u001b[39m=\u001b[39m app\u001b[39m.\u001b[39;49mbooks\u001b[39m.\u001b[39;49mopen(\n\u001b[1;32m    928\u001b[0m         fullname,\n\u001b[1;32m    929\u001b[0m         update_links,\n\u001b[1;32m    930\u001b[0m         read_only,\n\u001b[1;32m    931\u001b[0m         \u001b[39mformat\u001b[39;49m,\n\u001b[1;32m    932\u001b[0m         password,\n\u001b[1;32m    933\u001b[0m         write_res_password,\n\u001b[1;32m    934\u001b[0m         ignore_read_only_recommended,\n\u001b[1;32m    935\u001b[0m         origin,\n\u001b[1;32m    936\u001b[0m         delimiter,\n\u001b[1;32m    937\u001b[0m         editable,\n\u001b[1;32m    938\u001b[0m         notify,\n\u001b[1;32m    939\u001b[0m         converter,\n\u001b[1;32m    940\u001b[0m         add_to_mru,\n\u001b[1;32m    941\u001b[0m         local,\n\u001b[1;32m    942\u001b[0m         corrupt_load,\n\u001b[1;32m    943\u001b[0m     )\u001b[39m.\u001b[39mimpl\n\u001b[1;32m    944\u001b[0m \u001b[39melif\u001b[39;00m \u001b[39mlen\u001b[39m(candidates) \u001b[39m>\u001b[39m \u001b[39m1\u001b[39m:\n\u001b[1;32m    945\u001b[0m     \u001b[39mraise\u001b[39;00m \u001b[39mException\u001b[39;00m(\n\u001b[1;32m    946\u001b[0m         \u001b[39m\"\u001b[39m\u001b[39mWorkbook \u001b[39m\u001b[39m'\u001b[39m\u001b[39m%s\u001b[39;00m\u001b[39m'\u001b[39m\u001b[39m is open in more than one Excel instance.\u001b[39m\u001b[39m\"\u001b[39m\n\u001b[1;32m    947\u001b[0m         \u001b[39m%\u001b[39m fullname\n\u001b[1;32m    948\u001b[0m     )\n",
      "File \u001b[0;32m~/Library/Python/3.9/lib/python/site-packages/xlwings/main.py:5048\u001b[0m, in \u001b[0;36mBooks.open\u001b[0;34m(self, fullname, update_links, read_only, format, password, write_res_password, ignore_read_only_recommended, origin, delimiter, editable, notify, converter, add_to_mru, local, corrupt_load, json)\u001b[0m\n\u001b[1;32m   5046\u001b[0m fullname \u001b[39m=\u001b[39m utils\u001b[39m.\u001b[39mfspath(fullname)\n\u001b[1;32m   5047\u001b[0m \u001b[39mif\u001b[39;00m \u001b[39mnot\u001b[39;00m os\u001b[39m.\u001b[39mpath\u001b[39m.\u001b[39mexists(fullname):\n\u001b[0;32m-> 5048\u001b[0m     \u001b[39mraise\u001b[39;00m \u001b[39mFileNotFoundError\u001b[39;00m(\u001b[39m\"\u001b[39m\u001b[39mNo such file: \u001b[39m\u001b[39m'\u001b[39m\u001b[39m%s\u001b[39;00m\u001b[39m'\u001b[39m\u001b[39m\"\u001b[39m \u001b[39m%\u001b[39m fullname)\n\u001b[1;32m   5049\u001b[0m fullname \u001b[39m=\u001b[39m os\u001b[39m.\u001b[39mpath\u001b[39m.\u001b[39mrealpath(fullname)\n\u001b[1;32m   5050\u001b[0m _, name \u001b[39m=\u001b[39m os\u001b[39m.\u001b[39mpath\u001b[39m.\u001b[39msplit(fullname)\n",
      "\u001b[0;31mFileNotFoundError\u001b[0m: No such file: 'taxbill_data/~$세금계산서_제비공업.xlsx'"
     ]
    }
   ],
   "source": [
    "import xlwings as xw\n",
    "import os, glob\n",
    "from datetime import datetime\n",
    "print(os.getcwd())\n",
    "\n",
    "today = datetime.today().strftime('%Y-%m-%d')\n",
    "files = glob.glob('taxbill_data/*.xlsx')\n",
    "\n",
    "for file in files:\n",
    "    print(file)\n",
    "    wb = xw.Book(file)\n",
    "    ws = wb.sheets['자료입력페이지']\n",
    "    rng = ws.range('A1:M50')\n",
    "    print(rng)\n",
    "    for cell in rng:\n",
    "        if cell.value == '작성일자(발행)':\n",
    "            print('찾았다!')\n",
    "            print(cell)\n",
    "            print(cell.offset(0,1))\n",
    "            break\n",
    "    # 작성일자(발행) 의 위치를 찾아서 그 오른쪽에 값을 넣으면 어떨까?\n",
    "    # 1 작성일자(발행)의 위치?? 를 찾자!\n",
    "    cell.offset(0,1).value = today\n",
    "    wb.save()\n",
    "    wb.close()\n"
   ]
  },
  {
   "cell_type": "code",
   "execution_count": 25,
   "metadata": {},
   "outputs": [
    {
     "ename": "IndentationError",
     "evalue": "expected an indented block (869608880.py, line 7)",
     "output_type": "error",
     "traceback": [
      "\u001b[0;36m  Cell \u001b[0;32mIn[25], line 7\u001b[0;36m\u001b[0m\n\u001b[0;31m    if cell.value == '작성일자(발행)':\u001b[0m\n\u001b[0m    ^\u001b[0m\n\u001b[0;31mIndentationError\u001b[0m\u001b[0;31m:\u001b[0m expected an indented block\n"
     ]
    }
   ],
   "source": [
    "    # 작성일자(발행) 의 위치를 찾아서 그 오른쪽에 값을 넣으면 어떨까?\n",
    "    # 1 작성일자(발행)의 위치?? 를 찾자!\n",
    "\n",
    "\n",
    "rng = ws.range('A1:J33')\n",
    "for cell in rng:\n",
    "    if cell.value == '작성일자(발행)':\n",
    "        print('찾았다!')\n",
    "        print(cell)"
   ]
  },
  {
   "cell_type": "code",
   "execution_count": 24,
   "metadata": {},
   "outputs": [
    {
     "name": "stdout",
     "output_type": "stream",
     "text": [
      "2023-10-25\n"
     ]
    }
   ],
   "source": [
    "from datetime import datetime\n",
    "print(datetime.today().strftime('%Y-%m-%d'))\n",
    "\n",
    "# datetime.today().strftime('%Y-%m-%d')\n",
    "# '2021-01-26'"
   ]
  }
 ],
 "metadata": {
  "kernelspec": {
   "display_name": "Python 3",
   "language": "python",
   "name": "python3"
  },
  "language_info": {
   "codemirror_mode": {
    "name": "ipython",
    "version": 3
   },
   "file_extension": ".py",
   "mimetype": "text/x-python",
   "name": "python",
   "nbconvert_exporter": "python",
   "pygments_lexer": "ipython3",
   "version": "3.9.6"
  },
  "orig_nbformat": 4
 },
 "nbformat": 4,
 "nbformat_minor": 2
}
