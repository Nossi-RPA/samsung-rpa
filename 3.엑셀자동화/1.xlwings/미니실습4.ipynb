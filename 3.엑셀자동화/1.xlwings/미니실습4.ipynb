{
 "cells": [
  {
   "attachments": {},
   "cell_type": "markdown",
   "metadata": {},
   "source": [
    "# 목표: total.xlsx에서 제품명 별로 sheet를 만들어서 해당 제품 데이터를 옮긴다.\n",
    "# 1. 여러 xlsx파일 합쳐서 total.xlsx 만들어야 한다. => 어제 완료\n",
    "# 2. 어떤 제품명들이 있는지 알아내야한다. => unique()\n",
    "# 3. 제품명별로 sheet 생성한다.(시트의 이름도 적절히 설정) => xlwings sheets.add()\n",
    "# 4. 특정 제품명에 해당되는 데이터만 필터링 해서 각 sheet에 옮겨준다. => concated_df[concated_df['제품명'] == '기계식 키보드']\n",
    "\n",
    "# 완료하신 분들은 추가적으로 \n",
    "# => 각 제품명별로 매출 합계 구하기 (DataFrame의 함수를 이용해서 - 검색을 통해)"
   ]
  },
  {
   "cell_type": "code",
   "execution_count": null,
   "metadata": {},
   "outputs": [],
   "source": []
  },
  {
   "cell_type": "code",
   "execution_count": 11,
   "metadata": {},
   "outputs": [
    {
     "data": {
      "text/plain": [
       "0      기계식 키보드\n",
       "1      게이밍 마우스\n",
       "2      게이밍 마우스\n",
       "3      기계식 키보드\n",
       "4      기계식 키보드\n",
       "5       마우스 패드\n",
       "6      기계식 키보드\n",
       "7     32인치 모니터\n",
       "8     32인치 모니터\n",
       "9       마우스 패드\n",
       "10      마우스 패드\n",
       "11     게이밍 마우스\n",
       "12      마우스 패드\n",
       "13     기계식 키보드\n",
       "14     게이밍 마우스\n",
       "15    32인치 모니터\n",
       "16      마우스 패드\n",
       "17     게이밍 마우스\n",
       "18    32인치 모니터\n",
       "19     게이밍 마우스\n",
       "20     게이밍 마우스\n",
       "Name: 제품명, dtype: object"
      ]
     },
     "execution_count": 11,
     "metadata": {},
     "output_type": "execute_result"
    }
   ],
   "source": [
    "import xlwings as xw\n",
    "import pandas as pd\n",
    "import glob\n",
    "import os\n",
    "\n",
    "wb = xw.Book('onlinesale_data/total.xlsx')\n",
    "ws = wb.sheets['Sheet1']\n",
    "df = ws.range('A1').expand().options(pd.DataFrame, index=False).value\n",
    "\n",
    "\n",
    "\n",
    "concated_df.reset_index(drop=True, inplace=True)\n",
    "\n",
    "if a > 7 or b > 1000  :\n",
    "\n",
    "# 2. 반복문으로 구현하기\n",
    "products = df['제품명'].uniqe()\n",
    "# 3. 시트 만들기 # 4\n",
    "for name in products:\n",
    "    wb.sheets.add(name)\n",
    "    wb.sheets[name].range('A1').options(index=False).value = df[(df['제품명'] == name) or (df['매출'] > 100000)]\n",
    "\n",
    "\n",
    "두개 조건을 충족하는 df는 어떻게 한 코드로 표현할 수 있나요? \n",
    "\n",
    "\n",
    "\n",
    "ws.range('A1').options(pd.DataFrame, index = False).value "
   ]
  }
 ],
 "metadata": {
  "kernelspec": {
   "display_name": "Python 3",
   "language": "python",
   "name": "python3"
  },
  "language_info": {
   "codemirror_mode": {
    "name": "ipython",
    "version": 3
   },
   "file_extension": ".py",
   "mimetype": "text/x-python",
   "name": "python",
   "nbconvert_exporter": "python",
   "pygments_lexer": "ipython3",
   "version": "3.9.6"
  },
  "orig_nbformat": 4
 },
 "nbformat": 4,
 "nbformat_minor": 2
}
