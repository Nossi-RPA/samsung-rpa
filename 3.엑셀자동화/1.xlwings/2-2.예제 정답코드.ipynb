{
 "cells": [
  {
   "cell_type": "code",
   "execution_count": null,
   "metadata": {},
   "outputs": [],
   "source": [
    "import xlwings as xw\n",
    "\n",
    "wb = xw.Book()\n",
    "\n",
    "departments = [\"Sales\", \"Tech\", \"HR\", \"Legal\", \"Media\", \"R&D\", \"Admin\", \"Ops\", \"Audit\", \"PR\"]\n",
    "\n",
    "# 목표1: 회사 부서명 별로 시트를 만들기 for in :\n",
    "for name in departments:\n",
    "    wb.sheets.add(name)\n",
    "    # wb.sheets.add(name, after='Sheet1')\n",
    "\n",
    "# 목표2: Sheet1의 name을 total로 변경하기\n",
    "wb.sheets['Sheet1'].name = 'total'\n",
    "\n",
    "# 목표3: 모든 Sheet 이름 출력하기\n",
    "for sheet in wb.sheets:\n",
    "    print(sheet.name)\n",
    "\n",
    "# 목표4: 'samsung.xlsx' 저장하고 종료하기 => \n",
    "wb.save('samsung_교육이수시간.xlsx')\n",
    "wb.close()\n",
    "\n",
    "# 빈껍데기가 남을때가 있다.\n",
    "xw.apps.active.quit()"
   ]
  }
 ],
 "metadata": {
  "language_info": {
   "name": "python"
  },
  "orig_nbformat": 4
 },
 "nbformat": 4,
 "nbformat_minor": 2
}
