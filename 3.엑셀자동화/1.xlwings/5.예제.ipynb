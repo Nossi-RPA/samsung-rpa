{
 "cells": [
  {
   "attachments": {},
   "cell_type": "markdown",
   "metadata": {},
   "source": [
    "# 목표: taxbill_data 디렉토리에 있는 모든 세금계산서 파일의 작성일자(발행)를 오늘 날짜로 '2023-11-08' 기입한다.\n",
    "\n",
    "# 하나의 파일에 대해서 작성일자 수정해보기\n",
    "1. taxbill_data/세금계산서_놀부전자.xlsx 연다.  xw.Book()\n",
    "2. 작성일자(발행) 란에 오늘 날짜 입력하기 : ws.range('C14').value = '2023-11-08'\n",
    "3. 저장/닫기 : wb.save(), wb.close()\n",
    "\n",
    "# 모든 파일에 대해서 작성일자 수정해보기\n",
    "os.listdir()\n",
    "\n",
    "glob.glob([!~])\n",
    "\n",
    "for in 반복문으로 1~3 반복하기\n",
    "\n",
    "# 개선:\n",
    "1. 2023-11-08'대신 오늘날짜를 알려주는 라이브러리 적용하기 datetime, time\n",
    "2. 작성일자(발행)의 셀 위치가 다르다면 어떻게 해결할지 생각해보기"
   ]
  },
  {
   "cell_type": "code",
   "execution_count": 10,
   "metadata": {},
   "outputs": [],
   "source": [
    "import xlwings as xw\n",
    "import glob\n",
    "from datetime import datetime\n",
    "\n",
    "today = datetime.today().strftime('%Y-%m-%d')\n",
    "\n",
    "files = glob.glob('taxbill_data/세금계산서*.xlsx')\n",
    "for file in files:\n",
    "    wb = xw.Book(file)\n",
    "    ws = wb.sheets['자료입력페이지']\n",
    "    rng = ws.range('A1:K50')\n",
    "    for cell in rng:\n",
    "        if cell.value == '작성일자(발행)':\n",
    "            cell.offset(0,1).value = today\n",
    "            \n",
    "    wb.save()\n",
    "    xw.apps.active.quit()\n",
    "\n",
    "\n",
    "\n"
   ]
  },
  {
   "cell_type": "code",
   "execution_count": 6,
   "metadata": {},
   "outputs": [
    {
     "name": "stdout",
     "output_type": "stream",
     "text": [
      "2023-11-08\n"
     ]
    }
   ],
   "source": [
    "\n",
    "print(today)"
   ]
  },
  {
   "cell_type": "code",
   "execution_count": 17,
   "metadata": {},
   "outputs": [],
   "source": [
    "\n",
    "\n",
    "\n",
    "\n",
    "\n",
    "\n",
    "\n",
    "import xlwings as xw\n",
    "import os, glob\n",
    "from datetime import datetime\n",
    "\n",
    "today = datetime.today().strftime('%Y-%m-%d')\n",
    "\n",
    "xlsx_files = glob.glob('taxbill_data/세금계산서*.xlsx')\n",
    "for file_path in xlsx_files:\n",
    "    wb = xw.Book(file_path)\n",
    "    ws = wb.sheets['자료입력페이지']\n",
    "    used_cells = ws.range('A1:M40')\n",
    "    for cell in used_cells:\n",
    "        if cell.value == '작성일자(발행)':\n",
    "            cell.offset(0,1).value = today\n",
    "\n",
    "    # wb.save()"
   ]
  },
  {
   "cell_type": "code",
   "execution_count": 18,
   "metadata": {},
   "outputs": [],
   "source": [
    "import xlwings as xw\n",
    "import glob\n",
    "import datetime\n",
    "\n",
    "today = datetime.date.today().strftime(\"%Y-%m-%d\")\n",
    "\n",
    "xlsx_files = glob.glob('taxbill_data/[!~$]*.xlsx')\n",
    "print(xlsx_files)\n",
    "\n",
    "for file_path in xlsx_files:\n",
    "    wb = xw.Book(file_path)\n",
    "    ws = wb.sheets['자료입력페이지']\n",
    "    for cell in ws.range('A1:J32'):\n",
    "        if cell.value == '작성일자(발행)':\n",
    "            cell.offset(0,1).value = today\n",
    "    wb.save()\n",
    "\n",
    "# for cell in ws.range('A1:J32'):\n",
    "#     if cell.value == '작성일자(발행)':\n",
    "#         cell.offset(0,1).value = today\n"
   ]
  },
  {
   "cell_type": "code",
   "execution_count": 23,
   "metadata": {},
   "outputs": [],
   "source": [
    "import xlwings as xw\n",
    "import os\n",
    "from datetime import date\n",
    "\n",
    "today = date.today()\n",
    "xlsx_files = os.listdir('taxbill_data')\n",
    "\n",
    "for file_name in xlsx_files:\n",
    "    if '.xlsx' in file_name and '~$' not in file_name:\n",
    "        wb = xw.Book(f'taxbill_data/{file_name}')\n",
    "        ws = wb.sheets['자료입력페이지']\n",
    "\n",
    "        for cell in ws.range('A1:M45'):\n",
    "            if cell.value == '작성일자(발행)':\n",
    "                cell.offset(0, 1).value = today\n",
    "\n",
    "        wb.save()\n",
    "xw.apps.active.quit()\n",
    "\n",
    "\n",
    "\n"
   ]
  },
  {
   "cell_type": "code",
   "execution_count": 26,
   "metadata": {},
   "outputs": [],
   "source": [
    "xw.apps.active.quit()"
   ]
  },
  {
   "cell_type": "code",
   "execution_count": 43,
   "metadata": {},
   "outputs": [],
   "source": [
    "import xlwings as xw\n",
    "import glob, os\n",
    "from datetime import datetime\n",
    "\n",
    "today = datetime.now().strftime(\"%Y-%m-%d\")\n",
    "\n",
    "xlsx_files = os.listdir('./taxbill_data')\n",
    "\n",
    "for file_name in xlsx_files:\n",
    "    if '.xlsx' in file_name and '~$' not in file_name:\n",
    "        wb = xw.Book(file_name)\n",
    "        ws = wb.sheets['자료입력페이지']\n",
    "        ws.range('C14').value = today\n",
    "        wb.save()\n",
    "\n",
    "wb = xw.Book('세금계산서_new.xlsx')\n",
    "ws = wb.sheets['자료입력페이지']\n",
    "used_range = ws.used_range\n",
    "for cell in used_range:\n",
    "    if cell.value == '작성일자(발행)':\n",
    "        cell.offset(0,1).value = today\n"
   ]
  },
  {
   "cell_type": "code",
   "execution_count": 10,
   "metadata": {},
   "outputs": [
    {
     "name": "stdout",
     "output_type": "stream",
     "text": [
      "2023-06-21\n"
     ]
    }
   ],
   "source": [
    "import datetime\n",
    "\n",
    "today = datetime.date.today().strftime(\"%Y-%m-%d\")\n",
    "\n",
    "\n",
    "print(today)\n"
   ]
  }
 ],
 "metadata": {
  "kernelspec": {
   "display_name": "Python 3",
   "language": "python",
   "name": "python3"
  },
  "language_info": {
   "codemirror_mode": {
    "name": "ipython",
    "version": 3
   },
   "file_extension": ".py",
   "mimetype": "text/x-python",
   "name": "python",
   "nbconvert_exporter": "python",
   "pygments_lexer": "ipython3",
   "version": "3.9.6"
  },
  "orig_nbformat": 4
 },
 "nbformat": 4,
 "nbformat_minor": 2
}
