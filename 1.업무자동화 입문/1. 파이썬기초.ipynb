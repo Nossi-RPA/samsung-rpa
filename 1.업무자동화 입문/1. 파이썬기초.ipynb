{
 "cells": [
  {
   "attachments": {},
   "cell_type": "markdown",
   "id": "a2b2e1ac",
   "metadata": {},
   "source": [
    "# 파이썬 필수 내용"
   ]
  },
  {
   "attachments": {},
   "cell_type": "markdown",
   "id": "71ab96a5",
   "metadata": {},
   "source": [
    "## 리스트\n",
    "* 리스트의 정의\n",
    "  * 여러 변수들을 일련변호로 저장\n",
    "  * 파이썬에서 리스트는 대괄호 [ ]를 이용해서 만들 수 있음"
   ]
  },
  {
   "cell_type": "code",
   "execution_count": null,
   "id": "5a104dd1",
   "metadata": {},
   "outputs": [],
   "source": [
    "scores = [97, 81, 34, 15, 75] # 리스트\n",
    "print(scores)"
   ]
  },
  {
   "cell_type": "markdown",
   "id": "5cd3d0d4",
   "metadata": {},
   "source": [
    "* 리스트 항목 접근\n",
    "  * 리스트에서 데이터를 추출하려면 인덱스index라는 정수를 사용함\n",
    "  * 리스트의 첫 번째 데이터는 인덱스 0을, 두 번째 요소는 인덱스 1을 가지게 되며, 나머지 요소들도 유사하게 인덱스가 할당됨"
   ]
  },
  {
   "cell_type": "code",
   "execution_count": null,
   "id": "a5185f1b",
   "metadata": {},
   "outputs": [],
   "source": [
    "scores[0]\n",
    "scores[1]\n",
    "scores[-1]\n",
    "scores[3]=50"
   ]
  },
  {
   "cell_type": "markdown",
   "id": "6aaf035e",
   "metadata": {},
   "source": [
    "* 슬라이싱\n",
    "  * 리스트에서 여러 요소를 선택해서 새로운 리스트를 만들고 싶다면, 슬라이싱slicing이라고 하는 기능을 사용할 수 있음"
   ]
  },
  {
   "cell_type": "code",
   "execution_count": null,
   "id": "40a99521",
   "metadata": {},
   "outputs": [],
   "source": [
    "letters=['A', 'B', 'C', 'D', 'E', 'F']\n",
    "letters[2:5]\n",
    "letters[3:]\n",
    "letters[:]\n",
    "letters[::2]\n",
    "letters[::-1] # 뒤에서부터 앞으로 읽어오며 원소를 생성한다."
   ]
  },
  {
   "cell_type": "markdown",
   "id": "caeed882",
   "metadata": {},
   "source": [
    "* 리스트 내부 함수"
   ]
  },
  {
   "cell_type": "code",
   "execution_count": null,
   "id": "7400ded3",
   "metadata": {},
   "outputs": [],
   "source": [
    "scores.sort() # in-place\n",
    "scores.sort(reverse=True)\n",
    "scores.append(84)\n",
    "scores.clear()"
   ]
  },
  {
   "cell_type": "markdown",
   "id": "746af831",
   "metadata": {},
   "source": [
    "*  리스트 사용 가능한 함수\n",
    "  * 리스트에 다음과 같은 수치값이 있을 경우 len(), max(), min(), sum() 등의 내장함수를 사용하여 편리하게 활용할 수 있음\n",
    "  * len()은 리스트의 길이를 반환하며, max()는 리스트 항목중 최댓값, min()은 리스트 항목중 최솟값을 반환함\n"
   ]
  },
  {
   "cell_type": "code",
   "execution_count": null,
   "id": "d53234d9",
   "metadata": {},
   "outputs": [],
   "source": [
    "len(scores)\n",
    "max(scores)\n",
    "min(scores)\n",
    "sum(scores)\n",
    "sorted(scores)"
   ]
  },
  {
   "cell_type": "markdown",
   "id": "8ff7a330",
   "metadata": {},
   "source": [
    "* 리스트 탐색\n",
    "  * 반복문을 활용하면 리스트의 모든 항목을 한 번씩 방문하여 출력할 수 있음"
   ]
  },
  {
   "cell_type": "code",
   "execution_count": null,
   "id": "0bfedc0f",
   "metadata": {},
   "outputs": [],
   "source": [
    "for score in scores:\n",
    "    print(score)"
   ]
  },
  {
   "cell_type": "markdown",
   "id": "5b632388",
   "metadata": {},
   "source": [
    "* 이중리스트"
   ]
  },
  {
   "cell_type": "code",
   "execution_count": null,
   "id": "4f47766a",
   "metadata": {},
   "outputs": [],
   "source": [
    "slist1=[['Kim', 178.9], ['Park', 173.5], ['Lee', 176.1]]\n",
    "slist1"
   ]
  },
  {
   "attachments": {},
   "cell_type": "markdown",
   "id": "2ea77d17",
   "metadata": {},
   "source": [
    "## 튜플\n",
    "* 튜플은 값을 고칠 수 없는 자료형\n",
    "  * 튜플은 ( ) 와 같이 정의"
   ]
  },
  {
   "cell_type": "markdown",
   "id": "b150df8f",
   "metadata": {},
   "source": [
    "  * 튜플도 시퀀스의 일종이기 때문에 인덱싱과 슬라이싱은 문자열이나 리스트와 동일하게 동작함\n",
    "  * 한 번 생성된 튜플의 요소는 변경, 추가, 삭제가 불가능합니다."
   ]
  },
  {
   "cell_type": "code",
   "execution_count": null,
   "id": "3abf7cbb",
   "metadata": {},
   "outputs": [],
   "source": [
    "numbers = (1, 2, 3, 4, 5)\n",
    "numbers[2]"
   ]
  },
  {
   "attachments": {},
   "cell_type": "markdown",
   "id": "334217c9",
   "metadata": {},
   "source": [
    "## 딕셔너리\n",
    "* 딕셔너리의 개념\n",
    "  * key, value 쌍을 저장\n",
    "* 딕셔너리 정의\n",
    "  * 공백 딕셔너리는 중괄호 { }로 생성"
   ]
  },
  {
   "cell_type": "code",
   "execution_count": null,
   "id": "1208734e",
   "metadata": {},
   "outputs": [],
   "source": [
    "scores = { }     # 공백 딕셔너리를 생성\n",
    "scores = {'박다은': 97, '남영욱': 81, '노정호': 34, '배준석': 15, '정재헌': 75} # dictionary"
   ]
  },
  {
   "cell_type": "markdown",
   "id": "044309a0",
   "metadata": {},
   "source": [
    "  *  리스트와 마찬가지로 딕셔너리에는 어떤 유형의 값도 저장할 수 있음"
   ]
  },
  {
   "cell_type": "code",
   "execution_count": null,
   "id": "cd00a2ea",
   "metadata": {},
   "outputs": [],
   "source": [
    "person={'Name': '홍길동', 'Age': 27, 'Class': '초급'}\n",
    "print(person['Name'])   # 딕셔너리의 'Name'이라는 키로 값을 조회함 \n",
    "print(person['Age'])    # 딕셔너리의 'Age'이라는 키로 값을 조화함 "
   ]
  },
  {
   "attachments": {},
   "cell_type": "markdown",
   "id": "339b3cd2",
   "metadata": {},
   "source": [
    "## 문자열"
   ]
  },
  {
   "cell_type": "code",
   "execution_count": null,
   "id": "2d00a8e6",
   "metadata": {},
   "outputs": [],
   "source": [
    "if 'text' in 'text.txt':\n",
    "    print('포함')"
   ]
  },
  {
   "cell_type": "code",
   "execution_count": null,
   "id": "0f3c05e4",
   "metadata": {},
   "outputs": [],
   "source": [
    "age = 15\n",
    "\n",
    "print('나의 나이는 15살 입니다.')\n",
    "print(f'나의 나이는 {age}살 입니다.')\n"
   ]
  },
  {
   "attachments": {},
   "cell_type": "markdown",
   "id": "38be3985",
   "metadata": {},
   "source": [
    "## if 문\n",
    "* if문의 구조  \n",
    "  * if문은 다음과 같이 구성됨\n",
    "\n",
    "\n",
    "    if 조건식:\n",
    "          실행할 내용\n",
    "          \n",
    "\n",
    "    * 조건식은 어떤 조건condition을 만족하는지 그렇지 않은지를 판정하는 식을 의미하며, 참(true) 또는 거짓(false)의 값을 갖는 부울bool형으로 평가됨 \n",
    "  \n",
    "    * 조건식이 참인 경우 실행이 되고 그렇지 않으면 건너뜀"
   ]
  },
  {
   "attachments": {},
   "cell_type": "markdown",
   "id": "c94cd499",
   "metadata": {},
   "source": [
    "* 비교 연산자\n",
    "  * ‘크다’ 혹은 ‘작다’와 같은 비교 연산은 수치 데이터를 담고 있는 두 개의 피연산자를 대상으로 크기 관계를 살펴봄 \n",
    "  * True 혹은 False 부울bool형으로  반환함\n",
    "  * 비교 연산자comparison operator의 종류 (a=100, b=200)\n",
    "    * ==(두 피연산자의 값이 같으면 True를 반환); a==b는 Flase\n",
    "    * !=(두 피연산자의 값이 다르면 True를 반환); a!=b는 True\n",
    "    * \\> (왼쪽 피연산자가 오른쪽 피연산자보다 클 때 True를 반환); a>b는 Flase\n",
    "    * \\< (왼쪽 피연산자가 오른쪽 피연산자보다 작을 때 True를 반환); a<b는 True\n",
    "    * \\>= (왼쪽 피연산자가 오른쪽 피연산자보다 크거나 같을 때 True를 반환); a>=b는 Flase\n",
    "    * \\<= (왼쪽 피연산자가 오른쪽 피연산자보다 작거나 같을 때 True를 반환); a<=b는 True"
   ]
  },
  {
   "cell_type": "code",
   "execution_count": null,
   "id": "dec9e930",
   "metadata": {},
   "outputs": [],
   "source": [
    "a, b = 100, 200 #a에는 100, b에는 200을 할당하는 동시할당문\n",
    "a == b # => False\n",
    "a != b # => True\n",
    "a >= b # => False\n",
    "a <= b # => True\n"
   ]
  },
  {
   "attachments": {},
   "cell_type": "markdown",
   "id": "9d77df66",
   "metadata": {},
   "source": [
    "* 논리 연산자\n",
    "  * and, or, not 논리 연산자logical operator \n",
    "  * 논리 and, or, not 연산을 통해 True나 False 중 하나의 값을 가지는 부울bool 값을 반환\n",
    "    * x and y: x와 y 중 거짓(False)이 하나라도 있으면 거짓이 되며 모두 참(True)인 경우에만 참이다.\n",
    "    * x or y: x와 y 중 하나라도 참이면 참이 되며, 모두 거짓일 때만 거짓이 된다.\n",
    "    * not x: x가 참이면 거짓, x가 거짓이면 참이 된다."
   ]
  },
  {
   "cell_type": "code",
   "execution_count": null,
   "id": "493cc8f7",
   "metadata": {},
   "outputs": [],
   "source": [
    "a < b or b == 300\n",
    "a < b and b == 300"
   ]
  },
  {
   "attachments": {},
   "cell_type": "markdown",
   "id": "f1a1aa34",
   "metadata": {},
   "source": [
    "* 들여쓰기\n",
    "  * 들여쓰기를 이용하여서 문장들을 묶을 수 있음 --> 들여쓰기한 위치가 같으면 동일한 블록block에 속해 있음을 의미\n",
    "  * if문은 조건식이 참인 경우 콜론 뒤에 오는 블록을 모두 실행함"
   ]
  },
  {
   "cell_type": "code",
   "execution_count": null,
   "id": "f92aaa62",
   "metadata": {},
   "outputs": [],
   "source": [
    "score=int(input(\"점수를 입력하시오:\"))\n",
    "\n",
    "if score >= 90:\n",
    "    print('점수:', score)\n",
    "    print('합격')\n",
    "elif score >= 80:\n",
    "    print('점수:', score)\n",
    "    print('재시험')\n",
    "else:\n",
    "    print('점수:', score)\n",
    "    print('불합격')\n"
   ]
  },
  {
   "attachments": {},
   "cell_type": "markdown",
   "id": "026e1a0c",
   "metadata": {},
   "source": [
    "* 논리 연산자와 활용\n",
    "  * 논리 연산자와 활용\n",
    "    * 두 조건이 동시에 만족되는지 평가하는 조건식: (조건1) and (조건2)\n",
    "    * 두 조건 중 하나 이상이 만족되는지 평가하는 조건식: (조건1) or (조건2)\n",
    "    * (실습1) 입력 받은 양의 정수가 짝수이면서 10보다 작은지 확인"
   ]
  },
  {
   "cell_type": "code",
   "execution_count": null,
   "id": "9adbd4c2",
   "metadata": {},
   "outputs": [],
   "source": [
    "num=int(input(\"점수를 입력하시오:\"))\n",
    "\n",
    "if (num % 2 ==0) and (num < 10):\n",
    "    print(\"짝수이면서 10보다 작습니다.\")\n",
    "elif (num % 2 ==0):\n",
    "    print(\"짝수이면서 10보다 큽니다.\")\n",
    "else:\n",
    "    print(\"홀수입니다.\")"
   ]
  },
  {
   "attachments": {},
   "cell_type": "markdown",
   "id": "656ef743",
   "metadata": {},
   "source": [
    "## 반복문"
   ]
  },
  {
   "cell_type": "code",
   "execution_count": null,
   "id": "17d4ddd5",
   "metadata": {},
   "outputs": [],
   "source": [
    "# for in\n",
    "\n",
    "for number in [1, 2, 3, 4, 5]:\n",
    "    print(number)"
   ]
  },
  {
   "cell_type": "markdown",
   "id": "add53b43",
   "metadata": {},
   "source": [
    "* range() 함수\n",
    "  * range(start, stop, step) start에서 시작 (stop-1)까지 step 간격으로 정수들이 생성됨"
   ]
  },
  {
   "cell_type": "code",
   "execution_count": null,
   "id": "3bb27115",
   "metadata": {},
   "outputs": [],
   "source": [
    "for i in range(100):\n",
    "    print('어서오세요', i)"
   ]
  },
  {
   "cell_type": "code",
   "execution_count": null,
   "id": "87401552",
   "metadata": {},
   "outputs": [],
   "source": [
    "for num in range(1,101):\n",
    "    print('어서오세요', i)"
   ]
  },
  {
   "cell_type": "code",
   "execution_count": null,
   "id": "f6711183",
   "metadata": {},
   "outputs": [],
   "source": [
    "for i in range(2, 100, 3): \n",
    "    print('어서오세요', i)"
   ]
  },
  {
   "cell_type": "code",
   "execution_count": null,
   "id": "771937db",
   "metadata": {},
   "outputs": [],
   "source": [
    "for i in range(10, 0, -1): # 10부터 1까지 내림차순\n",
    "    print('어서오세요', i)"
   ]
  },
  {
   "attachments": {},
   "cell_type": "markdown",
   "id": "de927deb",
   "metadata": {},
   "source": [
    "* 문자열 활용\n",
    "  * 문자열 적용 가능"
   ]
  },
  {
   "cell_type": "code",
   "execution_count": null,
   "id": "505f8cb5",
   "metadata": {},
   "outputs": [],
   "source": [
    "for i in \"Hello\":   # 끝에 :이 있어야 함\n",
    "    print(\"i=\", i)  # i 값을 출력해보자"
   ]
  },
  {
   "attachments": {},
   "cell_type": "markdown",
   "id": "0297c01c",
   "metadata": {},
   "source": [
    "## 함수\n",
    "\n",
    "* def 예약어를 활용한 함수 정의\n",
    "  * 함수 안으로 값(정보)을 전달 --> 인자argument라고 함\n",
    "  * 함수가 보내는 값 --> 반환 값return value이라고 함"
   ]
  },
  {
   "cell_type": "code",
   "execution_count": null,
   "id": "1d789d65",
   "metadata": {},
   "outputs": [],
   "source": [
    "score1 = 97\n",
    "score2 = 83\n",
    "score3 = 35\n",
    "score4 = 57\n",
    "score5 = 99\n",
    "\n",
    "def test_result(score, name = '이름미정' ):\n",
    "    if score >= 90:\n",
    "        print(name + '점수:', score)\n",
    "        print('합격')\n",
    "    elif score >= 80:\n",
    "        print(name +'점수:', score)\n",
    "        print('재시험')\n",
    "    else:\n",
    "        print(name +'점수:', score)\n",
    "        print('불합격')\n",
    "\n",
    "test_result(score1, 'nossi')\n",
    "test_result(score2)\n",
    "test_result(name = 'nick', score = score3)\n"
   ]
  },
  {
   "attachments": {},
   "cell_type": "markdown",
   "id": "1a210e1f",
   "metadata": {},
   "source": [
    "## 클래스"
   ]
  },
  {
   "cell_type": "code",
   "execution_count": 5,
   "id": "af052ed8",
   "metadata": {},
   "outputs": [],
   "source": [
    "class Car:\n",
    "    def __init__(self, brand, model, max_speed=100):\n",
    "        self.brand = brand\n",
    "        self.model = model\n",
    "        self.max_speed = max_speed\n",
    "        self.current_speed = 0\n",
    "\n",
    "    def accelerate(self, amount):\n",
    "        self.current_speed += amount\n",
    "        if self.current_speed > self.max_speed:\n",
    "            self.current_speed = self.max_speed\n",
    "\n",
    "    def brake(self, amount):\n",
    "        self.current_speed -= amount\n",
    "        if self.current_speed < 0:\n",
    "            self.current_speed = 0\n",
    "\n",
    "    def status(self):\n",
    "        print(f\"{self.brand} {self.model} is running at {self.current_speed} km/h.\")"
   ]
  },
  {
   "cell_type": "code",
   "execution_count": null,
   "id": "9efedb90",
   "metadata": {},
   "outputs": [],
   "source": [
    "my_car = Car('Hyundai', '소나타')\n",
    "my_car.status()\n",
    "my_car.accelerate(30)\n",
    "my_car.status()\n",
    "my_car.brake(15)\n",
    "my_car.status()"
   ]
  },
  {
   "cell_type": "code",
   "execution_count": null,
   "id": "8b535c94",
   "metadata": {},
   "outputs": [],
   "source": [
    "my_car2 = Car('Porsche', '911', 150)\n",
    "my_car2.status()\n",
    "my_car2.accelerate(130)\n",
    "my_car2.status()\n",
    "my_car2.brake(70)\n",
    "my_car2.status()"
   ]
  },
  {
   "cell_type": "code",
   "execution_count": null,
   "id": "a5c5f460",
   "metadata": {},
   "outputs": [],
   "source": [
    "my_car.status()\n",
    "my_car2.status()"
   ]
  },
  {
   "attachments": {},
   "cell_type": "markdown",
   "id": "30cb1acf",
   "metadata": {},
   "source": [
    "## 모듈\n",
    "* random 모듈의 기능\n",
    "  * 모듈은 Python 코드가 포함된 파일로, .py 확장자를 가집니다.\n",
    "  * 모듈은 변수, 함수, 클래스 등 다양한 Python 객체를 포함할 수 있습니다.\n",
    "  * 다른 Python 코드에서 import 문을 사용하여 모듈을 가져와 사용할 수 있습니다."
   ]
  },
  {
   "cell_type": "code",
   "execution_count": null,
   "id": "4611e542",
   "metadata": {},
   "outputs": [],
   "source": [
    "import vehicle\n",
    "\n",
    "print(vehicle.DEFAULT_MAX_SPEED)\n",
    "print(vehicle.drive(distance=150, hours=2))\n",
    "new_car = vehicle.Car('Benz', 'E-class', 130)\n",
    "new_car.status()"
   ]
  },
  {
   "attachments": {},
   "cell_type": "markdown",
   "id": "392412d3",
   "metadata": {},
   "source": [
    "## 패키지(package)\n",
    "* 패키지(package) 여러 모듈을 묶은 것\n",
    "## 라이브러리 (Library)\n",
    "\n",
    "* 라이브러리는 특정 작업을 수행하기 위해 사용되는 모듈과 패키지의 집합입니다.\n",
    "* Python에서 라이브러리는 여러 모듈과 패키지를 포함하는 큰 코드 집합을 의미합니다. 때때로, \"라이브러리\"라는 용어는 하나의 모듈을 지칭하기도 합니다."
   ]
  },
  {
   "cell_type": "markdown",
   "id": "d4af64c7",
   "metadata": {},
   "source": []
  }
 ],
 "metadata": {
  "kernelspec": {
   "display_name": "Python 3 (ipykernel)",
   "language": "python",
   "name": "python3"
  },
  "language_info": {
   "codemirror_mode": {
    "name": "ipython",
    "version": 3
   },
   "file_extension": ".py",
   "mimetype": "text/x-python",
   "name": "python",
   "nbconvert_exporter": "python",
   "pygments_lexer": "ipython3",
   "version": "3.9.6"
  }
 },
 "nbformat": 4,
 "nbformat_minor": 5
}
